{
  "nbformat": 4,
  "nbformat_minor": 0,
  "metadata": {
    "colab": {
      "name": "Bangla-Handwritten-Digit-Recognizer-DeepNN",
      "provenance": [],
      "collapsed_sections": [],
      "toc_visible": true
    },
    "kernelspec": {
      "name": "python3",
      "display_name": "Python 3"
    },
    "accelerator": "GPU"
  },
  "cells": [
    {
      "cell_type": "markdown",
      "metadata": {
        "id": "O6bGc9OmeB_A"
      },
      "source": [
        "# **Problem #1**\n",
        "\n",
        "*   Apply only **Neural Network / Deep Neural Network** for the **NumtaDB** dataset and build a multiclass classification model that can recognize `[0-9]` Bengali handwritten digits with different hyperparameter settings.  "
      ]
    },
    {
      "cell_type": "markdown",
      "metadata": {
        "id": "V0VoWIlrD_Ol"
      },
      "source": [
        "##Introduction"
      ]
    },
    {
      "cell_type": "markdown",
      "metadata": {
        "id": "7bnPFB-osu6A"
      },
      "source": [
        "Recognizing handwritten digits is not an easy task. Rather, humans are quite good at making sense of what our eyes show us. But nearly all that work is done unconsciously. And so we don't usually appreciate how tough a problem our visual systems solve.\n",
        "\n",
        "\n",
        "In this experiment we are going to use **Deep neural network** to recognize Bengali handwritten digits. Neural networks are also **called feedforward neural networks** where the output from one layer is used as input to the next layer. This means there are no loops in the network - information is always fed forward, never fed back. This is the type of approach we are going to take. There may be multiple hidden layers in between the input and the output. If there is only one/two hidden layers it is called a **shallow neural network**. \n"
      ]
    },
    {
      "cell_type": "markdown",
      "metadata": {
        "id": "t7PhAOZs3Cu3"
      },
      "source": [
        "For example, the following **two-layer network** has ***two*** **hidden layers**: \n",
        "\n",
        "<div align=\"center\">\n",
        "<img src=\"https://drive.google.com/uc?export=view&id=166QVjs64g0Q1KsxiokYQNTHbGyBlydOT\" width=\"500\">\n",
        "</div>\n",
        "\n",
        "The following steps occur in this neural network:\n",
        "\n",
        "\n",
        "*   Input is passed through the 1st hidden layer.\n",
        "*   The 1st hidden layers is connected to all the nodes of the input layer which then computes output and passes to the 2nd hidden layer.\n",
        "*   The 2nd hidden layer computes output and passed to the final output layer which gives a final result.\n",
        "\n"
      ]
    },
    {
      "cell_type": "markdown",
      "metadata": {
        "id": "dMKDZm4hj6d1"
      },
      "source": [
        "The dataset we'll be using is the  **NumtaDB: Bengali Handwritten Digits** dataset, a dataset of 28x28 black and white images consisting of handwritten Bengali digits, 0 to 9. It contains 5 training samples with different types of black and white images. \n",
        "<div align=\"center\">\n",
        "<img src=\"https://drive.google.com/uc?export=view&id=1YIyqdg82RnrQM5pfKidLtWHdpOiGJ3nN\" width=\"500\">\n",
        "</div>\n",
        "\n",
        "**Dataset Link:** https://www.kaggle.com/BengaliAI/numta/\n",
        "\n",
        "\n",
        "\n",
        "\n",
        "\n",
        "\n",
        "\n",
        "**Data Processing**\n",
        "\n",
        "Let's start by importing all of the modules we'll need. The main ones we need to import are:\n",
        "- torch for general PyTorch functionality\n",
        "- torch.nn and torch.nn.functional for neural network based functions\n",
        "- torch vision is a part of PyTorch which consists of popular datasets,model, architectures and frequently used for image transformation.\n",
        "- torchvision.transforms for data augmentation.\n",
        "- torchvision.datasets for loading the dataset\n",
        "- torch.optim for our optimizer which will update the parameters of our neural network\n",
        "- torch.utils.data and torch.utils.data.sampler for handling the dataset  \n",
        "- matplotlib for plotting\n",
        "- PIL is python imaging library used to handle images."
      ]
    },
    {
      "cell_type": "code",
      "metadata": {
        "id": "zw2O5TPXj5n7"
      },
      "source": [
        "import torch\n",
        "import torch.nn as nn\n",
        "import torch.nn.functional as F\n",
        "import torchvision\n",
        "import torchvision.transforms as transforms\n",
        "import torchvision.datasets as dsets\n",
        "import torch.optim as optim\n",
        "from torch.utils.data import Dataset\n",
        "from torch.utils.data.sampler import SubsetRandomSampler\n",
        "from torchvision import datasets, transforms, models\n",
        "import matplotlib\n",
        "import matplotlib.pyplot as plt\n",
        "from PIL import Image\n",
        "import numpy as np"
      ],
      "execution_count": null,
      "outputs": []
    },
    {
      "cell_type": "markdown",
      "metadata": {
        "id": "C4R6x4MvEsOT"
      },
      "source": [
        "## Loading and Procesing NumtaDB Dataset\n"
      ]
    },
    {
      "cell_type": "markdown",
      "metadata": {
        "id": "5lP3c6zMYU8z"
      },
      "source": [
        "**Importing Dataset From Kaggle**\n",
        "\n",
        "This dataset is available in kaggle, which helps us to train and use the dataset faster."
      ]
    },
    {
      "cell_type": "code",
      "metadata": {
        "colab": {
          "base_uri": "https://localhost:8080/"
        },
        "id": "R3fc1FL4RMYl",
        "outputId": "7672d0f1-5723-4f23-bbf8-48edacfe93d2"
      },
      "source": [
        "!pip install kaggle"
      ],
      "execution_count": null,
      "outputs": [
        {
          "output_type": "stream",
          "text": [
            "Requirement already satisfied: kaggle in /usr/local/lib/python3.7/dist-packages (1.5.10)\n",
            "Requirement already satisfied: urllib3 in /usr/local/lib/python3.7/dist-packages (from kaggle) (1.24.3)\n",
            "Requirement already satisfied: certifi in /usr/local/lib/python3.7/dist-packages (from kaggle) (2020.12.5)\n",
            "Requirement already satisfied: tqdm in /usr/local/lib/python3.7/dist-packages (from kaggle) (4.41.1)\n",
            "Requirement already satisfied: python-dateutil in /usr/local/lib/python3.7/dist-packages (from kaggle) (2.8.1)\n",
            "Requirement already satisfied: six>=1.10 in /usr/local/lib/python3.7/dist-packages (from kaggle) (1.15.0)\n",
            "Requirement already satisfied: python-slugify in /usr/local/lib/python3.7/dist-packages (from kaggle) (4.0.1)\n",
            "Requirement already satisfied: requests in /usr/local/lib/python3.7/dist-packages (from kaggle) (2.23.0)\n",
            "Requirement already satisfied: text-unidecode>=1.3 in /usr/local/lib/python3.7/dist-packages (from python-slugify->kaggle) (1.3)\n",
            "Requirement already satisfied: chardet<4,>=3.0.2 in /usr/local/lib/python3.7/dist-packages (from requests->kaggle) (3.0.4)\n",
            "Requirement already satisfied: idna<3,>=2.5 in /usr/local/lib/python3.7/dist-packages (from requests->kaggle) (2.10)\n"
          ],
          "name": "stdout"
        }
      ]
    },
    {
      "cell_type": "code",
      "metadata": {
        "colab": {
          "resources": {
            "http://localhost:8080/nbextensions/google.colab/files.js": {
              "data": "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",
              "ok": true,
              "headers": [
                [
                  "content-type",
                  "application/javascript"
                ]
              ],
              "status": 200,
              "status_text": "OK"
            }
          },
          "base_uri": "https://localhost:8080/",
          "height": 94
        },
        "id": "8j1WBLpWRjNp",
        "outputId": "b6b20916-76ac-436a-f6e1-cf39ea9ce69f"
      },
      "source": [
        "from google.colab import files\n",
        "files.upload()"
      ],
      "execution_count": null,
      "outputs": [
        {
          "output_type": "display_data",
          "data": {
            "text/html": [
              "\n",
              "     <input type=\"file\" id=\"files-4d166124-ccee-4024-b896-d9b0a3ef4f48\" name=\"files[]\" multiple disabled\n",
              "        style=\"border:none\" />\n",
              "     <output id=\"result-4d166124-ccee-4024-b896-d9b0a3ef4f48\">\n",
              "      Upload widget is only available when the cell has been executed in the\n",
              "      current browser session. Please rerun this cell to enable.\n",
              "      </output>\n",
              "      <script src=\"/nbextensions/google.colab/files.js\"></script> "
            ],
            "text/plain": [
              "<IPython.core.display.HTML object>"
            ]
          },
          "metadata": {
            "tags": []
          }
        },
        {
          "output_type": "stream",
          "text": [
            "Saving kaggle.json to kaggle.json\n"
          ],
          "name": "stdout"
        },
        {
          "output_type": "execute_result",
          "data": {
            "text/plain": [
              "{'kaggle.json': b'{\"username\":\"marufakamallabonno\",\"key\":\"296735e68c21a45a5f703c68a3815e76\"}'}"
            ]
          },
          "metadata": {
            "tags": []
          },
          "execution_count": 5
        }
      ]
    },
    {
      "cell_type": "code",
      "metadata": {
        "id": "jnSYAbIMRyvY"
      },
      "source": [
        "!mkdir -p ~/.kaggle\n",
        "!cp kaggle.json ~/.kaggle/\n",
        "!chmod 600 ~/.kaggle/kaggle.json # changing permission"
      ],
      "execution_count": null,
      "outputs": []
    },
    {
      "cell_type": "code",
      "metadata": {
        "id": "5UGnU_-rStCb",
        "colab": {
          "base_uri": "https://localhost:8080/"
        },
        "outputId": "0032ef84-ab20-40bd-ab64-571710308663"
      },
      "source": [
        "!kaggle datasets download -d BengaliAI/numta"
      ],
      "execution_count": null,
      "outputs": [
        {
          "output_type": "stream",
          "text": [
            "Downloading numta.zip to /content\n",
            "100% 1.90G/1.91G [00:18<00:00, 15.8MB/s]\n",
            "100% 1.91G/1.91G [00:18<00:00, 110MB/s] \n"
          ],
          "name": "stdout"
        }
      ]
    },
    {
      "cell_type": "markdown",
      "metadata": {
        "id": "FYxRGdi9KaHM"
      },
      "source": [
        "The **Zip file** is downloaded in the root folder which is now unzipped to extract the files in it."
      ]
    },
    {
      "cell_type": "code",
      "metadata": {
        "id": "Pa8O3L4eS6CM",
        "colab": {
          "base_uri": "https://localhost:8080/"
        },
        "outputId": "9f7f3cf8-8fce-42c4-9551-50e63428656c"
      },
      "source": [
        "from zipfile import ZipFile\n",
        "f_name= 'numta.zip'\n",
        "with ZipFile(f_name,'r') as zip:\n",
        "  zip.extractall()\n",
        "  print('Done')"
      ],
      "execution_count": null,
      "outputs": [
        {
          "output_type": "stream",
          "text": [
            "Done\n"
          ],
          "name": "stdout"
        }
      ]
    },
    {
      "cell_type": "code",
      "metadata": {
        "id": "GE3TVi2sZGbF"
      },
      "source": [
        "import os\n",
        "from os import path\n",
        "TRAIN_PATH = 'trainImage'\n",
        "os.mkdir(TRAIN_PATH)"
      ],
      "execution_count": null,
      "outputs": []
    },
    {
      "cell_type": "markdown",
      "metadata": {
        "id": "YzQDeqHPGye0"
      },
      "source": [
        "Now that the datas are imported in the root folder, how should the dataset be arranged in a better way?\n",
        "\n",
        "All the images are now kept in a single folder `.trainImage`. in order to access all the images easier"
      ]
    },
    {
      "cell_type": "code",
      "metadata": {
        "id": "vIpFtnR9Wi75"
      },
      "source": [
        "\n",
        "\n",
        "def processImages(folder_name):\n",
        "  src = folder_name + '/'\n",
        "  dir_folders = os.listdir(src)\n",
        "  for dir_name in dir_folders:\n",
        "    file_name = os.path.join(src, dir_name)\n",
        "    if os.path.isfile(file_name):\n",
        "      shutil.copy(file_name, TRAIN_PATH)  "
      ],
      "execution_count": null,
      "outputs": []
    },
    {
      "cell_type": "code",
      "metadata": {
        "id": "iSSMjjoJZdWM",
        "colab": {
          "base_uri": "https://localhost:8080/"
        },
        "outputId": "7e09436e-6717-4d17-9956-5dbd8ea847eb"
      },
      "source": [
        "import shutil\n",
        "processImages('training-a')\n",
        "print('A Done')\n",
        "processImages('training-b')\n",
        "print('B Done')\n",
        "processImages('training-c')\n",
        "print('C Done')\n",
        "processImages('training-d')\n",
        "print('D Done')\n",
        "processImages('training-e')\n",
        "print('E Done')"
      ],
      "execution_count": null,
      "outputs": [
        {
          "output_type": "stream",
          "text": [
            "A Done\n",
            "B Done\n",
            "C Done\n",
            "D Done\n",
            "E Done\n"
          ],
          "name": "stdout"
        }
      ]
    },
    {
      "cell_type": "markdown",
      "metadata": {
        "id": "IDz7yY6Y6zGV"
      },
      "source": [
        "Content of all the images stored in a folder."
      ]
    },
    {
      "cell_type": "code",
      "metadata": {
        "id": "7G1YXTuHZ5cD",
        "colab": {
          "base_uri": "https://localhost:8080/"
        },
        "outputId": "ed8532a2-3998-48c4-c63a-7e309cdd369f"
      },
      "source": [
        "os.listdir('/content/trainImage')"
      ],
      "execution_count": null,
      "outputs": [
        {
          "output_type": "execute_result",
          "data": {
            "text/plain": [
              "['d00118.png',\n",
              " 'd10159.png',\n",
              " 'a07364.png',\n",
              " 'a17193.png',\n",
              " 'a15159.png',\n",
              " 'c15709.png',\n",
              " 'a07793.png',\n",
              " 'c15320.png',\n",
              " 'd06975.png',\n",
              " 'c11889.png',\n",
              " 'e01801.png',\n",
              " 'e12363.png',\n",
              " 'c03853.png',\n",
              " 'e14815.png',\n",
              " 'c09639.png',\n",
              " 'e13153.png',\n",
              " 'd09905.png',\n",
              " 'e02827.png',\n",
              " 'c18372.png',\n",
              " 'a02982.png',\n",
              " 'a03316.png',\n",
              " 'a06414.png',\n",
              " 'a14674.png',\n",
              " 'c00330.png',\n",
              " 'c00846.png',\n",
              " 'c09119.png',\n",
              " 'a14510.png',\n",
              " 'e08410.png',\n",
              " 'd01412.png',\n",
              " 'e13487.png',\n",
              " 'a07822.png',\n",
              " 'c10983.png',\n",
              " 'e09837.png',\n",
              " 'a12995.png',\n",
              " 'a01012.png',\n",
              " 'c12321.png',\n",
              " 'c13699.png',\n",
              " 'd08438.png',\n",
              " 'd01627.png',\n",
              " 'a16536.png',\n",
              " 'a17808.png',\n",
              " 'a17002.png',\n",
              " 'e14091.png',\n",
              " 'c23045.png',\n",
              " 'd07430.png',\n",
              " 'd04278.png',\n",
              " 'a16688.png',\n",
              " 'a18774.png',\n",
              " 'e11064.png',\n",
              " 'c21913.png',\n",
              " 'd04058.png',\n",
              " 'd09021.png',\n",
              " 'd00058.png',\n",
              " 'c05649.png',\n",
              " 'c16118.png',\n",
              " 'a17057.png',\n",
              " 'c01272.png',\n",
              " 'c08143.png',\n",
              " 'd08816.png',\n",
              " 'd06890.png',\n",
              " 'e11689.png',\n",
              " 'a13773.png',\n",
              " 'c05341.png',\n",
              " 'd01374.png',\n",
              " 'd08601.png',\n",
              " 'd05981.png',\n",
              " 'a18273.png',\n",
              " 'c08457.png',\n",
              " 'a18421.png',\n",
              " 'c06746.png',\n",
              " 'a16790.png',\n",
              " 'e08689.png',\n",
              " 'd01515.png',\n",
              " 'a03007.png',\n",
              " 'e10015.png',\n",
              " 'a00061.png',\n",
              " 'a10586.png',\n",
              " 'c17559.png',\n",
              " 'c09339.png',\n",
              " 'a04510.png',\n",
              " 'e08163.png',\n",
              " 'a13811.png',\n",
              " 'c18189.png',\n",
              " 'a04979.png',\n",
              " 'c04072.png',\n",
              " 'a16167.png',\n",
              " 'a15894.png',\n",
              " 'e04821.png',\n",
              " 'e14913.png',\n",
              " 'd01679.png',\n",
              " 'c19896.png',\n",
              " 'e14318.png',\n",
              " 'c22526.png',\n",
              " 'c07676.png',\n",
              " 'c13087.png',\n",
              " 'e12781.png',\n",
              " 'c17960.png',\n",
              " 'a13949.png',\n",
              " 'a16839.png',\n",
              " 'c23226.png',\n",
              " 'c00493.png',\n",
              " 'a15616.png',\n",
              " 'a04456.png',\n",
              " 'd10460.png',\n",
              " 'e10224.png',\n",
              " 'd08377.png',\n",
              " 'e03691.png',\n",
              " 'c01598.png',\n",
              " 'c16910.png',\n",
              " 'e16145.png',\n",
              " 'e14409.png',\n",
              " 'a05965.png',\n",
              " 'a13253.png',\n",
              " 'e07348.png',\n",
              " 'a15932.png',\n",
              " 'a00123.png',\n",
              " 'c17224.png',\n",
              " 'c16987.png',\n",
              " 'c04656.png',\n",
              " 'c22613.png',\n",
              " 'e02157.png',\n",
              " 'a14533.png',\n",
              " 'e09140.png',\n",
              " 'c06142.png',\n",
              " 'd06746.png',\n",
              " 'a11083.png',\n",
              " 'a02853.png',\n",
              " 'e01181.png',\n",
              " 'e06053.png',\n",
              " 'c10881.png',\n",
              " 'c08091.png',\n",
              " 'a07108.png',\n",
              " 'c04527.png',\n",
              " 'd05022.png',\n",
              " 'd04487.png',\n",
              " 'c11374.png',\n",
              " 'e02640.png',\n",
              " 'c03723.png',\n",
              " 'd10613.png',\n",
              " 'e09165.png',\n",
              " 'c16304.png',\n",
              " 'e15363.png',\n",
              " 'e11102.png',\n",
              " 'a01641.png',\n",
              " 'e14468.png',\n",
              " 'e11308.png',\n",
              " 'c14791.png',\n",
              " 'c10004.png',\n",
              " 'a17033.png',\n",
              " 'd09613.png',\n",
              " 'c09279.png',\n",
              " 'a10204.png',\n",
              " 'e00532.png',\n",
              " 'd08879.png',\n",
              " 'a06788.png',\n",
              " 'c00405.png',\n",
              " 'c06829.png',\n",
              " 'e05026.png',\n",
              " 'a11937.png',\n",
              " 'e11912.png',\n",
              " 'e04606.png',\n",
              " 'd02837.png',\n",
              " 'e14583.png',\n",
              " 'a11682.png',\n",
              " 'a16708.png',\n",
              " 'c22475.png',\n",
              " 'd02715.png',\n",
              " 'e00758.png',\n",
              " 'e01599.png',\n",
              " 'a04808.png',\n",
              " 'c13402.png',\n",
              " 'd10576.png',\n",
              " 'e02064.png',\n",
              " 'c23773.png',\n",
              " 'd07023.png',\n",
              " 'e16590.png',\n",
              " 'e00736.png',\n",
              " 'a04534.png',\n",
              " 'a10706.png',\n",
              " 'e03465.png',\n",
              " 'c23133.png',\n",
              " 'd06913.png',\n",
              " 'a15496.png',\n",
              " 'e11529.png',\n",
              " 'a07965.png',\n",
              " 'e12611.png',\n",
              " 'a02037.png',\n",
              " 'c14434.png',\n",
              " 'c05233.png',\n",
              " 'b00334.png',\n",
              " 'd00496.png',\n",
              " 'c20229.png',\n",
              " 'c12557.png',\n",
              " 'a16769.png',\n",
              " 'a17369.png',\n",
              " 'c19457.png',\n",
              " 'd10758.png',\n",
              " 'd06770.png',\n",
              " 'd03641.png',\n",
              " 'a18163.png',\n",
              " 'd03614.png',\n",
              " 'a14864.png',\n",
              " 'a12589.png',\n",
              " 'e08786.png',\n",
              " 'c06648.png',\n",
              " 'e12770.png',\n",
              " 'a14847.png',\n",
              " 'd06142.png',\n",
              " 'c02253.png',\n",
              " 'e13344.png',\n",
              " 'a13559.png',\n",
              " 'e09629.png',\n",
              " 'c00140.png',\n",
              " 'c23529.png',\n",
              " 'a03974.png',\n",
              " 'e10670.png',\n",
              " 'a02486.png',\n",
              " 'a08147.png',\n",
              " 'a02815.png',\n",
              " 'e01396.png',\n",
              " 'a10037.png',\n",
              " 'a03567.png',\n",
              " 'a15370.png',\n",
              " 'a02012.png',\n",
              " 'a10302.png',\n",
              " 'c00976.png',\n",
              " 'c16997.png',\n",
              " 'c18886.png',\n",
              " 'e02570.png',\n",
              " 'e05120.png',\n",
              " 'c13323.png',\n",
              " 'a13594.png',\n",
              " 'e00373.png',\n",
              " 'a06203.png',\n",
              " 'e09179.png',\n",
              " 'd06310.png',\n",
              " 'e11578.png',\n",
              " 'e05088.png',\n",
              " 'c17343.png',\n",
              " 'e12169.png',\n",
              " 'e05117.png',\n",
              " 'e07435.png',\n",
              " 'e09431.png',\n",
              " 'c08177.png',\n",
              " 'c14785.png',\n",
              " 'a04783.png',\n",
              " 'e12433.png',\n",
              " 'c02884.png',\n",
              " 'd08571.png',\n",
              " 'd07041.png',\n",
              " 'e10133.png',\n",
              " 'e08771.png',\n",
              " 'c06395.png',\n",
              " 'd02631.png',\n",
              " 'e06467.png',\n",
              " 'a02086.png',\n",
              " 'c18906.png',\n",
              " 'a06898.png',\n",
              " 'a13058.png',\n",
              " 'a05139.png',\n",
              " 'a18311.png',\n",
              " 'a00322.png',\n",
              " 'c15704.png',\n",
              " 'e13180.png',\n",
              " 'e16428.png',\n",
              " 'a11718.png',\n",
              " 'c23885.png',\n",
              " 'c13135.png',\n",
              " 'd01802.png',\n",
              " 'c14045.png',\n",
              " 'c09582.png',\n",
              " 'a02391.png',\n",
              " 'c13701.png',\n",
              " 'c05203.png',\n",
              " 'a00816.png',\n",
              " 'a13596.png',\n",
              " 'd06720.png',\n",
              " 'c06957.png',\n",
              " 'e06204.png',\n",
              " 'e15783.png',\n",
              " 'e10278.png',\n",
              " 'd06619.png',\n",
              " 'c22417.png',\n",
              " 'a14836.png',\n",
              " 'a10158.png',\n",
              " 'e09314.png',\n",
              " 'e10069.png',\n",
              " 'e07197.png',\n",
              " 'e14921.png',\n",
              " 'c21761.png',\n",
              " 'd09024.png',\n",
              " 'd09875.png',\n",
              " 'a02777.png',\n",
              " 'c19823.png',\n",
              " 'c22224.png',\n",
              " 'e05139.png',\n",
              " 'a15286.png',\n",
              " 'c20642.png',\n",
              " 'a09346.png',\n",
              " 'a02573.png',\n",
              " 'e11022.png',\n",
              " 'c02328.png',\n",
              " 'c06854.png',\n",
              " 'a15249.png',\n",
              " 'c20475.png',\n",
              " 'a16007.png',\n",
              " 'c00040.png',\n",
              " 'e05455.png',\n",
              " 'd06138.png',\n",
              " 'e01830.png',\n",
              " 'e08871.png',\n",
              " 'b00321.png',\n",
              " 'd06527.png',\n",
              " 'a09794.png',\n",
              " 'e16131.png',\n",
              " 'e02331.png',\n",
              " 'c13140.png',\n",
              " 'e00543.png',\n",
              " 'd03121.png',\n",
              " 'e00132.png',\n",
              " 'e09487.png',\n",
              " 'c24051.png',\n",
              " 'a07080.png',\n",
              " 'e09055.png',\n",
              " 'd01198.png',\n",
              " 'c10136.png',\n",
              " 'a11192.png',\n",
              " 'a11913.png',\n",
              " 'c04975.png',\n",
              " 'a18695.png',\n",
              " 'a15279.png',\n",
              " 'c16107.png',\n",
              " 'e06822.png',\n",
              " 'c14298.png',\n",
              " 'c12202.png',\n",
              " 'c13858.png',\n",
              " 'c15064.png',\n",
              " 'd01557.png',\n",
              " 'c17453.png',\n",
              " 'd04700.png',\n",
              " 'a04070.png',\n",
              " 'a06802.png',\n",
              " 'd06229.png',\n",
              " 'c17363.png',\n",
              " 'c23247.png',\n",
              " 'e03528.png',\n",
              " 'c01612.png',\n",
              " 'd03936.png',\n",
              " 'a01370.png',\n",
              " 'd05112.png',\n",
              " 'c23530.png',\n",
              " 'd02113.png',\n",
              " 'a08621.png',\n",
              " 'a07547.png',\n",
              " 'e12172.png',\n",
              " 'd08307.png',\n",
              " 'd06228.png',\n",
              " 'c19581.png',\n",
              " 'a00825.png',\n",
              " 'e12126.png',\n",
              " 'a10022.png',\n",
              " 'c15305.png',\n",
              " 'c02064.png',\n",
              " 'e08880.png',\n",
              " 'a00193.png',\n",
              " 'c08351.png',\n",
              " 'e11243.png',\n",
              " 'a07750.png',\n",
              " 'e01977.png',\n",
              " 'c09940.png',\n",
              " 'c16479.png',\n",
              " 'd02086.png',\n",
              " 'd06182.png',\n",
              " 'e13482.png',\n",
              " 'a11946.png',\n",
              " 'c12434.png',\n",
              " 'e05557.png',\n",
              " 'd01052.png',\n",
              " 'a17728.png',\n",
              " 'e01747.png',\n",
              " 'c17831.png',\n",
              " 'c18893.png',\n",
              " 'e10649.png',\n",
              " 'c17470.png',\n",
              " 'a13566.png',\n",
              " 'c12504.png',\n",
              " 'c00422.png',\n",
              " 'a13937.png',\n",
              " 'a01702.png',\n",
              " 'c22882.png',\n",
              " 'c22216.png',\n",
              " 'a12016.png',\n",
              " 'a09857.png',\n",
              " 'd02686.png',\n",
              " 'c16159.png',\n",
              " 'e04316.png',\n",
              " 'c20345.png',\n",
              " 'e03483.png',\n",
              " 'c12125.png',\n",
              " 'a07694.png',\n",
              " 'a18990.png',\n",
              " 'e15588.png',\n",
              " 'c12216.png',\n",
              " 'c07890.png',\n",
              " 'a09173.png',\n",
              " 'e12400.png',\n",
              " 'd06355.png',\n",
              " 'e10271.png',\n",
              " 'c18115.png',\n",
              " 'a00689.png',\n",
              " 'e16501.png',\n",
              " 'a07193.png',\n",
              " 'd07812.png',\n",
              " 'e00408.png',\n",
              " 'd04351.png',\n",
              " 'a00569.png',\n",
              " 'd10351.png',\n",
              " 'a01367.png',\n",
              " 'e16294.png',\n",
              " 'd05268.png',\n",
              " 'a10564.png',\n",
              " 'e03455.png',\n",
              " 'c00312.png',\n",
              " 'c00298.png',\n",
              " 'c03599.png',\n",
              " 'a03775.png',\n",
              " 'c14457.png',\n",
              " 'e03880.png',\n",
              " 'e13791.png',\n",
              " 'd07843.png',\n",
              " 'e10642.png',\n",
              " 'c07915.png',\n",
              " 'e10484.png',\n",
              " 'e06324.png',\n",
              " 'e13015.png',\n",
              " 'a07257.png',\n",
              " 'a14975.png',\n",
              " 'c15290.png',\n",
              " 'e08971.png',\n",
              " 'c02746.png',\n",
              " 'e01391.png',\n",
              " 'c23921.png',\n",
              " 'a04157.png',\n",
              " 'd01417.png',\n",
              " 'e12490.png',\n",
              " 'e08730.png',\n",
              " 'c22586.png',\n",
              " 'a05095.png',\n",
              " 'a08666.png',\n",
              " 'c00933.png',\n",
              " 'e10761.png',\n",
              " 'a14353.png',\n",
              " 'a03736.png',\n",
              " 'e00833.png',\n",
              " 'e04177.png',\n",
              " 'c09026.png',\n",
              " 'c08267.png',\n",
              " 'd10899.png',\n",
              " 'c16814.png',\n",
              " 'e12391.png',\n",
              " 'd05408.png',\n",
              " 'c12749.png',\n",
              " 'c15035.png',\n",
              " 'e15898.png',\n",
              " 'c12014.png',\n",
              " 'e13711.png',\n",
              " 'a01042.png',\n",
              " 'c10407.png',\n",
              " 'a12788.png',\n",
              " 'd03113.png',\n",
              " 'a16567.png',\n",
              " 'c06763.png',\n",
              " 'c21310.png',\n",
              " 'e05405.png',\n",
              " 'e07569.png',\n",
              " 'a04373.png',\n",
              " 'a18883.png',\n",
              " 'c04596.png',\n",
              " 'd08102.png',\n",
              " 'c22145.png',\n",
              " 'e01796.png',\n",
              " 'e05978.png',\n",
              " 'e04260.png',\n",
              " 'a17701.png',\n",
              " 'c21706.png',\n",
              " 'e16090.png',\n",
              " 'c00873.png',\n",
              " 'a01669.png',\n",
              " 'd09181.png',\n",
              " 'a07107.png',\n",
              " 'a08904.png',\n",
              " 'c08934.png',\n",
              " 'a18989.png',\n",
              " 'e10006.png',\n",
              " 'd04924.png',\n",
              " 'e10360.png',\n",
              " 'e00086.png',\n",
              " 'a17648.png',\n",
              " 'a03199.png',\n",
              " 'e15025.png',\n",
              " 'e01949.png',\n",
              " 'a05805.png',\n",
              " 'd06321.png',\n",
              " 'e08934.png',\n",
              " 'c11724.png',\n",
              " 'a13567.png',\n",
              " 'c16329.png',\n",
              " 'e13685.png',\n",
              " 'd10645.png',\n",
              " 'd02172.png',\n",
              " 'c22431.png',\n",
              " 'a17707.png',\n",
              " 'd07047.png',\n",
              " 'a01314.png',\n",
              " 'e05339.png',\n",
              " 'd04066.png',\n",
              " 'c13250.png',\n",
              " 'a08300.png',\n",
              " 'e08901.png',\n",
              " 'c04003.png',\n",
              " 'a04369.png',\n",
              " 'c00332.png',\n",
              " 'd06670.png',\n",
              " 'c11683.png',\n",
              " 'a16914.png',\n",
              " 'a11085.png',\n",
              " 'c20725.png',\n",
              " 'e10709.png',\n",
              " 'e13845.png',\n",
              " 'c06100.png',\n",
              " 'd07620.png',\n",
              " 'e05675.png',\n",
              " 'c14260.png',\n",
              " 'c10028.png',\n",
              " 'e09747.png',\n",
              " 'a06523.png',\n",
              " 'c23326.png',\n",
              " 'd08690.png',\n",
              " 'e14436.png',\n",
              " 'c03819.png',\n",
              " 'd10772.png',\n",
              " 'e09168.png',\n",
              " 'a17546.png',\n",
              " 'd10708.png',\n",
              " 'a11651.png',\n",
              " 'd08891.png',\n",
              " 'c16919.png',\n",
              " 'a02192.png',\n",
              " 'a12317.png',\n",
              " 'c01975.png',\n",
              " 'd10800.png',\n",
              " 'e13748.png',\n",
              " 'e15489.png',\n",
              " 'c00453.png',\n",
              " 'c10639.png',\n",
              " 'c12396.png',\n",
              " 'e04134.png',\n",
              " 'd02533.png',\n",
              " 'a11374.png',\n",
              " 'b00232.png',\n",
              " 'c20500.png',\n",
              " 'e00998.png',\n",
              " 'a01338.png',\n",
              " 'a18487.png',\n",
              " 'c12500.png',\n",
              " 'd08094.png',\n",
              " 'd08162.png',\n",
              " 'a11513.png',\n",
              " 'a10172.png',\n",
              " 'c13012.png',\n",
              " 'c21741.png',\n",
              " 'c17241.png',\n",
              " 'e13214.png',\n",
              " 'c12979.png',\n",
              " 'a16674.png',\n",
              " 'c11035.png',\n",
              " 'd05920.png',\n",
              " 'a07174.png',\n",
              " 'c02585.png',\n",
              " 'a19643.png',\n",
              " 'c21286.png',\n",
              " 'e02400.png',\n",
              " 'a00631.png',\n",
              " 'c09718.png',\n",
              " 'd06731.png',\n",
              " 'a09981.png',\n",
              " 'e14331.png',\n",
              " 'a06871.png',\n",
              " 'e14326.png',\n",
              " 'a03867.png',\n",
              " 'c23586.png',\n",
              " 'e09174.png',\n",
              " 'e09420.png',\n",
              " 'd02475.png',\n",
              " 'a17555.png',\n",
              " 'd08511.png',\n",
              " 'a07950.png',\n",
              " 'a06339.png',\n",
              " 'a10200.png',\n",
              " 'a09452.png',\n",
              " 'a17943.png',\n",
              " 'c07427.png',\n",
              " 'e16159.png',\n",
              " 'd00168.png',\n",
              " 'c22516.png',\n",
              " 'a12698.png',\n",
              " 'c22476.png',\n",
              " 'a16963.png',\n",
              " 'a10583.png',\n",
              " 'd06078.png',\n",
              " 'c14116.png',\n",
              " 'e05710.png',\n",
              " 'e14273.png',\n",
              " 'd01416.png',\n",
              " 'c00480.png',\n",
              " 'c22459.png',\n",
              " 'c00978.png',\n",
              " 'c13040.png',\n",
              " 'd10678.png',\n",
              " 'e05872.png',\n",
              " 'a19412.png',\n",
              " 'c06026.png',\n",
              " 'a08663.png',\n",
              " 'a02453.png',\n",
              " 'e06754.png',\n",
              " 'a14495.png',\n",
              " 'c05580.png',\n",
              " 'c17826.png',\n",
              " 'd06457.png',\n",
              " 'c22497.png',\n",
              " 'c21256.png',\n",
              " 'e01581.png',\n",
              " 'e06278.png',\n",
              " 'e08669.png',\n",
              " 'e03116.png',\n",
              " 'a02386.png',\n",
              " 'e12897.png',\n",
              " 'a01462.png',\n",
              " 'c08620.png',\n",
              " 'c16544.png',\n",
              " 'c10845.png',\n",
              " 'c04544.png',\n",
              " 'e05793.png',\n",
              " 'a09183.png',\n",
              " 'c02519.png',\n",
              " 'e08360.png',\n",
              " 'e16413.png',\n",
              " 'a19397.png',\n",
              " 'e08375.png',\n",
              " 'c10111.png',\n",
              " 'e03478.png',\n",
              " 'd03379.png',\n",
              " 'a04218.png',\n",
              " 'd01276.png',\n",
              " 'c20036.png',\n",
              " 'c09109.png',\n",
              " 'd06007.png',\n",
              " 'c10097.png',\n",
              " 'c19303.png',\n",
              " 'd01296.png',\n",
              " 'c12245.png',\n",
              " 'c02408.png',\n",
              " 'a10050.png',\n",
              " 'c16440.png',\n",
              " 'e11849.png',\n",
              " 'c11664.png',\n",
              " 'a06571.png',\n",
              " 'a09820.png',\n",
              " 'b00342.png',\n",
              " 'a18452.png',\n",
              " 'a01147.png',\n",
              " 'e04553.png',\n",
              " 'd01337.png',\n",
              " 'd08363.png',\n",
              " 'a17456.png',\n",
              " 'd02909.png',\n",
              " 'c22503.png',\n",
              " 'e03225.png',\n",
              " 'd05886.png',\n",
              " 'a17576.png',\n",
              " 'a14756.png',\n",
              " 'e14320.png',\n",
              " 'e01302.png',\n",
              " 'd05172.png',\n",
              " 'e07314.png',\n",
              " 'c03037.png',\n",
              " 'e08004.png',\n",
              " 'c11211.png',\n",
              " 'a09649.png',\n",
              " 'a16611.png',\n",
              " 'd03569.png',\n",
              " 'e09397.png',\n",
              " 'd04135.png',\n",
              " 'd04429.png',\n",
              " 'd00581.png',\n",
              " 'd01147.png',\n",
              " 'e12566.png',\n",
              " 'd08564.png',\n",
              " 'c00131.png',\n",
              " 'c04590.png',\n",
              " 'a12865.png',\n",
              " 'e13623.png',\n",
              " 'd08326.png',\n",
              " 'c05520.png',\n",
              " 'a05868.png',\n",
              " 'a06449.png',\n",
              " 'c18472.png',\n",
              " 'e05635.png',\n",
              " 'c06309.png',\n",
              " 'c17108.png',\n",
              " 'c12470.png',\n",
              " 'c10866.png',\n",
              " 'a09085.png',\n",
              " 'a18587.png',\n",
              " 'c00808.png',\n",
              " 'a11415.png',\n",
              " 'c09078.png',\n",
              " 'c14556.png',\n",
              " 'a19435.png',\n",
              " 'a17917.png',\n",
              " 'a02327.png',\n",
              " 'd08096.png',\n",
              " 'c10221.png',\n",
              " 'a06722.png',\n",
              " 'a05890.png',\n",
              " 'a07625.png',\n",
              " 'e05307.png',\n",
              " 'c20063.png',\n",
              " 'e06740.png',\n",
              " 'd00317.png',\n",
              " 'c19362.png',\n",
              " 'e10479.png',\n",
              " 'c02156.png',\n",
              " 'd08555.png',\n",
              " 'c07332.png',\n",
              " 'c07769.png',\n",
              " 'a08882.png',\n",
              " 'c15243.png',\n",
              " 'a16370.png',\n",
              " 'd10545.png',\n",
              " 'e08994.png',\n",
              " 'a16854.png',\n",
              " 'e04156.png',\n",
              " 'c18386.png',\n",
              " 'd05009.png',\n",
              " 'c04493.png',\n",
              " 'c18483.png',\n",
              " 'c03375.png',\n",
              " 'a02567.png',\n",
              " 'a02866.png',\n",
              " 'e10945.png',\n",
              " 'd07558.png',\n",
              " 'd10276.png',\n",
              " 'a08906.png',\n",
              " 'd06576.png',\n",
              " 'd10506.png',\n",
              " 'c22034.png',\n",
              " 'a06624.png',\n",
              " 'e07010.png',\n",
              " 'e15064.png',\n",
              " 'd05117.png',\n",
              " 'e09628.png',\n",
              " 'e00163.png',\n",
              " 'd00082.png',\n",
              " 'a08302.png',\n",
              " 'e14598.png',\n",
              " 'a14388.png',\n",
              " 'e09825.png',\n",
              " 'c10170.png',\n",
              " 'a03256.png',\n",
              " 'e06085.png',\n",
              " 'e14206.png',\n",
              " 'd02814.png',\n",
              " 'd08723.png',\n",
              " 'c16281.png',\n",
              " 'a13906.png',\n",
              " 'c16037.png',\n",
              " 'c11118.png',\n",
              " 'd04876.png',\n",
              " 'c07231.png',\n",
              " 'd08411.png',\n",
              " 'a03818.png',\n",
              " 'e14442.png',\n",
              " 'c16025.png',\n",
              " 'a19139.png',\n",
              " 'e10558.png',\n",
              " 'e06545.png',\n",
              " 'c19084.png',\n",
              " 'a11074.png',\n",
              " 'a14348.png',\n",
              " 'c05503.png',\n",
              " 'b00219.png',\n",
              " 'c19841.png',\n",
              " 'c09625.png',\n",
              " 'a11418.png',\n",
              " 'c09580.png',\n",
              " 'a08971.png',\n",
              " 'a18053.png',\n",
              " 'a18251.png',\n",
              " 'e07204.png',\n",
              " 'd06320.png',\n",
              " 'e14194.png',\n",
              " 'c22695.png',\n",
              " 'e00857.png',\n",
              " 'c03702.png',\n",
              " 'c21354.png',\n",
              " 'c23556.png',\n",
              " 'e16180.png',\n",
              " 'c19467.png',\n",
              " 'd00572.png',\n",
              " 'c08219.png',\n",
              " 'c16751.png',\n",
              " 'a03854.png',\n",
              " 'd01625.png',\n",
              " 'a11012.png',\n",
              " 'd09813.png',\n",
              " 'd06426.png',\n",
              " 'd06836.png',\n",
              " 'd09280.png',\n",
              " 'e02485.png',\n",
              " 'e10800.png',\n",
              " 'e13763.png',\n",
              " 'a09473.png',\n",
              " 'a18535.png',\n",
              " 'c02587.png',\n",
              " 'c06499.png',\n",
              " 'e06478.png',\n",
              " 'c01311.png',\n",
              " 'a08916.png',\n",
              " 'a02223.png',\n",
              " 'e05502.png',\n",
              " 'c03956.png',\n",
              " 'e03715.png',\n",
              " 'e16077.png',\n",
              " 'c17713.png',\n",
              " 'c03895.png',\n",
              " 'a13959.png',\n",
              " 'd01996.png',\n",
              " 'c14231.png',\n",
              " 'a04753.png',\n",
              " 'a13998.png',\n",
              " 'a01764.png',\n",
              " 'a02132.png',\n",
              " 'e11469.png',\n",
              " 'a16146.png',\n",
              " 'c13681.png',\n",
              " 'e07820.png',\n",
              " 'c23081.png',\n",
              " 'c18179.png',\n",
              " 'd01838.png',\n",
              " 'e08456.png',\n",
              " 'c14781.png',\n",
              " 'a10995.png',\n",
              " 'c15128.png',\n",
              " 'e06661.png',\n",
              " 'd09871.png',\n",
              " 'c12343.png',\n",
              " 'e08473.png',\n",
              " 'a10119.png',\n",
              " 'a18265.png',\n",
              " 'c03958.png',\n",
              " 'c00168.png',\n",
              " 'c07028.png',\n",
              " 'c21254.png',\n",
              " 'c08418.png',\n",
              " 'c20368.png',\n",
              " 'e08367.png',\n",
              " 'd05245.png',\n",
              " 'c21531.png',\n",
              " 'a17711.png',\n",
              " 'c02147.png',\n",
              " 'e03137.png',\n",
              " 'a18592.png',\n",
              " 'e00181.png',\n",
              " 'a18359.png',\n",
              " 'c12499.png',\n",
              " 'a00736.png',\n",
              " 'e13558.png',\n",
              " 'c18464.png',\n",
              " 'a12800.png',\n",
              " 'c19884.png',\n",
              " 'a10616.png',\n",
              " 'c17976.png',\n",
              " 'c01572.png',\n",
              " 'e06850.png',\n",
              " 'e16183.png',\n",
              " 'a19526.png',\n",
              " 'e14970.png',\n",
              " 'a09491.png',\n",
              " 'c07082.png',\n",
              " 'c03502.png',\n",
              " 'd01742.png',\n",
              " 'e04951.png',\n",
              " 'c15863.png',\n",
              " 'd09106.png',\n",
              " 'c08358.png',\n",
              " 'a01081.png',\n",
              " 'c20375.png',\n",
              " 'c09854.png',\n",
              " 'e02926.png',\n",
              " 'd07964.png',\n",
              " 'a08578.png',\n",
              " 'a11797.png',\n",
              " 'e09589.png',\n",
              " 'c17542.png',\n",
              " 'e07605.png',\n",
              " 'd10430.png',\n",
              " 'c18456.png',\n",
              " 'e00392.png',\n",
              " 'a03578.png',\n",
              " 'e07245.png',\n",
              " 'e05132.png',\n",
              " 'e07710.png',\n",
              " 'd09945.png',\n",
              " 'd07762.png',\n",
              " 'd10685.png',\n",
              " 'c03137.png',\n",
              " 'a07178.png',\n",
              " 'a10765.png',\n",
              " 'e14911.png',\n",
              " 'e10402.png',\n",
              " 'a17524.png',\n",
              " 'a11206.png',\n",
              " 'e10332.png',\n",
              " 'c08069.png',\n",
              " 'd10580.png',\n",
              " 'c21870.png',\n",
              " 'c05185.png',\n",
              " 'c03755.png',\n",
              " 'c20988.png',\n",
              " 'a03067.png',\n",
              " 'd08440.png',\n",
              " 'c18909.png',\n",
              " 'c18946.png',\n",
              " 'a07098.png',\n",
              " 'd00128.png',\n",
              " 'c16746.png',\n",
              " 'e00458.png',\n",
              " 'a18519.png',\n",
              " 'c22801.png',\n",
              " 'd07591.png',\n",
              " 'e00388.png',\n",
              " 'e11766.png',\n",
              " 'a19468.png',\n",
              " 'a10617.png',\n",
              " 'e14144.png',\n",
              " 'e06058.png',\n",
              " 'c10513.png',\n",
              " 'c12161.png',\n",
              " 'a13307.png',\n",
              " 'c04545.png',\n",
              " 'd03969.png',\n",
              " 'c15329.png',\n",
              " 'c12312.png',\n",
              " 'e14559.png',\n",
              " 'd06795.png',\n",
              " 'e09723.png',\n",
              " 'e05316.png',\n",
              " 'c11474.png',\n",
              " 'c03729.png',\n",
              " 'a11556.png',\n",
              " 'e01627.png',\n",
              " 'a04034.png',\n",
              " 'c08025.png',\n",
              " 'c18857.png',\n",
              " 'c22495.png',\n",
              " 'c22498.png',\n",
              " 'e03834.png',\n",
              " 'd05582.png',\n",
              " 'c23947.png',\n",
              " 'd05831.png',\n",
              " 'c03213.png',\n",
              " 'a09142.png',\n",
              " 'c01939.png',\n",
              " 'a15477.png',\n",
              " 'a06020.png',\n",
              " 'a01019.png',\n",
              " 'd08047.png',\n",
              " 'e01445.png',\n",
              " 'd01317.png',\n",
              " 'a18341.png',\n",
              " 'a08291.png',\n",
              " 'a10605.png',\n",
              " 'c19322.png',\n",
              " 'c21071.png',\n",
              " 'a11564.png',\n",
              " 'd00096.png',\n",
              " 'c01806.png',\n",
              " 'a05826.png',\n",
              " 'a01565.png',\n",
              " 'a15430.png',\n",
              " 'c04949.png',\n",
              " 'e00422.png',\n",
              " 'e00439.png',\n",
              " 'd02295.png',\n",
              " 'c03974.png',\n",
              " 'e07536.png',\n",
              " 'e16437.png',\n",
              " 'c09032.png',\n",
              " 'c07107.png',\n",
              " ...]"
            ]
          },
          "metadata": {
            "tags": []
          },
          "execution_count": 10
        }
      ]
    },
    {
      "cell_type": "markdown",
      "metadata": {
        "id": "v-qhMGOeYcGC"
      },
      "source": [
        "Using the **pandas** library the csv files are imported.\n",
        "Only the necessary columns are kept dropping the remaining columns."
      ]
    },
    {
      "cell_type": "code",
      "metadata": {
        "id": "EcZpMY9Fjrft"
      },
      "source": [
        "def showRawTrainingSamples(csv_filename):\n",
        "  df = pd.read_csv(csv_filename)\n",
        "  print(csv_filename)\n",
        "  print(df.columns)\n",
        "  return df"
      ],
      "execution_count": null,
      "outputs": []
    },
    {
      "cell_type": "code",
      "metadata": {
        "id": "84DNpJ0hVxVQ",
        "colab": {
          "base_uri": "https://localhost:8080/"
        },
        "outputId": "a79a0803-71e8-442a-d7e1-7b81ba7b5d9e"
      },
      "source": [
        "import pandas as pd\n",
        "a_csv = showRawTrainingSamples('training-a.csv')\n",
        "b_csv = showRawTrainingSamples('training-b.csv')\n",
        "c_csv = showRawTrainingSamples('training-c.csv')\n",
        "d_csv = showRawTrainingSamples('training-d.csv')\n",
        "e_csv = showRawTrainingSamples('training-e.csv')"
      ],
      "execution_count": null,
      "outputs": [
        {
          "output_type": "stream",
          "text": [
            "training-a.csv\n",
            "Index(['filename', 'original filename', 'scanid', 'digit',\n",
            "       'database name original', 'contributing team', 'database name'],\n",
            "      dtype='object')\n",
            "training-b.csv\n",
            "Index(['filename', 'original filename', 'scanid', 'digit',\n",
            "       'database name original', 'contributing team', 'database name'],\n",
            "      dtype='object')\n",
            "training-c.csv\n",
            "Index(['filename', 'original filename', 'scanid', 'digit',\n",
            "       'database name original', 'contributing team', 'database name'],\n",
            "      dtype='object')\n",
            "training-d.csv\n",
            "Index(['original filename', 'scanid', 'digit', 'num', 'database name original',\n",
            "       'database name', 'filename'],\n",
            "      dtype='object')\n",
            "training-e.csv\n",
            "Index(['filename', 'original filename', 'districtid', 'institutionid',\n",
            "       'gender', 'age', 'datestamp', 'scanid', 'digit',\n",
            "       'database name original', 'database name'],\n",
            "      dtype='object')\n"
          ],
          "name": "stdout"
        }
      ]
    },
    {
      "cell_type": "code",
      "metadata": {
        "id": "uQ8JRUqGWLsL"
      },
      "source": [
        "def truncateColumns(csv_file):\n",
        "  csv_file = csv_file[['filename', 'digit']]\n",
        "  print(csv_file)\n",
        "  print(csv_file.iloc[:5, :])   #First 5 Rows of the CSV File\n",
        "  print(\"=============================\")\n",
        "  return csv_file"
      ],
      "execution_count": null,
      "outputs": []
    },
    {
      "cell_type": "markdown",
      "metadata": {
        "id": "izkpPJk_JZkC"
      },
      "source": [
        "Only the **filename** and the **digit** column is kept while the rest are dropped."
      ]
    },
    {
      "cell_type": "code",
      "metadata": {
        "id": "1Wym1DjFWMNA",
        "colab": {
          "base_uri": "https://localhost:8080/"
        },
        "outputId": "fdba5755-2732-4e1c-bc56-e5469c3fd21d"
      },
      "source": [
        "a_csv = truncateColumns(a_csv)\n",
        "b_csv = truncateColumns(b_csv)\n",
        "c_csv = truncateColumns(c_csv)\n",
        "d_csv = truncateColumns(d_csv)\n",
        "e_csv = truncateColumns(e_csv)"
      ],
      "execution_count": null,
      "outputs": [
        {
          "output_type": "stream",
          "text": [
            "         filename  digit\n",
            "0      a00000.png      5\n",
            "1      a00001.png      3\n",
            "2      a00002.png      1\n",
            "3      a00003.png      7\n",
            "4      a00004.png      0\n",
            "...           ...    ...\n",
            "19697  a19697.png      4\n",
            "19698  a19698.png      3\n",
            "19699  a19699.png      8\n",
            "19700  a19700.png      3\n",
            "19701  a19701.png      8\n",
            "\n",
            "[19702 rows x 2 columns]\n",
            "     filename  digit\n",
            "0  a00000.png      5\n",
            "1  a00001.png      3\n",
            "2  a00002.png      1\n",
            "3  a00003.png      7\n",
            "4  a00004.png      0\n",
            "=============================\n",
            "       filename  digit\n",
            "0    b00000.png      0\n",
            "1    b00001.png      2\n",
            "2    b00002.png      5\n",
            "3    b00003.png      2\n",
            "4    b00004.png      5\n",
            "..          ...    ...\n",
            "354  b00354.png      5\n",
            "355  b00355.png      9\n",
            "356  b00356.png      2\n",
            "357  b00357.png      1\n",
            "358  b00358.png      2\n",
            "\n",
            "[359 rows x 2 columns]\n",
            "     filename  digit\n",
            "0  b00000.png      0\n",
            "1  b00001.png      2\n",
            "2  b00002.png      5\n",
            "3  b00003.png      2\n",
            "4  b00004.png      5\n",
            "=============================\n",
            "         filename  digit\n",
            "0      c00000.png      6\n",
            "1      c00001.png      1\n",
            "2      c00002.png      3\n",
            "3      c00003.png      2\n",
            "4      c00004.png      7\n",
            "...           ...    ...\n",
            "24293  c24293.png      3\n",
            "24294  c24294.png      2\n",
            "24295  c24295.png      7\n",
            "24296  c24296.png      2\n",
            "24297  c24297.png      7\n",
            "\n",
            "[24298 rows x 2 columns]\n",
            "     filename  digit\n",
            "0  c00000.png      6\n",
            "1  c00001.png      1\n",
            "2  c00002.png      3\n",
            "3  c00003.png      2\n",
            "4  c00004.png      7\n",
            "=============================\n",
            "         filename  digit\n",
            "0      d00000.png      1\n",
            "1      d00001.png      1\n",
            "2      d00002.png      5\n",
            "3      d00003.png      7\n",
            "4      d00004.png      0\n",
            "...           ...    ...\n",
            "10903  d10903.png      8\n",
            "10904  d10904.png      6\n",
            "10905  d10905.png      1\n",
            "10906  d10906.png      6\n",
            "10907  d10907.png      1\n",
            "\n",
            "[10908 rows x 2 columns]\n",
            "     filename  digit\n",
            "0  d00000.png      1\n",
            "1  d00001.png      1\n",
            "2  d00002.png      5\n",
            "3  d00003.png      7\n",
            "4  d00004.png      0\n",
            "=============================\n",
            "         filename  digit\n",
            "0      e00000.png      9\n",
            "1      e00001.png      9\n",
            "2      e00002.png      0\n",
            "3      e00003.png      4\n",
            "4      e00004.png      5\n",
            "...           ...    ...\n",
            "16773  e16773.png      2\n",
            "16774  e16774.png      6\n",
            "16775  e16775.png      5\n",
            "16776  e16776.png      4\n",
            "16777  e16777.png      4\n",
            "\n",
            "[16778 rows x 2 columns]\n",
            "     filename  digit\n",
            "0  e00000.png      9\n",
            "1  e00001.png      9\n",
            "2  e00002.png      0\n",
            "3  e00003.png      4\n",
            "4  e00004.png      5\n",
            "=============================\n"
          ],
          "name": "stdout"
        }
      ]
    },
    {
      "cell_type": "markdown",
      "metadata": {
        "id": "2hd2H87JJxgy"
      },
      "source": [
        "All the csv files are now merged together in order to prepare a **single csv file**. There are a totla of **72045** images in this dataset."
      ]
    },
    {
      "cell_type": "code",
      "metadata": {
        "id": "3a6PLEUmWf99",
        "colab": {
          "base_uri": "https://localhost:8080/"
        },
        "outputId": "e2cf4b82-af08-4345-a410-4349519b24b5"
      },
      "source": [
        "total_csv = [a_csv,b_csv,c_csv,d_csv,e_csv]\n",
        "merged_csv = pd.concat(total_csv)\n",
        "print(len(merged_csv))"
      ],
      "execution_count": null,
      "outputs": [
        {
          "output_type": "stream",
          "text": [
            "72045\n"
          ],
          "name": "stdout"
        }
      ]
    },
    {
      "cell_type": "markdown",
      "metadata": {
        "id": "dB9I1y4ZZxOs"
      },
      "source": [
        "## Preparing the Training Dataset"
      ]
    },
    {
      "cell_type": "markdown",
      "metadata": {
        "id": "KBavef3v8IRX"
      },
      "source": [
        "A **custom dataset class** is built in order to create the training dataset which contains both the images and the label of the images collected from the csv files.\n",
        "\n",
        "The functions that we use in this custom dataset are:\n",
        "- **`__len__`**: This returns the size of the entire train dataset.\n",
        "\n",
        "- **`__getitem__`**: Fetches the image to its respective  label i.e., to support the indexing such that dataset[i] can be used to get ith sample. \n"
      ]
    },
    {
      "cell_type": "code",
      "metadata": {
        "id": "db7q-oRjYYUz"
      },
      "source": [
        "class Dataset(Dataset):\n",
        "    def __init__(self, df, root, transform=None):\n",
        "        self.data = df\n",
        "        self.root = root\n",
        "        self.transform = transform\n",
        "        \n",
        "    def __len__(self):\n",
        "        return len(self.data)\n",
        "    \n",
        "    def __getitem__(self, index):\n",
        "        item = self.data.iloc[index]\n",
        "        \n",
        "        path = self.root + \"/\" + item[0]\n",
        "        image = Image.open(path).convert('L')\n",
        "        label = item[1]\n",
        "        \n",
        "        if self.transform is not None:\n",
        "            image = self.transform(image)\n",
        "            \n",
        "        return image, label"
      ],
      "execution_count": null,
      "outputs": []
    },
    {
      "cell_type": "markdown",
      "metadata": {
        "id": "Zb_KVLOk3aTv"
      },
      "source": [
        "##Transforming the images to the same size"
      ]
    },
    {
      "cell_type": "markdown",
      "metadata": {
        "id": "kxCJPF-vYg9I"
      },
      "source": [
        "\n",
        "All the training samples are **not of the same size**. Our model is built in fixed image size. torchvision.transforms.Compose is a simple callable class which allows us to do this.\n",
        "\n",
        "Next, we want to **normalize** our data. Normalizing our data allows a models to train faster. It also helps to avoid local minima, i.e. train more reliably and distributes the data for training easily.\n",
        "\n",
        "\n",
        "\n",
        "Normalize does the following for each channel:\n",
        "\n",
        "$ {image}= \\frac{image- mean}{std}$\n",
        "The parameters `mean` and `std`(standard deviation/variance) are passed as 0.5, 0.5 in this case. This will normalize the image pixels in the range [-1,1]. For example, the minimum value 0 will be converted to $ \\frac{(0-0.5)}{0.5}= {-1} $, the maximum value of 1 will be converted to $\\frac{(1-0.5)}{0.5}= {1} $.\n",
        "\n"
      ]
    },
    {
      "cell_type": "markdown",
      "metadata": {
        "id": "U50VOMAW4O8d"
      },
      "source": [
        "From `torchvision.transform` we use `transforms.Compose` to built a list of transformations that will be applied to the image. We will manipulate and process the given training data.\n",
        "\n",
        "The transforms we use are:\n",
        "- `Resize()` - Resize the input image to the given size into the shape 28 $ \\times $ 28\n",
        "- `ToTensor()` - this converts the image from a PIL image into a PyTorch tensor.\n",
        "- `Normalize` - this subtracts the mean and divides by the standard deviations given. \n",
        " `Normalize` should only be applied to the images after they have been converted into a tensor. The Torchvision's documentation makes it much easier to understand why [transforms should be applied to PIL images](https://pytorch.org/docs/stable/torchvision/transforms.html#transforms-on-pil-image) and [transforms why should be applied on tensors](https://pytorch.org/docs/stable/torchvision/transforms.html#transforms-on-torch-tensor).\n",
        "\n",
        "Two list of transforms are made: \n",
        "\n",
        "*   **`train_transform`**\n",
        "*   **`test_transform`** \n",
        "\n"
      ]
    },
    {
      "cell_type": "code",
      "metadata": {
        "id": "10rDSF-BaPNO",
        "colab": {
          "base_uri": "https://localhost:8080/"
        },
        "outputId": "f0c51a3e-b04d-4cbc-bc41-9400c6ddcfe5"
      },
      "source": [
        "mean = [0.5,]\n",
        "std = [0.5, ]\n",
        "TRAIN_PATH = 'trainImage'\n",
        "train_transform = transforms.Compose([\n",
        "    transforms.Resize((28,28)),\n",
        "    transforms.ToTensor(),\n",
        "    transforms.Normalize(mean,std) \n",
        "])\n",
        "\n",
        "test_transform = transforms.Compose([\n",
        "        transforms.Resize((28,28)),\n",
        "        transforms.ToTensor(),\n",
        "        transforms.Normalize(mean,std)\n",
        "])\n",
        "\n",
        "train_dataset  = Dataset(merged_csv, TRAIN_PATH, train_transform)\n",
        "test_dataset = Dataset(merged_csv, TRAIN_PATH, test_transform)\n",
        "\n",
        "print(\"Trainig Samples merged together : \",len(train_dataset))"
      ],
      "execution_count": null,
      "outputs": [
        {
          "output_type": "stream",
          "text": [
            "Trainig Samples merged together :  72045\n"
          ],
          "name": "stdout"
        }
      ]
    },
    {
      "cell_type": "markdown",
      "metadata": {
        "id": "zS4P2HAF0Qxg"
      },
      "source": [
        "##Dataset Properties"
      ]
    },
    {
      "cell_type": "markdown",
      "metadata": {
        "id": "qQbn7jGL0Diw"
      },
      "source": [
        "This is how a train dataset sample looks like.\n",
        "3 dimensional data\n"
      ]
    },
    {
      "cell_type": "code",
      "metadata": {
        "id": "7OQU5UXZfZn3",
        "colab": {
          "base_uri": "https://localhost:8080/"
        },
        "outputId": "5a0e6179-6dd4-4018-9e33-e375e25b290f"
      },
      "source": [
        "print(type(train_dataset))\n",
        "print(\"Trainig Samples: \",train_dataset[0])"
      ],
      "execution_count": null,
      "outputs": [
        {
          "output_type": "stream",
          "text": [
            "<class '__main__.Dataset'>\n",
            "Trainig Samples:  (tensor([[[ 0.6392,  0.6392,  0.6392,  0.6392,  0.6471,  0.6392,  0.6392,\n",
            "           0.6471,  0.6392,  0.6392,  0.6471,  0.6392,  0.6314,  0.6314,\n",
            "           0.6392,  0.6314,  0.6235,  0.6314,  0.6392,  0.6314,  0.6314,\n",
            "           0.6314,  0.6392,  0.6392,  0.6471,  0.6471,  0.6471,  0.6471],\n",
            "         [ 0.6471,  0.6471,  0.6471,  0.6471,  0.6471,  0.6471,  0.6471,\n",
            "           0.6471,  0.6471,  0.6471,  0.6392,  0.6392,  0.6392,  0.6392,\n",
            "           0.6314,  0.6314,  0.6314,  0.6314,  0.6392,  0.6392,  0.6471,\n",
            "           0.6471,  0.6392,  0.6392,  0.6392,  0.6392,  0.6392,  0.6471],\n",
            "         [ 0.6471,  0.6471,  0.6471,  0.6471,  0.6471,  0.6549,  0.6549,\n",
            "           0.6471,  0.6549,  0.6471,  0.6392,  0.6471,  0.6471,  0.6392,\n",
            "           0.6392,  0.6392,  0.6314,  0.6314,  0.6392,  0.6392,  0.6392,\n",
            "           0.6392,  0.6392,  0.6392,  0.6392,  0.6314,  0.6471,  0.6471],\n",
            "         [ 0.6471,  0.6549,  0.6549,  0.6549,  0.6549,  0.6549,  0.6549,\n",
            "           0.6549,  0.6549,  0.6471,  0.6549,  0.6549,  0.6627,  0.6471,\n",
            "           0.6549,  0.6471,  0.6471,  0.6549,  0.6549,  0.6549,  0.6471,\n",
            "           0.6392,  0.6471,  0.6471,  0.6471,  0.6471,  0.6471,  0.6471],\n",
            "         [ 0.6549,  0.6549,  0.6549,  0.6549,  0.6549,  0.6549,  0.6549,\n",
            "           0.6549,  0.6549,  0.6549,  0.6549,  0.6549,  0.6549,  0.6549,\n",
            "           0.6549,  0.6549,  0.6549,  0.6471,  0.6549,  0.6549,  0.6549,\n",
            "           0.6549,  0.6549,  0.6549,  0.6471,  0.6471,  0.6392,  0.6471],\n",
            "         [ 0.6549,  0.6627,  0.6627,  0.6549,  0.6549,  0.6549,  0.6549,\n",
            "           0.4902,  0.4902,  0.6549,  0.6627,  0.6627,  0.6627,  0.6549,\n",
            "           0.6549,  0.6549,  0.6549,  0.6549,  0.6549,  0.6549,  0.6549,\n",
            "           0.6471,  0.6471,  0.6471,  0.6471,  0.6471,  0.6471,  0.6471],\n",
            "         [ 0.6627,  0.6706,  0.6627,  0.6627,  0.6627,  0.6549,  0.5529,\n",
            "           0.0902,  0.2000,  0.6314,  0.6549,  0.6627,  0.6627,  0.6627,\n",
            "           0.6549,  0.6549,  0.6549,  0.6549,  0.6627,  0.6549,  0.6549,\n",
            "           0.6471,  0.6471,  0.6471,  0.6549,  0.6549,  0.6549,  0.6471],\n",
            "         [ 0.6627,  0.6627,  0.6627,  0.6549,  0.6549,  0.6235,  0.2627,\n",
            "           0.1765,  0.0431,  0.5294,  0.6471,  0.6471,  0.6627,  0.6392,\n",
            "           0.6157,  0.6549,  0.6549,  0.6549,  0.6627,  0.6549,  0.6627,\n",
            "           0.6627,  0.6549,  0.6549,  0.6471,  0.6471,  0.6392,  0.6549],\n",
            "         [ 0.6549,  0.6549,  0.6549,  0.6471,  0.6392,  0.4824,  0.1686,\n",
            "           0.4980,  0.1451,  0.2941,  0.6078,  0.6392,  0.6392,  0.3804,\n",
            "           0.2549,  0.6235,  0.6549,  0.6549,  0.6549,  0.6549,  0.6549,\n",
            "           0.6471,  0.6549,  0.6549,  0.6549,  0.6549,  0.6471,  0.6549],\n",
            "         [ 0.6471,  0.6549,  0.6549,  0.6471,  0.6078,  0.2392,  0.3647,\n",
            "           0.6157,  0.5059,  0.1529,  0.2314,  0.4039,  0.4667,  0.1137,\n",
            "           0.1137,  0.5216,  0.5922,  0.6314,  0.6471,  0.6471,  0.6471,\n",
            "           0.6471,  0.6549,  0.6549,  0.6471,  0.6549,  0.6549,  0.6549],\n",
            "         [ 0.6392,  0.6392,  0.6392,  0.6314,  0.4902,  0.0980,  0.5137,\n",
            "           0.6235,  0.6314,  0.5765,  0.3961,  0.2235,  0.1294, -0.1373,\n",
            "          -0.0667,  0.1686,  0.4039,  0.6235,  0.6314,  0.6314,  0.6392,\n",
            "           0.6392,  0.6392,  0.6471,  0.6471,  0.6392,  0.6471,  0.6471],\n",
            "         [ 0.6471,  0.6392,  0.6392,  0.6235,  0.2941,  0.2235,  0.6078,\n",
            "           0.6314,  0.6314,  0.6235,  0.6157,  0.6000,  0.4431, -0.0980,\n",
            "           0.2392,  0.5451,  0.6000,  0.6235,  0.6314,  0.6235,  0.6392,\n",
            "           0.6392,  0.6392,  0.6392,  0.6471,  0.6392,  0.6392,  0.6471],\n",
            "         [ 0.6392,  0.6392,  0.6314,  0.6078,  0.1529,  0.2784,  0.6157,\n",
            "           0.6235,  0.6235,  0.6235,  0.6235,  0.6157,  0.3961, -0.0510,\n",
            "           0.4275,  0.5608,  0.6157,  0.6235,  0.6314,  0.6314,  0.6392,\n",
            "           0.6392,  0.6392,  0.6392,  0.6471,  0.6471,  0.6471,  0.6471],\n",
            "         [ 0.6314,  0.6392,  0.6314,  0.5843,  0.0588,  0.3333,  0.6078,\n",
            "           0.6157,  0.6157,  0.6157,  0.6157,  0.6000,  0.3569,  0.0510,\n",
            "           0.5608,  0.6157,  0.6235,  0.6235,  0.6235,  0.6235,  0.6314,\n",
            "           0.6314,  0.6392,  0.6392,  0.6392,  0.6392,  0.6392,  0.6392],\n",
            "         [ 0.6392,  0.6314,  0.6235,  0.5765,  0.0353,  0.1922,  0.6000,\n",
            "           0.6078,  0.6000,  0.6000,  0.6078,  0.6078,  0.3176,  0.0667,\n",
            "           0.5608,  0.6000,  0.5922,  0.6000,  0.6078,  0.5843,  0.5922,\n",
            "           0.6235,  0.6314,  0.6314,  0.6314,  0.6314,  0.6392,  0.6314],\n",
            "         [ 0.6392,  0.6314,  0.6314,  0.6000,  0.1922,  0.0667,  0.5294,\n",
            "           0.6000,  0.6000,  0.5922,  0.5922,  0.5843,  0.3569,  0.0353,\n",
            "           0.5216,  0.5686,  0.5373,  0.4039,  0.2235,  0.0824,  0.3569,\n",
            "           0.6157,  0.6157,  0.6235,  0.6314,  0.6392,  0.6392,  0.6392],\n",
            "         [ 0.6392,  0.6392,  0.6314,  0.6235,  0.5059,  0.0510,  0.2000,\n",
            "           0.5373,  0.5843,  0.5922,  0.5843,  0.5843,  0.4824,  0.0588,\n",
            "           0.1451,  0.1451,  0.0196, -0.0902, -0.0667,  0.1216,  0.4980,\n",
            "           0.6078,  0.6157,  0.6157,  0.6314,  0.6314,  0.6314,  0.6314],\n",
            "         [ 0.6392,  0.6314,  0.6314,  0.6235,  0.6157,  0.4824,  0.1922,\n",
            "           0.1686,  0.2549,  0.3176,  0.3333,  0.3882,  0.3882,  0.2471,\n",
            "           0.0196, -0.0196,  0.0039,  0.1373,  0.3647,  0.5529,  0.6000,\n",
            "           0.6078,  0.6235,  0.6235,  0.6314,  0.6314,  0.6314,  0.6392],\n",
            "         [ 0.6392,  0.6314,  0.6314,  0.6235,  0.6235,  0.6078,  0.5843,\n",
            "           0.5137,  0.4510,  0.3647,  0.3098,  0.2392,  0.3020,  0.2941,\n",
            "           0.3412,  0.4353,  0.5059,  0.5608,  0.5843,  0.6000,  0.6078,\n",
            "           0.6157,  0.6235,  0.6314,  0.6314,  0.6314,  0.6314,  0.6392],\n",
            "         [ 0.6392,  0.6392,  0.6314,  0.6314,  0.6235,  0.6235,  0.6157,\n",
            "           0.6157,  0.6000,  0.6000,  0.5922,  0.5843,  0.5843,  0.5922,\n",
            "           0.5922,  0.5922,  0.5922,  0.6078,  0.6157,  0.6235,  0.6157,\n",
            "           0.6235,  0.6314,  0.6314,  0.6314,  0.6314,  0.6314,  0.6392],\n",
            "         [ 0.6392,  0.6314,  0.6314,  0.6314,  0.6314,  0.6235,  0.6235,\n",
            "           0.6157,  0.6078,  0.6157,  0.6157,  0.6157,  0.6157,  0.6078,\n",
            "           0.6078,  0.6078,  0.6078,  0.6157,  0.6157,  0.6235,  0.6235,\n",
            "           0.6235,  0.6314,  0.6314,  0.6314,  0.6392,  0.6392,  0.6392],\n",
            "         [ 0.6392,  0.6392,  0.6392,  0.6392,  0.6392,  0.6235,  0.6235,\n",
            "           0.6314,  0.6235,  0.6235,  0.6235,  0.6157,  0.6078,  0.6157,\n",
            "           0.6235,  0.6235,  0.6235,  0.6235,  0.6235,  0.6235,  0.6314,\n",
            "           0.6314,  0.6392,  0.6392,  0.6392,  0.6392,  0.6471,  0.6471],\n",
            "         [ 0.6471,  0.6392,  0.6392,  0.6392,  0.6392,  0.6392,  0.6235,\n",
            "           0.6314,  0.6314,  0.6314,  0.6314,  0.6235,  0.6235,  0.6235,\n",
            "           0.6235,  0.6235,  0.6235,  0.6235,  0.6314,  0.6314,  0.6314,\n",
            "           0.6471,  0.6471,  0.6392,  0.6392,  0.6471,  0.6471,  0.6392],\n",
            "         [ 0.6471,  0.6392,  0.6392,  0.6471,  0.6392,  0.6392,  0.6392,\n",
            "           0.6314,  0.6314,  0.6314,  0.6314,  0.6235,  0.6235,  0.6314,\n",
            "           0.6314,  0.6314,  0.6235,  0.6314,  0.6314,  0.6314,  0.6314,\n",
            "           0.6314,  0.6392,  0.6392,  0.6392,  0.6471,  0.6471,  0.6471],\n",
            "         [ 0.6471,  0.6392,  0.6471,  0.6392,  0.6392,  0.6392,  0.6392,\n",
            "           0.6392,  0.6392,  0.6314,  0.6314,  0.6314,  0.6314,  0.6314,\n",
            "           0.6314,  0.6314,  0.6235,  0.6314,  0.6314,  0.6314,  0.6314,\n",
            "           0.6314,  0.6392,  0.6392,  0.6392,  0.6471,  0.6392,  0.6471],\n",
            "         [ 0.6471,  0.6471,  0.6392,  0.6471,  0.6471,  0.6392,  0.6392,\n",
            "           0.6392,  0.6392,  0.6314,  0.6314,  0.6314,  0.6235,  0.6314,\n",
            "           0.6314,  0.6314,  0.6392,  0.6392,  0.6314,  0.6392,  0.6314,\n",
            "           0.6314,  0.6235,  0.6314,  0.6314,  0.6471,  0.6471,  0.6471],\n",
            "         [ 0.6392,  0.6471,  0.6471,  0.6471,  0.6392,  0.6392,  0.6392,\n",
            "           0.6392,  0.6392,  0.6314,  0.6392,  0.6392,  0.6314,  0.6314,\n",
            "           0.6314,  0.6314,  0.6392,  0.6392,  0.6392,  0.6392,  0.6314,\n",
            "           0.6314,  0.6314,  0.6392,  0.6471,  0.6549,  0.6471,  0.6471],\n",
            "         [ 0.6471,  0.6471,  0.6471,  0.6392,  0.6392,  0.6392,  0.6392,\n",
            "           0.6392,  0.6392,  0.6392,  0.6392,  0.6314,  0.6314,  0.6392,\n",
            "           0.6392,  0.6314,  0.6392,  0.6392,  0.6392,  0.6392,  0.6392,\n",
            "           0.6392,  0.6471,  0.6471,  0.6392,  0.6471,  0.6471,  0.6471]]]), 5)\n"
          ],
          "name": "stdout"
        }
      ]
    },
    {
      "cell_type": "markdown",
      "metadata": {
        "id": "_ziG04hW5FRY"
      },
      "source": [
        "Now we can see the size and shape of the training dataset. \n",
        "\n",
        "Here, 1 shows the dimension for the color chanel and the images are reshaped to 28 $ \\times $ 28 pixel size( 28 pixels height and width image converted into a 784 element vector)"
      ]
    },
    {
      "cell_type": "code",
      "metadata": {
        "id": "BSt36ycmf4re",
        "colab": {
          "base_uri": "https://localhost:8080/"
        },
        "outputId": "a6a02acb-28b9-46aa-d2b9-81b6dbd00b7f"
      },
      "source": [
        "# One Image Size\n",
        "print(train_dataset[0][0].size())\n",
        "print(train_dataset[0][0].numpy().shape)\n",
        "# First Image Label\n",
        "print(train_dataset[0][1])"
      ],
      "execution_count": null,
      "outputs": [
        {
          "output_type": "stream",
          "text": [
            "torch.Size([1, 28, 28])\n",
            "(1, 28, 28)\n",
            "5\n"
          ],
          "name": "stdout"
        }
      ]
    },
    {
      "cell_type": "code",
      "metadata": {
        "id": "VDK_scpZkJhu",
        "colab": {
          "base_uri": "https://localhost:8080/",
          "height": 320
        },
        "outputId": "e429aac0-a14c-4e6b-d3a0-915e01f892a2"
      },
      "source": [
        "## Displaying a NumtaDB Image\n",
        "# Label\n",
        "print(\"Label:\")\n",
        "print(train_dataset[7][1])\n",
        "\n",
        "show_img = train_dataset[7][0].numpy().reshape(28, 28)\n",
        "plt.imshow(show_img, cmap='gray')"
      ],
      "execution_count": null,
      "outputs": [
        {
          "output_type": "stream",
          "text": [
            "Label:\n",
            "0\n"
          ],
          "name": "stdout"
        },
        {
          "output_type": "execute_result",
          "data": {
            "text/plain": [
              "<matplotlib.image.AxesImage at 0x7f5ae418efd0>"
            ]
          },
          "metadata": {
            "tags": []
          },
          "execution_count": 23
        },
        {
          "output_type": "display_data",
          "data": {
            "image/png": "[encoded data removed]",
            "text/plain": [
              "<Figure size 432x288 with 1 Axes>"
            ]
          },
          "metadata": {
            "tags": [],
            "needs_background": "light"
          }
        }
      ]
    },
    {
      "cell_type": "markdown",
      "metadata": {
        "id": "pHirhC0JAkBC"
      },
      "source": [
        "Using the **matplotlib** python package 25 images of the training dataset are displayed.\n",
        "\n"
      ]
    },
    {
      "cell_type": "code",
      "metadata": {
        "id": "o4RlnGWLVwUk"
      },
      "source": [
        "def plot_images(images):\n",
        "\n",
        "    n_images = len(images)\n",
        "\n",
        "    rows = int(np.sqrt(n_images))\n",
        "    cols = int(np.sqrt(n_images))\n",
        "\n",
        "    fig = plt.figure()\n",
        "    for i in range(rows*cols):\n",
        "        ax = fig.add_subplot(rows, cols, i+1)\n",
        "        ax.imshow(images[i].view(28, 28).cpu().numpy(), cmap = 'bone')\n",
        "        ax.axis('off')"
      ],
      "execution_count": null,
      "outputs": []
    },
    {
      "cell_type": "code",
      "metadata": {
        "colab": {
          "base_uri": "https://localhost:8080/",
          "height": 248
        },
        "id": "AryDYGPZVk3X",
        "outputId": "164773af-6e96-4f65-f2b2-7d7ca5adadfb"
      },
      "source": [
        "N_IMAGES =25\n",
        "\n",
        "images = [image for image, label in [train_dataset[i] for i in range(N_IMAGES)]] \n",
        "\n",
        "plot_images(images)"
      ],
      "execution_count": null,
      "outputs": [
        {
          "output_type": "display_data",
          "data": {
            "image/png": "[encoded data removed]",
            "text/plain": [
              "<Figure size 432x288 with 25 Axes>"
            ]
          },
          "metadata": {
            "tags": [],
            "needs_background": "light"
          }
        }
      ]
    },
    {
      "cell_type": "markdown",
      "metadata": {
        "id": "s0ktl4ZZD9If"
      },
      "source": [
        "## Defining the Model \n",
        "\n",
        "Our model will be a neural network, with different hypermeter settings. \n",
        "\n",
        "### Expanding Neural Network variants\n",
        "\n",
        "There are **2 ways** to expand a neural network\n",
        "- Different non-linear activation\n",
        "- More hidden layers\n",
        "\n",
        "The image below shows the archicture of the model we will take in our first setting. It is a 3 layer deep neural network. with 784(28*28) inputs and 10 ouputs and 3 hidden layer in between.\n",
        "\n",
        "<div align=\"center\">\n",
        "<img src=\"https://drive.google.com/uc?export=view&id=1fUWIS2OZDG970lFMEhGM0c8spo-Zx0FD\" width=\"500\">\n",
        "</div>\n"
      ]
    },
    {
      "cell_type": "markdown",
      "metadata": {
        "id": "AeLdYDd0GA4n"
      },
      "source": [
        "At first we will **flatten** our 1x28x28 (1 color channel, 28 pixels height and width) image into a 784 element vector, also called 784 *features*. Next, the 784 dimensional input is passed through the first hidden layer to transform it into 64 dimensions. Then these output is passed to each neuron of 2nd hidden layer. similar occurence happen from 2nd to 3rd hidden layer.  Finally, an output layer which will transform it into a 10 dimensional vector. Each hidden layers are fully connected to the other. The output dimension should equal the number of classes within our data. Here we have ten digits, 0 - 9, so need our output to be 10 dimensions.\n",
        "\n",
        "The transformation between 784 to 64, 64 to 64, 64 to 64  and 64 to 10 dimensions are done by **`Linear`** layers. These are also known as fully connected or affine layers. In these layers every element in one layer is connected to every element in the next. These elements can be visualised ***neurons*** as this architecture is inspired by how the human brain is made of millions of interconnected nodes, also called neurons. \n",
        "\n",
        "\n",
        "\n",
        "Now we are going to try out different setting to get the best accuracy."
      ]
    },
    {
      "cell_type": "markdown",
      "metadata": {
        "id": "0xSTnkG_2V06"
      },
      "source": [
        "## Setting_1: **3 Layer** Deep Neural Network with **ReLU** Activation.\n",
        "### **Parameters**\n",
        "- **totaldata:** 72,045\n",
        "- **minibatch:** 128\n",
        "- **iterations:**14,000\n",
        "- **learning rate**: 0.05\n",
        "-**Hidden Layer:** 64\n",
        "-  **epochs** = $iterations \\div \\frac{totaldata}{minibatch} = 14000 \\div \\frac{72045}{128} = 24.87\\approx 24$\n",
        "- **Input dimension:** $28 \\times 28 = 784$\n",
        "- **Output dimension: 10**\n",
        "  - 0, 1, 2, 3, 4, 5, 6, 7, 8, 9\n",
        "-**Accuracy:** 68.76%"
      ]
    },
    {
      "cell_type": "code",
      "metadata": {
        "id": "wk181y-32V09"
      },
      "source": [
        "# Hyperparameters\n",
        "batch_size = 128\n",
        "num_iters = 14000\n",
        "input_dim = 28*28 # num_features = 784\n",
        "num_hidden = 64\n",
        "output_dim = 10\n",
        "learning_rate = 0.05"
      ],
      "execution_count": null,
      "outputs": []
    },
    {
      "cell_type": "markdown",
      "metadata": {
        "id": "sgM9ARKBSWb-"
      },
      "source": [
        "Now for testing purpose the training data is split into 90:10 ratio. The testing set which is of 10% should be created from the training set. Although there is a test set present in the NumtaDB dataset, the test set maybe not be same for the specific training set. That is why the validation set or training set is made form the training set.\n",
        "\n",
        "It is always better to **shuffle the indices of the training set** .We only need to shuffle our training set as it will be used for stochastic gradient descent and we want the each batch to be different between epochs. \n",
        "\n",
        "`DataLoader`  is defined for each of the training/test sets. We can iterate over these and they will yield batches of images and labels which we can use to train our model."
      ]
    },
    {
      "cell_type": "code",
      "metadata": {
        "colab": {
          "base_uri": "https://localhost:8080/"
        },
        "id": "-VK4COZF2V09",
        "outputId": "597c884d-0b5d-445b-efba-0a89d1ab41da"
      },
      "source": [
        "\n",
        "#batch size\n",
        "batch_size =128\n",
        "\n",
        "# split data 10% for testing\n",
        "test_size = 0.1\n",
        "\n",
        "# obtain training indices that will be used for validation\n",
        "num_train = len(train_dataset)\n",
        "\n",
        "# mix data\n",
        "# index of num of train\n",
        "indices = list(range(num_train))\n",
        "# random the index\n",
        "np.random.shuffle(indices)\n",
        "split = int(np.floor(test_size * num_train))\n",
        "# divied into two part\n",
        "train_idx, test_idx = indices[split:], indices[:split]\n",
        "\n",
        "# define the sampler\n",
        "train_sampler = SubsetRandomSampler(train_idx)\n",
        "test_sampler = SubsetRandomSampler(test_idx)\n",
        "\n",
        "# prepare loaders\n",
        "train_loader = torch.utils.data.DataLoader(\n",
        "    train_dataset, batch_size=batch_size,\n",
        "    sampler=train_sampler)\n",
        "\n",
        "test_loader = torch.utils.data.DataLoader(\n",
        "    test_dataset, batch_size=batch_size,\n",
        "    sampler=test_sampler)\n",
        "\n",
        "print(\"Train dataloader:{}\".format(len(train_loader)))\n",
        "print(\"Test dataloader:{}\".format(len(test_loader)))"
      ],
      "execution_count": null,
      "outputs": [
        {
          "output_type": "stream",
          "text": [
            "Train dataloader:507\n",
            "Test dataloader:57\n"
          ],
          "name": "stdout"
        }
      ]
    },
    {
      "cell_type": "markdown",
      "metadata": {
        "id": "17_hEp-JSStH"
      },
      "source": [
        "#### Step #1 : Design model using class\n",
        "\n",
        "\n",
        "\n",
        "*   Using RelU activation function in each hidden layer.\n",
        "*   3 hidden layer neural model is built.\n",
        "\n",
        "\n",
        "\n",
        "\n"
      ]
    },
    {
      "cell_type": "code",
      "metadata": {
        "id": "zCGjrnBI2V0_"
      },
      "source": [
        "class DeepNeuralNetworkModel32(nn.Module):\n",
        "    def __init__(self, input_size, num_classes, num_hidden):\n",
        "        super().__init__()\n",
        "        ### 1st hidden layer: 784 --> 100\n",
        "        self.linear_1 = nn.Linear(input_size, num_hidden)\n",
        "        ### Non-linearity in 1st hidden layer\n",
        "        self.relu_1 = nn.ReLU()\n",
        "\n",
        "        ### 2nd hidden layer: 100 --> 100\n",
        "        self.linear_2 = nn.Linear(num_hidden, num_hidden)\n",
        "        ### Non-linearity in 2nd hidden layer\n",
        "        self.relu_2 = nn.ReLU()\n",
        "\n",
        "        ### 2nd hidden layer: 100 --> 100\n",
        "        self.linear_3 = nn.Linear(num_hidden, num_hidden)\n",
        "        ### Non-linearity in 2nd hidden layer\n",
        "        self.relu_3 = nn.ReLU()\n",
        "\n",
        "        ### Output layer: 100 --> 10\n",
        "        self.linear_out = nn.Linear(num_hidden, num_classes)\n",
        "\n",
        "    def forward(self, x):\n",
        "        ### 1st hidden layer\n",
        "        out  = self.linear_1(x)\n",
        "        ### Non-linearity in 1st hidden layer\n",
        "        out = self.relu_1(out)\n",
        "        \n",
        "        ### 2nd hidden layer\n",
        "        out  = self.linear_2(out)\n",
        "        ### Non-linearity in 2nd hidden layer\n",
        "        out = self.relu_2(out)\n",
        "\n",
        "        ### 3 hidden layer\n",
        "        out  = self.linear_3(out)\n",
        "        ### Non-linearity in 2nd hidden layer\n",
        "        out = self.relu_3(out)\n",
        "        \n",
        "        # Linear layer (output)\n",
        "        probas  = self.linear_out(out)\n",
        "        return probas\n",
        "\n"
      ],
      "execution_count": null,
      "outputs": []
    },
    {
      "cell_type": "markdown",
      "metadata": {
        "id": "qzKopDSd4O-F"
      },
      "source": [
        "We place our model and criterion on to the device by using the `.to` method. We then define `device`. This is used to place your model and data on to a GPU, if you have one."
      ]
    },
    {
      "cell_type": "code",
      "metadata": {
        "colab": {
          "base_uri": "https://localhost:8080/"
        },
        "id": "p1z87ahN2V1A",
        "outputId": "55074fcd-d9ed-43c9-edcf-c7575a2bac10"
      },
      "source": [
        "model = DeepNeuralNetworkModel32(input_size = input_dim,\n",
        "                           num_classes = output_dim,\n",
        "                           num_hidden = num_hidden)\n",
        "# To enable GPU\n",
        "device = torch.device(\"cuda:0\" if torch.cuda.is_available() else \"cpu\")\n",
        "model.to(device)\n"
      ],
      "execution_count": null,
      "outputs": [
        {
          "output_type": "execute_result",
          "data": {
            "text/plain": [
              "DeepNeuralNetworkModel32(\n",
              "  (linear_1): Linear(in_features=784, out_features=64, bias=True)\n",
              "  (relu_1): ReLU()\n",
              "  (linear_2): Linear(in_features=64, out_features=64, bias=True)\n",
              "  (relu_2): ReLU()\n",
              "  (linear_3): Linear(in_features=64, out_features=64, bias=True)\n",
              "  (relu_3): ReLU()\n",
              "  (linear_out): Linear(in_features=64, out_features=10, bias=True)\n",
              ")"
            ]
          },
          "metadata": {
            "tags": []
          },
          "execution_count": 41
        }
      ]
    },
    {
      "cell_type": "markdown",
      "metadata": {
        "id": "66W9y_ZeTfOP"
      },
      "source": [
        "\n",
        "###Step #2 : Construct loss and optimizer\n",
        "\n",
        "Unlike linear regression, we do not use **MSE** here, we need **Cross Entropy Loss** to calculate our loss before we backpropagate and update our parameters.\n",
        "\n",
        "`criterion = nn.CrossEntropyLoss() ` \n",
        "\n",
        "It does 2 things at the same time.\n",
        "\n",
        "1. Computes ReLU activation function.\n",
        "2. Computes Cross Entropy Loss\n",
        "\n",
        "\n",
        "The ReLU activation function is a popular non-linear function that is simply **$max(0, x)$**, where $x$ is the weighted sum of the inputs to that neuron. Other activation functions used are hyperbolic tan (tanh) and sigmoid function, however ReLU is the most commonly used.\n",
        "\n",
        "![](https://github.com/bentrevett/pytorch-image-classification/blob/master/assets/relu.png?raw=1)\n",
        "\n",
        "\n",
        "One thing to note is that we do not use an activation function on the input directly or on the output. Activation functions **should never** be used directly on the input. PyTorch combines activation functions to be applied on the output with the functions which calculate the *loss*, also known as *error* or *cost*, of a neural network. This is done for numerical stability.\n"
      ]
    },
    {
      "cell_type": "markdown",
      "metadata": {
        "id": "kypsG5LZVngT"
      },
      "source": [
        "Next, our optimizer needs to be defined which will update the parameters of our model with respect to the loss calculated on the data. Here we used Stochastic gradient descent(SGD) as our optimizer that makes forward and backward propagation for every record.\n",
        "\n",
        "SGD algorithm is used with its default parameters and learning rate passed in it. Although there are different optimizers SGD can work well for logistic regression. There are more optimizers that can be experimented in this [article](https://ruder.io/optimizing-gradient-descent/)."
      ]
    },
    {
      "cell_type": "code",
      "metadata": {
        "id": "C6e4lCLi2V1D"
      },
      "source": [
        "criterion = nn.CrossEntropyLoss()\n",
        "optimizer = torch.optim.SGD(model.parameters(), lr=learning_rate)\n"
      ],
      "execution_count": null,
      "outputs": []
    },
    {
      "cell_type": "code",
      "metadata": {
        "colab": {
          "base_uri": "https://localhost:8080/"
        },
        "id": "uSWtKP8g-uri",
        "outputId": "970dcd67-dfad-4960-cb09-2f67ab839b68"
      },
      "source": [
        "num_epochs = num_iters / (len(train_dataset) / batch_size)\n",
        "num_epochs = int(num_epochs)\n",
        "print(num_epochs)"
      ],
      "execution_count": null,
      "outputs": [
        {
          "output_type": "stream",
          "text": [
            "24\n"
          ],
          "name": "stdout"
        }
      ]
    },
    {
      "cell_type": "markdown",
      "metadata": {
        "id": "bEgrNNRc4Sn5"
      },
      "source": [
        "###Step #3: Training the model: forward, loss, backward, step\n",
        "\n",
        "\n",
        "\n",
        "\n",
        "  \n",
        "\n"
      ]
    },
    {
      "cell_type": "code",
      "metadata": {
        "colab": {
          "base_uri": "https://localhost:8080/"
        },
        "id": "d9kHWOZq2V1E",
        "outputId": "4267c576-b403-41a7-a16b-3372bae7feca"
      },
      "source": [
        "\n",
        "iter = 0\n",
        "iteration_loss = []\n",
        "num_epochs = num_iters / (len(train_dataset) / batch_size)\n",
        "num_epochs = int(num_epochs)\n",
        "for epoch in range(num_epochs):\n",
        "    for i, (images, labels) in enumerate(train_loader):\n",
        "\n",
        "        images = images.view(-1, 28*28).to(device)\n",
        "        labels = labels.to(device)\n",
        "\n",
        "        # Clear gradients w.r.t. parameters\n",
        "        optimizer.zero_grad()\n",
        "\n",
        "        # Forward pass to get output/logits\n",
        "        outputs = model(images) \n",
        "\n",
        "        # Calculate Loss: softmax --> cross entropy loss\n",
        "        loss = criterion(outputs, labels)\n",
        "\n",
        "        # Getting gradients w.r.t. parameters\n",
        "        loss.backward()\n",
        "\n",
        "        # Updating parameters\n",
        "        optimizer.step()\n",
        "\n",
        "        iter += 1\n",
        "\n",
        "        if iter % 500 == 0:\n",
        "            # Calculate Accuracy         \n",
        "            correct = 0\n",
        "            total = 0\n",
        "            # Iterate through test dataset\n",
        "            for images, labels in test_loader:\n",
        "               \n",
        "                images = images.view(-1, 28*28).to(device)\n",
        "\n",
        "                # Forward pass only to get logits/output\n",
        "                outputs = model(images)\n",
        "\n",
        "                # Get predictions from the maximum value\n",
        "                _, predicted = torch.max(outputs, 1)\n",
        "\n",
        "                # Total number of labels\n",
        "                total += labels.size(0)\n",
        "\n",
        "\n",
        "                # Total correct predictions\n",
        "                if torch.cuda.is_available():\n",
        "                    correct += (predicted.cpu() == labels.cpu()).sum() \n",
        "                else:\n",
        "                    correct += (predicted == labels).sum()\n",
        "\n",
        "            accuracy = 100 * correct.item() / total\n",
        "\n",
        "            # Print Loss\n",
        "            iteration_loss.append(loss.item())\n",
        "            print('Iteration: {}. Loss: {}. Accuracy: {}'.format(iter, loss.item(), accuracy))"
      ],
      "execution_count": null,
      "outputs": [
        {
          "output_type": "stream",
          "text": [
            "Iteration: 500. Loss: 1.9550752639770508. Accuracy: 25.860632981676847\n",
            "Iteration: 1000. Loss: 1.801732063293457. Accuracy: 28.678511937812328\n",
            "Iteration: 1500. Loss: 1.7477679252624512. Accuracy: 36.1188228761799\n",
            "Iteration: 2000. Loss: 1.7116748094558716. Accuracy: 44.003331482509715\n",
            "Iteration: 2500. Loss: 1.5776315927505493. Accuracy: 43.03164908384231\n",
            "Iteration: 3000. Loss: 1.6777348518371582. Accuracy: 41.935036091060525\n",
            "Iteration: 3500. Loss: 1.635998010635376. Accuracy: 41.86563020544142\n",
            "Iteration: 4000. Loss: 1.3812156915664673. Accuracy: 43.04553026096613\n",
            "Iteration: 4500. Loss: 1.3871617317199707. Accuracy: 46.23820099944475\n",
            "Iteration: 5000. Loss: 1.3996976613998413. Accuracy: 51.97112715158245\n",
            "Iteration: 5500. Loss: 1.5606170892715454. Accuracy: 47.18212104386452\n",
            "Iteration: 6000. Loss: 1.3085559606552124. Accuracy: 53.05385896724042\n",
            "Iteration: 6500. Loss: 1.4007232189178467. Accuracy: 56.621321488062186\n",
            "Iteration: 7000. Loss: 1.5060296058654785. Accuracy: 49.48639644641866\n",
            "Iteration: 7500. Loss: 1.4459973573684692. Accuracy: 41.33814547473626\n",
            "Iteration: 8000. Loss: 1.1788666248321533. Accuracy: 59.45308162132149\n",
            "Iteration: 8500. Loss: 1.1434062719345093. Accuracy: 62.881732370905056\n",
            "Iteration: 9000. Loss: 1.1878690719604492. Accuracy: 50.860632981676844\n",
            "Iteration: 9500. Loss: 1.1693838834762573. Accuracy: 61.95169350360911\n",
            "Iteration: 10000. Loss: 0.9816633462905884. Accuracy: 48.76457523598001\n",
            "Iteration: 10500. Loss: 1.0260924100875854. Accuracy: 59.55024986118823\n",
            "Iteration: 11000. Loss: 1.2215993404388428. Accuracy: 62.92337590227651\n",
            "Iteration: 11500. Loss: 0.8985801339149475. Accuracy: 66.74069961132705\n",
            "Iteration: 12000. Loss: 1.1685233116149902. Accuracy: 68.76735147140478\n"
          ],
          "name": "stdout"
        }
      ]
    },
    {
      "cell_type": "markdown",
      "metadata": {
        "id": "2xpoEHL_BsrT"
      },
      "source": [
        "### Step#4: Graph Plot of loss function with each iteration."
      ]
    },
    {
      "cell_type": "code",
      "metadata": {
        "colab": {
          "base_uri": "https://localhost:8080/",
          "height": 320
        },
        "id": "OKe0esLT2V1F",
        "outputId": "2fdabbc6-edbd-40ba-d2e8-c03e35823328"
      },
      "source": [
        "import matplotlib\n",
        "import matplotlib.pyplot as plt\n",
        "\n",
        "print (iteration_loss)\n",
        "plt.plot(iteration_loss)\n",
        "plt.ylabel('Cross Entropy Loss')\n",
        "plt.xlabel('Iteration (in every 500)')\n",
        "plt.show()"
      ],
      "execution_count": null,
      "outputs": [
        {
          "output_type": "stream",
          "text": [
            "[1.9550752639770508, 1.801732063293457, 1.7477679252624512, 1.7116748094558716, 1.5776315927505493, 1.6777348518371582, 1.635998010635376, 1.3812156915664673, 1.3871617317199707, 1.3996976613998413, 1.5606170892715454, 1.3085559606552124, 1.4007232189178467, 1.5060296058654785, 1.4459973573684692, 1.1788666248321533, 1.1434062719345093, 1.1878690719604492, 1.1693838834762573, 0.9816633462905884, 1.0260924100875854, 1.2215993404388428, 0.8985801339149475, 1.1685233116149902]\n"
          ],
          "name": "stdout"
        },
        {
          "output_type": "display_data",
          "data": {
            "image/png": "[encoded data removed]",
            "text/plain": [
              "<Figure size 432x288 with 1 Axes>"
            ]
          },
          "metadata": {
            "tags": [],
            "needs_background": "light"
          }
        }
      ]
    },
    {
      "cell_type": "markdown",
      "metadata": {
        "id": "Q5h542mUWVXK"
      },
      "source": [
        "Saving the model "
      ]
    },
    {
      "cell_type": "code",
      "metadata": {
        "colab": {
          "base_uri": "https://localhost:8080/"
        },
        "id": "mV0BpsJR2V1F",
        "outputId": "0196de1b-1669-4b51-d864-f84617af0e75"
      },
      "source": [
        "from google.colab import drive\n",
        "\n",
        "drive.mount('/content/gdrive')\n",
        "\n",
        "root_path = '/content/gdrive/MyDrive/4.2/sc/'"
      ],
      "execution_count": null,
      "outputs": [
        {
          "output_type": "stream",
          "text": [
            "Mounted at /content/gdrive\n"
          ],
          "name": "stdout"
        }
      ]
    },
    {
      "cell_type": "code",
      "metadata": {
        "id": "RDWbq7IT2V1G"
      },
      "source": [
        "import pickle\n",
        "save_model = True\n",
        "\n",
        "\n",
        "if save_model is True:\n",
        "    # Saves only parameters\n",
        "    # wights & biases\n",
        "    torch.save(model.state_dict(), root_path + 'Relu3_55.pkl') "
      ],
      "execution_count": null,
      "outputs": []
    },
    {
      "cell_type": "markdown",
      "metadata": {
        "id": "YaVxEzpmL85-"
      },
      "source": [
        "## Setting_2: **3 Layer** Deep Neural Network with **ReLU** Activation.\n",
        "### **Parameters**\n",
        "- **totaldata:** 72,045\n",
        "- **minibatch:** 220\n",
        "- **iterations:**15,000\n",
        "-**Hidden Layer:** 170\n",
        "- **learning rate**: 0.05\n",
        "-  **epochs** = $iterations \\div \\frac{totaldata}{minibatch} = 15000 \\div \\frac{72045}{220} = 45.03\\approx 45$\n",
        "- **Input dimension:** $28 \\times 28 = 784$\n",
        "- **Output dimension: 10**\n",
        "  - 0, 1, 2, 3, 4, 5, 6, 7, 8, 9\n",
        "-**Accuracy:** 76.90%"
      ]
    },
    {
      "cell_type": "code",
      "metadata": {
        "id": "p2wGe5oVySKx"
      },
      "source": [
        "# Hyperparameters\n",
        "batch_size = 220\n",
        "num_iters = 15000\n",
        "input_dim = 28*28 # num_features = 784\n",
        "num_hidden =170\n",
        "output_dim = 10\n",
        "learning_rate = 0.05\n"
      ],
      "execution_count": null,
      "outputs": []
    },
    {
      "cell_type": "code",
      "metadata": {
        "colab": {
          "base_uri": "https://localhost:8080/"
        },
        "id": "f5puEJjjL31I",
        "outputId": "dfb43d2a-569d-41dd-9fc1-ba3fe0599080"
      },
      "source": [
        "num_epochs = num_iters / (len(train_dataset) / batch_size)\n",
        "num_epochs = int(num_epochs)\n",
        "print(num_epochs)"
      ],
      "execution_count": null,
      "outputs": [
        {
          "output_type": "stream",
          "text": [
            "45\n"
          ],
          "name": "stdout"
        }
      ]
    },
    {
      "cell_type": "markdown",
      "metadata": {
        "id": "6TjZTI1JXXQf"
      },
      "source": [
        "Now for testing purpose the training data is split into 90:10 ratio. The testing set which is of 10% should be created from the training set. Although there is a test set present in the NumtaDB dataset, the test set maybe not be same for the specific training set. That is why the validation set or training set is made form the training set.\n",
        "\n",
        "It is always better to **shuffle the indices of the training set** .We only need to shuffle our training set as it will be used for stochastic gradient descent and we want the each batch to be different between epochs. \n",
        "\n",
        "`DataLoader`  is defined for each of the training/test sets. We can iterate over these and they will yield batches of images and labels which we can use to train our model."
      ]
    },
    {
      "cell_type": "code",
      "metadata": {
        "colab": {
          "base_uri": "https://localhost:8080/"
        },
        "id": "Lc6b7XUzySKy",
        "outputId": "da5ffaf7-a497-4bc7-9b97-8378574a1838"
      },
      "source": [
        "\n",
        "#batch size\n",
        "batch_size =220\n",
        "\n",
        "# split data 10% for testing\n",
        "test_size = 0.1\n",
        "\n",
        "# obtain training indices that will be used for validation\n",
        "num_train = len(train_dataset)\n",
        "\n",
        "# mix data\n",
        "# index of num of train\n",
        "indices = list(range(num_train))\n",
        "# random the index\n",
        "np.random.shuffle(indices)\n",
        "split = int(np.floor(test_size * num_train))\n",
        "# divied into two part\n",
        "train_idx, test_idx = indices[split:], indices[:split]\n",
        "\n",
        "# define the sampler\n",
        "train_sampler = SubsetRandomSampler(train_idx)\n",
        "test_sampler = SubsetRandomSampler(test_idx)\n",
        "\n",
        "# prepare loaders\n",
        "train_loader = torch.utils.data.DataLoader(\n",
        "    train_dataset, batch_size=batch_size,\n",
        "    sampler=train_sampler)\n",
        "\n",
        "test_loader = torch.utils.data.DataLoader(\n",
        "    test_dataset, batch_size=batch_size,\n",
        "    sampler=test_sampler)\n",
        "\n",
        "print(\"Train dataloader:{}\".format(len(train_loader)))\n",
        "print(\"Test dataloader:{}\".format(len(test_loader)))\n"
      ],
      "execution_count": null,
      "outputs": [
        {
          "output_type": "stream",
          "text": [
            "Train dataloader:295\n",
            "Test dataloader:33\n"
          ],
          "name": "stdout"
        }
      ]
    },
    {
      "cell_type": "markdown",
      "metadata": {
        "id": "bd_ovAvPXTqY"
      },
      "source": [
        "#### Step #1 : Design model using class\n",
        "\n",
        "\n",
        "\n",
        "*   Using ReLU activation function in each hidden layer.\n",
        "*   3 hidden layer neural model is built.\n",
        "\n",
        "\n",
        "\n",
        "\n"
      ]
    },
    {
      "cell_type": "code",
      "metadata": {
        "id": "Ofx6YAmeySK0"
      },
      "source": [
        "class DeepNeuralNetworkModel32(nn.Module):\n",
        "    def __init__(self, input_size, num_classes, num_hidden):\n",
        "        super().__init__()\n",
        "        ### 1st hidden layer: 784 --> 100\n",
        "        self.linear_1 = nn.Linear(input_size, num_hidden)\n",
        "        ### Non-linearity in 1st hidden layer\n",
        "        self.relu_1 = nn.ReLU()\n",
        "\n",
        "        ### 2nd hidden layer: 100 --> 100\n",
        "        self.linear_2 = nn.Linear(num_hidden, num_hidden)\n",
        "        ### Non-linearity in 2nd hidden layer\n",
        "        self.relu_2 = nn.ReLU()\n",
        "\n",
        "        ### 2nd hidden layer: 100 --> 100\n",
        "        self.linear_3 = nn.Linear(num_hidden, num_hidden)\n",
        "        ### Non-linearity in 2nd hidden layer\n",
        "        self.relu_3 = nn.ReLU()\n",
        "\n",
        "        ### Output layer: 100 --> 10\n",
        "        self.linear_out = nn.Linear(num_hidden, num_classes)\n",
        "\n",
        "    def forward(self, x):\n",
        "        ### 1st hidden layer\n",
        "        out  = self.linear_1(x)\n",
        "        ### Non-linearity in 1st hidden layer\n",
        "        out = self.relu_1(out)\n",
        "        \n",
        "        ### 2nd hidden layer\n",
        "        out  = self.linear_2(out)\n",
        "        ### Non-linearity in 2nd hidden layer\n",
        "        out = self.relu_2(out)\n",
        "\n",
        "        ### 3 hidden layer\n",
        "        out  = self.linear_3(out)\n",
        "        ### Non-linearity in 2nd hidden layer\n",
        "        out = self.relu_3(out)\n",
        "        \n",
        "        # Linear layer (output)\n",
        "        probas  = self.linear_out(out)\n",
        "        return probas\n",
        "\n"
      ],
      "execution_count": null,
      "outputs": []
    },
    {
      "cell_type": "markdown",
      "metadata": {
        "id": "kK7iN_UeXdVq"
      },
      "source": [
        "We place our model and criterion on to the device by using the `.to` method. We then define `device`. This is used to place your model and data on to a GPU, if you have one."
      ]
    },
    {
      "cell_type": "code",
      "metadata": {
        "colab": {
          "base_uri": "https://localhost:8080/"
        },
        "id": "pWDmAKyzySK1",
        "outputId": "45ac028c-a607-4140-d099-8752c2bcf18c"
      },
      "source": [
        "model = DeepNeuralNetworkModel32(input_size = input_dim,\n",
        "                           num_classes = output_dim,\n",
        "                           num_hidden = num_hidden)\n",
        "# To enable GPU\n",
        "device = torch.device(\"cuda:0\" if torch.cuda.is_available() else \"cpu\")\n",
        "model.to(device)\n"
      ],
      "execution_count": null,
      "outputs": [
        {
          "output_type": "execute_result",
          "data": {
            "text/plain": [
              "DeepNeuralNetworkModel32(\n",
              "  (linear_1): Linear(in_features=784, out_features=170, bias=True)\n",
              "  (relu_1): ReLU()\n",
              "  (linear_2): Linear(in_features=170, out_features=170, bias=True)\n",
              "  (relu_2): ReLU()\n",
              "  (linear_3): Linear(in_features=170, out_features=170, bias=True)\n",
              "  (relu_3): ReLU()\n",
              "  (linear_out): Linear(in_features=170, out_features=10, bias=True)\n",
              ")"
            ]
          },
          "metadata": {
            "tags": []
          },
          "execution_count": 36
        }
      ]
    },
    {
      "cell_type": "markdown",
      "metadata": {
        "id": "i3RAJfPNXZva"
      },
      "source": [
        "\n",
        "###Step #2 : Construct loss and optimizer\n",
        "\n",
        "Unlike linear regression, we do not use **MSE** here, we need **Cross Entropy Loss** to calculate our loss before we backpropagate and update our parameters.\n",
        "\n",
        "`criterion = nn.CrossEntropyLoss() ` \n",
        "\n",
        "It does 2 things at the same time.\n",
        "\n",
        "1. Computes ReLU activation function.\n",
        "2. Computes Cross Entropy Loss\n",
        "\n",
        "\n",
        "The ReLU activation function is a popular non-linear function that is simply **$max(0, x)$**, where $x$ is the weighted sum of the inputs to that neuron. Other activation functions used are hyperbolic tan (tanh) and sigmoid function, however ReLU is the most commonly used.\n",
        "\n",
        "![](https://github.com/bentrevett/pytorch-image-classification/blob/master/assets/relu.png?raw=1)\n",
        "\n",
        "\n",
        "One thing to note is that we do not use an activation function on the input directly or on the output. Activation functions **should never** be used directly on the input. PyTorch combines activation functions to be applied on the output with the functions which calculate the *loss*, also known as *error* or *cost*, of a neural network. This is done for numerical stability.\n"
      ]
    },
    {
      "cell_type": "markdown",
      "metadata": {
        "id": "jFoNCo4jXZvb"
      },
      "source": [
        "Next, our optimizer needs to be defined which will update the parameters of our model with respect to the loss calculated on the data. Here we used Stochastic gradient descent(SGD) as our optimizer that makes forward and backward propagation for every record.\n",
        "\n",
        "SGD algorithm is used with its default parameters and learning rate passed in it. Although there are different optimizers SGD can work well for logistic regression. There are more optimizers that can be experimented in this [article](https://ruder.io/optimizing-gradient-descent/)."
      ]
    },
    {
      "cell_type": "code",
      "metadata": {
        "id": "T0Ir125pySK2"
      },
      "source": [
        "criterion = nn.CrossEntropyLoss()\n",
        "optimizer = torch.optim.SGD(model.parameters(), lr=learning_rate)\n"
      ],
      "execution_count": null,
      "outputs": []
    },
    {
      "cell_type": "markdown",
      "metadata": {
        "id": "jddpBARkXfkL"
      },
      "source": [
        "###Step #3: Training the model: forward, loss, backward, step\n",
        "\n",
        "\n",
        "\n",
        "\n",
        "  \n",
        "\n"
      ]
    },
    {
      "cell_type": "code",
      "metadata": {
        "colab": {
          "base_uri": "https://localhost:8080/"
        },
        "id": "82Gfsu63ySK4",
        "outputId": "36703d03-2d73-488f-b6b4-7e9920fba49b"
      },
      "source": [
        "\n",
        "iter = 0\n",
        "iteration_loss = []\n",
        "num_epochs = num_iters / (len(train_dataset) / batch_size)\n",
        "num_epochs = int(num_epochs)\n",
        "for epoch in range(num_epochs):\n",
        "    for i, (images, labels) in enumerate(train_loader):\n",
        "\n",
        "        images = images.view(-1, 28*28).to(device)\n",
        "        labels = labels.to(device)\n",
        "\n",
        "        # Clear gradients w.r.t. parameters\n",
        "        optimizer.zero_grad()\n",
        "\n",
        "        # Forward pass to get output/logits\n",
        "        outputs = model(images) \n",
        "\n",
        "        # Calculate Loss: softmax --> cross entropy loss\n",
        "        loss = criterion(outputs, labels)\n",
        "\n",
        "        # Getting gradients w.r.t. parameters\n",
        "        loss.backward()\n",
        "\n",
        "        # Updating parameters\n",
        "        optimizer.step()\n",
        "\n",
        "        iter += 1\n",
        "\n",
        "        if iter % 500 == 0:\n",
        "            # Calculate Accuracy         \n",
        "            correct = 0\n",
        "            total = 0\n",
        "            # Iterate through test dataset\n",
        "            for images, labels in test_loader:\n",
        "               \n",
        "                images = images.view(-1, 28*28).to(device)\n",
        "\n",
        "                # Forward pass only to get logits/output\n",
        "                outputs = model(images)\n",
        "\n",
        "                # Get predictions from the maximum value\n",
        "                _, predicted = torch.max(outputs, 1)\n",
        "\n",
        "                # Total number of labels\n",
        "                total += labels.size(0)\n",
        "\n",
        "\n",
        "                # Total correct predictions\n",
        "                if torch.cuda.is_available():\n",
        "                    correct += (predicted.cpu() == labels.cpu()).sum() \n",
        "                else:\n",
        "                    correct += (predicted == labels).sum()\n",
        "\n",
        "            accuracy = 100 * correct.item() / total\n",
        "\n",
        "            # Print Loss\n",
        "            iteration_loss.append(loss.item())\n",
        "            print('Iteration: {}. Loss: {}. Accuracy: {}'.format(iter, loss.item(), accuracy))"
      ],
      "execution_count": null,
      "outputs": [
        {
          "output_type": "stream",
          "text": [
            "Iteration: 500. Loss: 1.6348820924758911. Accuracy: 42.42087729039422\n",
            "Iteration: 1000. Loss: 1.7943857908248901. Accuracy: 41.53248195446974\n",
            "Iteration: 1500. Loss: 1.7608619928359985. Accuracy: 42.30982787340366\n",
            "Iteration: 2000. Loss: 1.6637048721313477. Accuracy: 37.021099389228205\n",
            "Iteration: 2500. Loss: 1.3933546543121338. Accuracy: 51.67962243198223\n",
            "Iteration: 3000. Loss: 1.380417823791504. Accuracy: 52.151582454192116\n",
            "Iteration: 3500. Loss: 1.3191003799438477. Accuracy: 53.678511937812324\n",
            "Iteration: 4000. Loss: 1.2376786470413208. Accuracy: 55.95502498611882\n",
            "Iteration: 4500. Loss: 1.0707937479019165. Accuracy: 58.18989450305386\n",
            "Iteration: 5000. Loss: 1.1645231246948242. Accuracy: 51.88784008883953\n",
            "Iteration: 5500. Loss: 1.3132669925689697. Accuracy: 49.80566352026652\n",
            "Iteration: 6000. Loss: 1.276214599609375. Accuracy: 67.32370905052748\n",
            "Iteration: 6500. Loss: 1.268231987953186. Accuracy: 63.395335924486396\n",
            "Iteration: 7000. Loss: 0.9807599186897278. Accuracy: 54.747362576346475\n",
            "Iteration: 7500. Loss: 1.169082760810852. Accuracy: 55.37201554691838\n",
            "Iteration: 8000. Loss: 0.9555444717407227. Accuracy: 67.32370905052748\n",
            "Iteration: 8500. Loss: 0.8094890117645264. Accuracy: 72.82065519156025\n",
            "Iteration: 9000. Loss: 0.7772756814956665. Accuracy: 68.97556912826208\n",
            "Iteration: 9500. Loss: 0.8015124797821045. Accuracy: 70.79400333148251\n",
            "Iteration: 10000. Loss: 0.7869443297386169. Accuracy: 75.30538589672405\n",
            "Iteration: 10500. Loss: 0.7631442546844482. Accuracy: 75.74958356468629\n",
            "Iteration: 11000. Loss: 0.6176759600639343. Accuracy: 76.42976124375348\n",
            "Iteration: 11500. Loss: 0.7272005081176758. Accuracy: 75.88839533592449\n",
            "Iteration: 12000. Loss: 0.5775402188301086. Accuracy: 76.90172126596336\n",
            "Iteration: 12500. Loss: 0.5897836685180664. Accuracy: 70.40533037201554\n",
            "Iteration: 13000. Loss: 0.5932936072349548. Accuracy: 74.19489172681844\n"
          ],
          "name": "stdout"
        }
      ]
    },
    {
      "cell_type": "markdown",
      "metadata": {
        "id": "Ch20VDFGXi1t"
      },
      "source": [
        "### Step#4: Graph Plot of loss function with each iteration."
      ]
    },
    {
      "cell_type": "code",
      "metadata": {
        "colab": {
          "base_uri": "https://localhost:8080/",
          "height": 317
        },
        "id": "aSQQrZSZySK5",
        "outputId": "bd1e66fb-a4e2-4779-c539-f4a04dfd51b8"
      },
      "source": [
        "import matplotlib\n",
        "import matplotlib.pyplot as plt\n",
        "\n",
        "print (iteration_loss)\n",
        "plt.plot(iteration_loss)\n",
        "plt.ylabel('Cross Entropy Loss')\n",
        "plt.xlabel('Iteration (in every 500)')\n",
        "plt.show()"
      ],
      "execution_count": null,
      "outputs": [
        {
          "output_type": "stream",
          "text": [
            "[1.6348820924758911, 1.7943857908248901, 1.7608619928359985, 1.6637048721313477, 1.3933546543121338, 1.380417823791504, 1.3191003799438477, 1.2376786470413208, 1.0707937479019165, 1.1645231246948242, 1.3132669925689697, 1.276214599609375, 1.268231987953186, 0.9807599186897278, 1.169082760810852, 0.9555444717407227, 0.8094890117645264, 0.7772756814956665, 0.8015124797821045, 0.7869443297386169, 0.7631442546844482, 0.6176759600639343, 0.7272005081176758, 0.5775402188301086, 0.5897836685180664, 0.5932936072349548]\n"
          ],
          "name": "stdout"
        },
        {
          "output_type": "display_data",
          "data": {
            "image/png": "[encoded data removed]",
            "text/plain": [
              "<Figure size 432x288 with 1 Axes>"
            ]
          },
          "metadata": {
            "tags": [],
            "needs_background": "light"
          }
        }
      ]
    },
    {
      "cell_type": "code",
      "metadata": {
        "colab": {
          "base_uri": "https://localhost:8080/"
        },
        "id": "juE7lR3IySK5",
        "outputId": "0196de1b-1669-4b51-d864-f84617af0e75"
      },
      "source": [
        "from google.colab import drive\n",
        "\n",
        "drive.mount('/content/gdrive')\n",
        "\n",
        "root_path = '/content/gdrive/MyDrive/4.2/sc/'"
      ],
      "execution_count": null,
      "outputs": [
        {
          "output_type": "stream",
          "text": [
            "Mounted at /content/gdrive\n"
          ],
          "name": "stdout"
        }
      ]
    },
    {
      "cell_type": "code",
      "metadata": {
        "id": "g6V3PfKkySK6"
      },
      "source": [
        "import pickle\n",
        "save_model = True\n",
        "\n",
        "\n",
        "if save_model is True:\n",
        "    # Saves only parameters\n",
        "    # wights & biases\n",
        "    torch.save(model.state_dict(), root_path + 'Relu3_55.pkl') "
      ],
      "execution_count": null,
      "outputs": []
    },
    {
      "cell_type": "markdown",
      "metadata": {
        "id": "Fs-cZ5WnzSom"
      },
      "source": [
        "\n",
        "## Setting_3: **5 Layer** Deep Neural Network with **Tanh** Activation.\n",
        "### **Parameters**\n",
        "- **totaldata:** 72,045\n",
        "- **minibatch:** 220\n",
        "- **iterations:**14,000\n",
        "- **learning rate**: 0.1\n",
        "-**Hidden Layer:** 150\n",
        "-  **epochs** = $iterations \\div \\frac{totaldata}{minibatch} = 14000 \\div \\frac{72045}{128} = 45.33\\approx 45$\n",
        "- **Input dimension:** $28 \\times 28 = 784$\n",
        "- **Output dimension: 10**\n",
        "  - 0, 1, 2, 3, 4, 5, 6, 7, 8, 9\n",
        "-**Accuracy:** 74.66%"
      ]
    },
    {
      "cell_type": "code",
      "metadata": {
        "id": "eWgB6lQazSo0"
      },
      "source": [
        "# Hyperparameters\n",
        "batch_size = 220\n",
        "num_iters = 15000\n",
        "input_dim = 28*28 # num_features = 784\n",
        "num_hidden = 150\n",
        "output_dim = 10\n",
        "learning_rate = 0.1"
      ],
      "execution_count": null,
      "outputs": []
    },
    {
      "cell_type": "code",
      "metadata": {
        "colab": {
          "base_uri": "https://localhost:8080/"
        },
        "id": "uteLaSWyM14J",
        "outputId": "68507e79-a3e1-4b2d-e139-553b28da54dc"
      },
      "source": [
        "num_epochs = num_iters / (len(train_dataset) / batch_size)\n",
        "num_epochs = int(num_epochs)\n",
        "print(num_epochs)"
      ],
      "execution_count": null,
      "outputs": [
        {
          "output_type": "stream",
          "text": [
            "45\n"
          ],
          "name": "stdout"
        }
      ]
    },
    {
      "cell_type": "markdown",
      "metadata": {
        "id": "1n4WiFXFX4-l"
      },
      "source": [
        "Now for testing purpose the training data is split into 90:10 ratio. The testing set which is of 10% should be created from the training set. Although there is a test set present in the NumtaDB dataset, the test set maybe not be same for the specific training set. That is why the validation set or training set is made form the training set.\n",
        "\n",
        "It is always better to **shuffle the indices of the training set** .We only need to shuffle our training set as it will be used for stochastic gradient descent and we want the each batch to be different between epochs. \n",
        "\n",
        "`DataLoader`  is defined for each of the training/test sets. We can iterate over these and they will yield batches of images and labels which we can use to train our model."
      ]
    },
    {
      "cell_type": "code",
      "metadata": {
        "colab": {
          "base_uri": "https://localhost:8080/"
        },
        "id": "8bWK1uRXzSo3",
        "outputId": "9233e153-bcd1-4c69-edf2-0c3ee766c66e"
      },
      "source": [
        "\n",
        "#batch size\n",
        "batch_size =220\n",
        "\n",
        "# split data 10% for testing\n",
        "test_size = 0.1\n",
        "\n",
        "# obtain training indices that will be used for validation\n",
        "num_train = len(train_dataset)\n",
        "\n",
        "# mix data\n",
        "# index of num of train\n",
        "indices = list(range(num_train))\n",
        "# random the index\n",
        "np.random.shuffle(indices)\n",
        "split = int(np.floor(test_size * num_train))\n",
        "# divied into two part\n",
        "train_idx, test_idx = indices[split:], indices[:split]\n",
        "\n",
        "# define the sampler\n",
        "train_sampler = SubsetRandomSampler(train_idx)\n",
        "test_sampler = SubsetRandomSampler(test_idx)\n",
        "\n",
        "# prepare loaders\n",
        "train_loader = torch.utils.data.DataLoader(\n",
        "    train_dataset, batch_size=batch_size,\n",
        "    sampler=train_sampler)\n",
        "\n",
        "test_loader = torch.utils.data.DataLoader(\n",
        "    test_dataset, batch_size=batch_size,\n",
        "    sampler=test_sampler)\n",
        "\n",
        "print(\"Train dataloader:{}\".format(len(train_loader)))\n",
        "print(\"Test dataloader:{}\".format(len(test_loader)))"
      ],
      "execution_count": null,
      "outputs": [
        {
          "output_type": "stream",
          "text": [
            "Train dataloader:295\n",
            "Test dataloader:33\n"
          ],
          "name": "stdout"
        }
      ]
    },
    {
      "cell_type": "markdown",
      "metadata": {
        "id": "joxoSnoDX2jk"
      },
      "source": [
        "#### Step #1 : Design model using class\n",
        "\n",
        "\n",
        "\n",
        "*   Using Tanh activation function in each hidden layer.\n",
        "*   5 hidden layer neural model is built.\n",
        "\n",
        "\n",
        "\n",
        "\n"
      ]
    },
    {
      "cell_type": "code",
      "metadata": {
        "id": "YS8dxxP3zSo5"
      },
      "source": [
        "class DeepNeuralNetworkModel55(nn.Module):\n",
        "    def __init__(self, input_size, num_classes, num_hidden):\n",
        "        super().__init__()\n",
        "        ### 1st hidden layer: 784 --> 128\n",
        "        self.linear_1 = nn.Linear(input_size, num_hidden)\n",
        "        ### Non-linearity in 1st hidden layer\n",
        "        self.Tanh_1 = nn.Tanh()\n",
        "\n",
        "        ### 2nd hidden layer: 128--> 128\n",
        "        self.linear_2 = nn.Linear(num_hidden, num_hidden)\n",
        "        ### Non-linearity in 2nd hidden layer\n",
        "        self.Tanh_2 = nn.Tanh()\n",
        "\n",
        "        ### 3rd hidden layer: 128--> 128\n",
        "        self.linear_3 = nn.Linear(num_hidden, num_hidden)\n",
        "        ### Non-linearity in 2nd hidden layer\n",
        "        self.Tanh_3 = nn.Tanh()\n",
        "\n",
        "        ### 4th hidden layer: 128--> 128\n",
        "        self.linear_4 = nn.Linear(num_hidden, num_hidden)\n",
        "        ### Non-linearity in 2nd hidden layer\n",
        "        self.Tanh_4 = nn.Tanh()\n",
        "        ### 4th hidden layer: 128--> 128\n",
        "        self.linear_5= nn.Linear(num_hidden, num_hidden)\n",
        "        ### Non-linearity in 2nd hidden layer\n",
        "        self.Tanh_5 = nn.Tanh()\n",
        "\n",
        "        ### Output layer: 100 --> 10\n",
        "        self.linear_out = nn.Linear(num_hidden, num_classes)\n",
        "\n",
        "    def forward(self, x):\n",
        "        ### 1st hidden layer\n",
        "        out  = self.linear_1(x)\n",
        "        ### Non-linearity in 1st hidden layer\n",
        "        out = self.Tanh_1(out)\n",
        "        \n",
        "        ### 2nd hidden layer\n",
        "        out  = self.linear_2(out)\n",
        "        ### Non-linearity in 2nd hidden layer\n",
        "        out = self.Tanh_2(out)\n",
        "\n",
        "        ### 3rd hidden layer\n",
        "        out  = self.linear_3(out)\n",
        "        ### Non-linearity in 3rd  hidden layer\n",
        "        out = self.Tanh_3(out)\n",
        "\n",
        "        ### 4th hidden layer\n",
        "        out  = self.linear_4(out)\n",
        "        ### Non-linearity in 4th hidden layer\n",
        "        out = self.Tanh_4(out)\n",
        "\n",
        "  \n",
        "        ### 4th hidden layer\n",
        "        out  = self.linear_5(out)\n",
        "        ### Non-linearity in 4th hidden layer\n",
        "        out = self.Tanh_5(out)      \n",
        "\n",
        "        # Linear layer (output)\n",
        "        probas  = self.linear_out(out)\n",
        "        return probas"
      ],
      "execution_count": null,
      "outputs": []
    },
    {
      "cell_type": "code",
      "metadata": {
        "colab": {
          "base_uri": "https://localhost:8080/"
        },
        "id": "pNrkZ2jqzSo6",
        "outputId": "0b7c0a03-2e15-4fde-c9c2-e0beeb8edece"
      },
      "source": [
        "model = DeepNeuralNetworkModel55(input_size = input_dim,\n",
        "                           num_classes = output_dim,\n",
        "                           num_hidden = num_hidden)\n",
        "# To enable GPU\n",
        "device = torch.device(\"cuda:0\" if torch.cuda.is_available() else \"cpu\")\n",
        "model.to(device)\n"
      ],
      "execution_count": null,
      "outputs": [
        {
          "output_type": "execute_result",
          "data": {
            "text/plain": [
              "DeepNeuralNetworkModel55(\n",
              "  (linear_1): Linear(in_features=784, out_features=150, bias=True)\n",
              "  (Tanh_1): Tanh()\n",
              "  (linear_2): Linear(in_features=150, out_features=150, bias=True)\n",
              "  (Tanh_2): Tanh()\n",
              "  (linear_3): Linear(in_features=150, out_features=150, bias=True)\n",
              "  (Tanh_3): Tanh()\n",
              "  (linear_4): Linear(in_features=150, out_features=150, bias=True)\n",
              "  (Tanh_4): Tanh()\n",
              "  (linear_5): Linear(in_features=150, out_features=150, bias=True)\n",
              "  (Tanh_5): Tanh()\n",
              "  (linear_out): Linear(in_features=150, out_features=10, bias=True)\n",
              ")"
            ]
          },
          "metadata": {
            "tags": []
          },
          "execution_count": 58
        }
      ]
    },
    {
      "cell_type": "markdown",
      "metadata": {
        "id": "n4hcAPwmX8qZ"
      },
      "source": [
        "\n",
        "###Step #2 : Construct loss and optimizer\n",
        "\n",
        "Unlike linear regression, we do not use **MSE** here, we need **Cross Entropy Loss** to calculate our loss before we backpropagate and update our parameters.\n",
        "\n",
        "`criterion = nn.CrossEntropyLoss() ` \n",
        "\n",
        "It does 2 things at the same time.\n",
        "\n",
        "1. Computes Tanh activation function.\n",
        "2. Computes Cross Entropy Loss\n",
        "\n",
        "The Tanh activation function is  structure similar to sigmoid function. In this case it is a range of values from -1 to 1.\n",
        "*   The advantage over the sigmoid function is that its derivative is more steep, which means it can get\n",
        "more value.\n",
        "*   This means that it will be more efficient\n",
        "because it has a wider range for faster learning\n",
        "and grading\n",
        "and grading\n",
        "<div align=\"center\">\n",
        "<img src=\"https://drive.google.com/uc?export=view&id=1FeIw7AjRnoCSNG3DiU3j6QhUi-k_d9vr\" width=\"500\">\n",
        "</div>\n",
        "\n",
        "\n",
        "\n",
        "One thing to note is that we do not use an activation function on the input directly or on the output. Activation functions **should never** be used directly on the input. PyTorch combines activation functions to be applied on the output with the functions which calculate the *loss*, also known as *error* or *cost*, of a neural network. This is done for numerical stability.\n"
      ]
    },
    {
      "cell_type": "markdown",
      "metadata": {
        "id": "2aUaSDC0X8qb"
      },
      "source": [
        "Next, our optimizer needs to be defined which will update the parameters of our model with respect to the loss calculated on the data. Here we used Stochastic gradient descent(SGD) as our optimizer that makes forward and backward propagation for every record.\n",
        "\n",
        "SGD algorithm is used with its default parameters and learning rate passed in it. Although there are different optimizers SGD can work well for logistic regression. There are more optimizers that can be experimented in this [article](https://ruder.io/optimizing-gradient-descent/)."
      ]
    },
    {
      "cell_type": "code",
      "metadata": {
        "id": "pzlwblifzSo8"
      },
      "source": [
        "criterion = nn.CrossEntropyLoss()\n",
        "optimizer = torch.optim.SGD(model.parameters(), lr=learning_rate)\n"
      ],
      "execution_count": null,
      "outputs": []
    },
    {
      "cell_type": "markdown",
      "metadata": {
        "id": "RVyhGQ4JX-6l"
      },
      "source": [
        "###Step #3: Training the model: forward, loss, backward, step\n",
        "\n",
        "\n",
        "\n",
        "\n",
        "  \n",
        "\n"
      ]
    },
    {
      "cell_type": "code",
      "metadata": {
        "colab": {
          "base_uri": "https://localhost:8080/"
        },
        "id": "U-tkPVrTzSo-",
        "outputId": "5b131bc1-991c-4d94-d35a-0402c223dffb"
      },
      "source": [
        "\n",
        "iter = 0\n",
        "iteration_loss = []\n",
        "num_epochs = num_iters / (len(train_dataset) / batch_size)\n",
        "num_epochs = int(num_epochs)\n",
        "print(num_epochs)\n",
        "for epoch in range(num_epochs):\n",
        "    for i, (images, labels) in enumerate(train_loader):\n",
        "\n",
        "        images = images.view(-1, 28*28).to(device)\n",
        "        labels = labels.to(device)\n",
        "\n",
        "        # Clear gradients w.r.t. parameters\n",
        "        optimizer.zero_grad()\n",
        "\n",
        "        # Forward pass to get output/logits\n",
        "        outputs = model(images) \n",
        "\n",
        "        # Calculate Loss: softmax --> cross entropy loss\n",
        "        loss = criterion(outputs, labels)\n",
        "\n",
        "        # Getting gradients w.r.t. parameters\n",
        "        loss.backward()\n",
        "\n",
        "        # Updating parameters\n",
        "        optimizer.step()\n",
        "\n",
        "        iter += 1\n",
        "\n",
        "        if iter % 500 == 0:\n",
        "            # Calculate Accuracy         \n",
        "            correct = 0\n",
        "            total = 0\n",
        "            # Iterate through test dataset\n",
        "            for images, labels in test_loader:\n",
        "               \n",
        "                images = images.view(-1, 28*28).to(device)\n",
        "\n",
        "                # Forward pass only to get logits/output\n",
        "                outputs = model(images)\n",
        "\n",
        "                # Get predictions from the maximum value\n",
        "                _, predicted = torch.max(outputs, 1)\n",
        "\n",
        "                # Total number of labels\n",
        "                total += labels.size(0)\n",
        "\n",
        "\n",
        "                # Total correct predictions\n",
        "                if torch.cuda.is_available():\n",
        "                    correct += (predicted.cpu() == labels.cpu()).sum() \n",
        "                else:\n",
        "                    correct += (predicted == labels).sum()\n",
        "\n",
        "            accuracy = 100 * correct.item() / total\n",
        "\n",
        "            # Print Loss\n",
        "            iteration_loss.append(loss.item())\n",
        "            print('Iteration: {}. Loss: {}. Accuracy: {}'.format(iter, loss.item(), accuracy))"
      ],
      "execution_count": null,
      "outputs": [
        {
          "output_type": "stream",
          "text": [
            "45\n",
            "Iteration: 500. Loss: 2.0174291133880615. Accuracy: 24.153248195446974\n",
            "Iteration: 1000. Loss: 1.8696274757385254. Accuracy: 30.233203775680177\n",
            "Iteration: 1500. Loss: 2.0625219345092773. Accuracy: 32.00999444752915\n",
            "Iteration: 2000. Loss: 1.8677068948745728. Accuracy: 37.978900610771795\n",
            "Iteration: 2500. Loss: 1.6947197914123535. Accuracy: 33.078845086063296\n",
            "Iteration: 3000. Loss: 1.8747432231903076. Accuracy: 34.55024986118823\n",
            "Iteration: 3500. Loss: 1.6229861974716187. Accuracy: 43.406440866185456\n",
            "Iteration: 4000. Loss: 1.5710086822509766. Accuracy: 50.166574125485845\n",
            "Iteration: 4500. Loss: 1.5252765417099. Accuracy: 46.807329261521375\n",
            "Iteration: 5000. Loss: 1.632218599319458. Accuracy: 44.641865630205444\n",
            "Iteration: 5500. Loss: 1.350671648979187. Accuracy: 54.59466962798445\n",
            "Iteration: 6000. Loss: 1.2061541080474854. Accuracy: 57.05163797890061\n",
            "Iteration: 6500. Loss: 1.3243834972381592. Accuracy: 50.95780122154358\n",
            "Iteration: 7000. Loss: 1.398995280265808. Accuracy: 47.556912826207665\n",
            "Iteration: 7500. Loss: 1.3465567827224731. Accuracy: 56.77401443642421\n",
            "Iteration: 8000. Loss: 1.1463468074798584. Accuracy: 63.90893947806774\n",
            "Iteration: 8500. Loss: 1.271712303161621. Accuracy: 48.25097168239867\n",
            "Iteration: 9000. Loss: 0.9293833374977112. Accuracy: 60.7023875624653\n",
            "Iteration: 9500. Loss: 1.2297449111938477. Accuracy: 61.24375347029428\n",
            "Iteration: 10000. Loss: 1.0914922952651978. Accuracy: 61.826762909494725\n",
            "Iteration: 10500. Loss: 1.0419710874557495. Accuracy: 57.05163797890061\n",
            "Iteration: 11000. Loss: 0.9871897101402283. Accuracy: 66.435313714603\n",
            "Iteration: 11500. Loss: 0.7532513737678528. Accuracy: 74.66685174902831\n",
            "Iteration: 12000. Loss: 0.6881396174430847. Accuracy: 67.99000555247085\n",
            "Iteration: 12500. Loss: 0.7428221702575684. Accuracy: 71.1965574680733\n",
            "Iteration: 13000. Loss: 0.6086288690567017. Accuracy: 74.12548584119934\n"
          ],
          "name": "stdout"
        }
      ]
    },
    {
      "cell_type": "markdown",
      "metadata": {
        "id": "d4suRvf9YAtF"
      },
      "source": [
        "### Step#4: Graph Plot of loss function with each iteration."
      ]
    },
    {
      "cell_type": "code",
      "metadata": {
        "colab": {
          "base_uri": "https://localhost:8080/",
          "height": 318
        },
        "id": "lJzDFzcRK-pW",
        "outputId": "3049a477-4bff-44f4-afe3-117b8b363092"
      },
      "source": [
        "import matplotlib\n",
        "import matplotlib.pyplot as plt\n",
        "\n",
        "print (iteration_loss)\n",
        "plt.plot(iteration_loss)\n",
        "plt.ylabel('Cross Entropy Loss')\n",
        "plt.xlabel('Iteration (in every 500)')\n",
        "plt.show()"
      ],
      "execution_count": null,
      "outputs": [
        {
          "output_type": "stream",
          "text": [
            "[2.0174291133880615, 1.8696274757385254, 2.0625219345092773, 1.8677068948745728, 1.6947197914123535, 1.8747432231903076, 1.6229861974716187, 1.5710086822509766, 1.5252765417099, 1.632218599319458, 1.350671648979187, 1.2061541080474854, 1.3243834972381592, 1.398995280265808, 1.3465567827224731, 1.1463468074798584, 1.271712303161621, 0.9293833374977112, 1.2297449111938477, 1.0914922952651978, 1.0419710874557495, 0.9871897101402283, 0.7532513737678528, 0.6881396174430847, 0.7428221702575684, 0.6086288690567017]\n"
          ],
          "name": "stdout"
        },
        {
          "output_type": "display_data",
          "data": {
            "image/png": "[encoded data removed]",
            "text/plain": [
              "<Figure size 432x288 with 1 Axes>"
            ]
          },
          "metadata": {
            "tags": [],
            "needs_background": "light"
          }
        }
      ]
    },
    {
      "cell_type": "code",
      "metadata": {
        "colab": {
          "base_uri": "https://localhost:8080/"
        },
        "id": "bBN5b6xtbyW-",
        "outputId": "86779755-7531-4d39-aea5-8f8cfa116b64"
      },
      "source": [
        "from google.colab import drive\n",
        "\n",
        "drive.mount('/content/gdrive')\n",
        "\n",
        "root_path = '/content/gdrive/MyDrive/4.2/sc/'"
      ],
      "execution_count": null,
      "outputs": [
        {
          "output_type": "stream",
          "text": [
            "Mounted at /content/gdrive\n"
          ],
          "name": "stdout"
        }
      ]
    },
    {
      "cell_type": "code",
      "metadata": {
        "id": "9vuG2ifuFWuf"
      },
      "source": [
        "import pickle\n",
        "save_model = True\n",
        "\n",
        "\n",
        "if save_model is True:\n",
        "    # Saves only parameters\n",
        "    # wights & biases\n",
        "    torch.save(model.state_dict(), root_path + 'Relu_4Layer_128.pkl') "
      ],
      "execution_count": null,
      "outputs": []
    },
    {
      "cell_type": "markdown",
      "metadata": {
        "id": "jvWQwJvQNdhQ"
      },
      "source": [
        "\n",
        "## Setting_4: **5 Layer** Deep Neural Network with **ReLU** Activation.\n",
        "### **Parameters**\n",
        "- **totaldata:** 72,045\n",
        "- **minibatch:** 250\n",
        "- **iterations:**14,000\n",
        "- **learning rate**: 0.1\n",
        "-**Hidden Layer:** 64\n",
        "-  **epochs** = $iterations \\div \\frac{totaldata}{minibatch} = 14000 \\div \\frac{72045}{250} = 48.58\\approx 48$\n",
        "- **Input dimension:** $28 \\times 28 = 784$\n",
        "- **Output dimension: 10**\n",
        "  - 0, 1, 2, 3, 4, 5, 6, 7, 8, 9\n",
        "-**Accuracy:** 69.76%"
      ]
    },
    {
      "cell_type": "code",
      "metadata": {
        "id": "y9NPycfCNdhe"
      },
      "source": [
        "# Hyperparameters\n",
        "batch_size =250\n",
        "num_iters =14000\n",
        "input_dim = 28*28 # num_features = 784\n",
        "num_hidden = 64\n",
        "output_dim = 10\n",
        "learning_rate = 0.1"
      ],
      "execution_count": null,
      "outputs": []
    },
    {
      "cell_type": "code",
      "metadata": {
        "colab": {
          "base_uri": "https://localhost:8080/"
        },
        "id": "gbwkoPd0Nbv0",
        "outputId": "c869cc01-0e67-43d3-ad6d-e48894d6a709"
      },
      "source": [
        "num_epochs = num_iters / (len(train_dataset) / batch_size)\n",
        "num_epochs = int(num_epochs)\n",
        "print(num_epochs)"
      ],
      "execution_count": null,
      "outputs": [
        {
          "output_type": "stream",
          "text": [
            "48\n"
          ],
          "name": "stdout"
        }
      ]
    },
    {
      "cell_type": "markdown",
      "metadata": {
        "id": "7EgGGkrjNdhg"
      },
      "source": [
        "Now for testing purpose the training data is split into 90:10 ratio. The testing set which is of 10% should be created from the training set. Although there is a test set present in the NumtaDB dataset, the test set maybe not be same for the specific training set. That is why the validation set or training set is made form the training set.\n",
        "\n",
        "It is always better to **shuffle the indices of the training set** .We only need to shuffle our training set as it will be used for stochastic gradient descent and we want the each batch to be different between epochs. \n",
        "\n",
        "`DataLoader`  is defined for each of the training/test sets. We can iterate over these and they will yield batches of images and labels which we can use to train our model."
      ]
    },
    {
      "cell_type": "code",
      "metadata": {
        "colab": {
          "base_uri": "https://localhost:8080/"
        },
        "id": "IyLQMF-oNdhi",
        "outputId": "6c5acbe2-63ae-4a22-a7ce-a1762d341a9a"
      },
      "source": [
        "\n",
        "#batch size\n",
        "batch_size =250\n",
        "\n",
        "# split data 10% for testing\n",
        "test_size = 0.1\n",
        "\n",
        "# obtain training indices that will be used for validation\n",
        "num_train = len(train_dataset)\n",
        "\n",
        "# mix data\n",
        "# index of num of train\n",
        "indices = list(range(num_train))\n",
        "# random the index\n",
        "np.random.shuffle(indices)\n",
        "split = int(np.floor(test_size * num_train))\n",
        "# divied into two part\n",
        "train_idx, test_idx = indices[split:], indices[:split]\n",
        "\n",
        "# define the sampler\n",
        "train_sampler = SubsetRandomSampler(train_idx)\n",
        "test_sampler = SubsetRandomSampler(test_idx)\n",
        "\n",
        "# prepare loaders\n",
        "train_loader = torch.utils.data.DataLoader(\n",
        "    train_dataset, batch_size=batch_size,\n",
        "    sampler=train_sampler)\n",
        "\n",
        "test_loader = torch.utils.data.DataLoader(\n",
        "    test_dataset, batch_size=batch_size,\n",
        "    sampler=test_sampler)\n",
        "\n",
        "print(\"Train dataloader:{}\".format(len(train_loader)))\n",
        "print(\"Test dataloader:{}\".format(len(test_loader)))"
      ],
      "execution_count": null,
      "outputs": [
        {
          "output_type": "stream",
          "text": [
            "Train dataloader:260\n",
            "Test dataloader:29\n"
          ],
          "name": "stdout"
        }
      ]
    },
    {
      "cell_type": "markdown",
      "metadata": {
        "id": "kcZAK81ENdhj"
      },
      "source": [
        "#### Step #1 : Design model using class\n",
        "*   Using ReLU activation function in each hidden layer.\n",
        "*   5 hidden layer neural model is built."
      ]
    },
    {
      "cell_type": "code",
      "metadata": {
        "id": "E4RR2fF1Ndhl"
      },
      "source": [
        "class DeepNeuralNetworkModel5(nn.Module):\n",
        "    def __init__(self, input_size, num_classes, num_hidden):\n",
        "        super().__init__()\n",
        "        ### 1st hidden layer: 784 --> 128\n",
        "        self.linear_1 = nn.Linear(input_size, num_hidden)\n",
        "        ### Non-linearity in 1st hidden layer\n",
        "        self.relu_1 = nn.ReLU()\n",
        "\n",
        "        ### 2nd hidden layer: 128--> 128\n",
        "        self.linear_2 = nn.Linear(num_hidden, num_hidden)\n",
        "        ### Non-linearity in 2nd hidden layer\n",
        "        self.relu_2 = nn.ReLU()\n",
        "\n",
        "        ### 3rd hidden layer: 128--> 128\n",
        "        self.linear_3 = nn.Linear(num_hidden, num_hidden)\n",
        "        ### Non-linearity in 2nd hidden layer\n",
        "        self.relu_3 = nn.ReLU()\n",
        "\n",
        "        ### 4th hidden layer: 128--> 128\n",
        "        self.linear_4 = nn.Linear(num_hidden, num_hidden)\n",
        "        ### Non-linearity in 2nd hidden layer\n",
        "        self.relu_4 = nn.ReLU()\n",
        "\n",
        "        ### 4th hidden layer: 128--> 128\n",
        "        self.linear_5 = nn.Linear(num_hidden, num_hidden)\n",
        "        ### Non-linearity in 2nd hidden layer\n",
        "        self.relu_5 = nn.ReLU()\n",
        "\n",
        "        ### Output layer: 100 --> 10\n",
        "        self.linear_out = nn.Linear(num_hidden, num_classes)\n",
        "\n",
        "    def forward(self, x):\n",
        "        ### 1st hidden layer\n",
        "        out  = self.linear_1(x)\n",
        "        ### Non-linearity in 1st hidden layer\n",
        "        out = self.relu_1(out)\n",
        "        \n",
        "        ### 2nd hidden layer\n",
        "        out  = self.linear_2(out)\n",
        "        ### Non-linearity in 2nd hidden layer\n",
        "        out = self.relu_2(out)\n",
        "\n",
        "        ### 3rd hidden layer\n",
        "        out  = self.linear_3(out)\n",
        "        ### Non-linearity in 3rd  hidden layer\n",
        "        out = self.relu_3(out)\n",
        "\n",
        "        ### 4th hidden layer\n",
        "        out  = self.linear_4(out)\n",
        "        ### Non-linearity in 4th hidden layer\n",
        "        out = self.relu_4(out)\n",
        "\n",
        "         ### 5th hidden layer\n",
        "        out  = self.linear_5(out)\n",
        "        ### Non-linearity in 4th hidden layer\n",
        "        out = self.relu_5(out)       \n",
        "\n",
        "        # Linear layer (output)\n",
        "        probas  = self.linear_out(out)\n",
        "        return probas"
      ],
      "execution_count": null,
      "outputs": []
    },
    {
      "cell_type": "code",
      "metadata": {
        "colab": {
          "base_uri": "https://localhost:8080/"
        },
        "id": "UUkgS_VbNdhn",
        "outputId": "4e0f2f16-feca-4dd0-c718-7a9624d272b9"
      },
      "source": [
        "model = DeepNeuralNetworkModel5(input_size = input_dim,\n",
        "                           num_classes = output_dim,\n",
        "                           num_hidden = num_hidden)\n",
        "# To enable GPU\n",
        "model.to(device)\n"
      ],
      "execution_count": null,
      "outputs": [
        {
          "output_type": "execute_result",
          "data": {
            "text/plain": [
              "DeepNeuralNetworkModel5(\n",
              "  (linear_1): Linear(in_features=784, out_features=64, bias=True)\n",
              "  (relu_1): ReLU()\n",
              "  (linear_2): Linear(in_features=64, out_features=64, bias=True)\n",
              "  (relu_2): ReLU()\n",
              "  (linear_3): Linear(in_features=64, out_features=64, bias=True)\n",
              "  (relu_3): ReLU()\n",
              "  (linear_4): Linear(in_features=64, out_features=64, bias=True)\n",
              "  (relu_4): ReLU()\n",
              "  (linear_5): Linear(in_features=64, out_features=64, bias=True)\n",
              "  (relu_5): ReLU()\n",
              "  (linear_out): Linear(in_features=64, out_features=10, bias=True)\n",
              ")"
            ]
          },
          "metadata": {
            "tags": []
          },
          "execution_count": 136
        }
      ]
    },
    {
      "cell_type": "markdown",
      "metadata": {
        "id": "1GVYl3LYYYbB"
      },
      "source": [
        "\n",
        "###Step #2 : Construct loss and optimizer\n",
        "\n",
        "Unlike linear regression, we do not use **MSE** here, we need **Cross Entropy Loss** to calculate our loss before we backpropagate and update our parameters.\n",
        "\n",
        "`criterion = nn.CrossEntropyLoss() ` \n",
        "\n",
        "It does 2 things at the same time.\n",
        "\n",
        "1. Computes ReLU activation function.\n",
        "2. Computes Cross Entropy Loss\n",
        "\n",
        "\n",
        "The ReLU activation function is a popular non-linear function that is simply **$max(0, x)$**, where $x$ is the weighted sum of the inputs to that neuron. Other activation functions used are hyperbolic tan (tanh) and sigmoid function, however ReLU is the most commonly used.\n",
        "\n",
        "![](https://github.com/bentrevett/pytorch-image-classification/blob/master/assets/relu.png?raw=1)\n",
        "\n",
        "\n",
        "One thing to note is that we do not use an activation function on the input directly or on the output. Activation functions **should never** be used directly on the input. PyTorch combines activation functions to be applied on the output with the functions which calculate the *loss*, also known as *error* or *cost*, of a neural network. This is done for numerical stability.\n"
      ]
    },
    {
      "cell_type": "markdown",
      "metadata": {
        "id": "-2nlTPQfYYbF"
      },
      "source": [
        "Next, our optimizer needs to be defined which will update the parameters of our model with respect to the loss calculated on the data. Here we used Stochastic gradient descent(SGD) as our optimizer that makes forward and backward propagation for every record.\n",
        "\n",
        "SGD algorithm is used with its default parameters and learning rate passed in it. Although there are different optimizers SGD can work well for logistic regression. There are more optimizers that can be experimented in this [article](https://ruder.io/optimizing-gradient-descent/)."
      ]
    },
    {
      "cell_type": "code",
      "metadata": {
        "id": "nxZoaxjJNdhp"
      },
      "source": [
        "criterion = nn.CrossEntropyLoss()\n",
        "optimizer = torch.optim.SGD(model.parameters(), lr=learning_rate)\n"
      ],
      "execution_count": null,
      "outputs": []
    },
    {
      "cell_type": "markdown",
      "metadata": {
        "id": "jjmzaG6CNdhr"
      },
      "source": [
        "###Step #3 : Training: forward, loss, backward, step"
      ]
    },
    {
      "cell_type": "code",
      "metadata": {
        "colab": {
          "base_uri": "https://localhost:8080/"
        },
        "id": "DisttbUiNdhs",
        "outputId": "c9dee7a4-3629-4ed9-b3ad-64793686ae01"
      },
      "source": [
        "\n",
        "iter = 0\n",
        "iteration_loss = []\n",
        "num_epochs = num_iters / (len(train_dataset) / batch_size)\n",
        "num_epochs = int(num_epochs)\n",
        "for epoch in range(num_epochs):\n",
        "    for i, (images, labels) in enumerate(train_loader):\n",
        "\n",
        "        images = images.view(-1, 28*28).to(device)\n",
        "        labels = labels.to(device)\n",
        "\n",
        "        # Clear gradients w.r.t. parameters\n",
        "        optimizer.zero_grad()\n",
        "\n",
        "        # Forward pass to get output/logits\n",
        "        outputs = model(images) \n",
        "\n",
        "        # Calculate Loss: softmax --> cross entropy loss\n",
        "        loss = criterion(outputs, labels)\n",
        "\n",
        "        # Getting gradients w.r.t. parameters\n",
        "        loss.backward()\n",
        "\n",
        "        # Updating parameters\n",
        "        optimizer.step()\n",
        "\n",
        "        iter += 1\n",
        "\n",
        "        if iter % 500 == 0:\n",
        "            # Calculate Accuracy         \n",
        "            correct = 0\n",
        "            total = 0\n",
        "            # Iterate through test dataset\n",
        "            for images, labels in test_loader:\n",
        "               \n",
        "                images = images.view(-1, 28*28).to(device)\n",
        "\n",
        "                # Forward pass only to get logits/output\n",
        "                outputs = model(images)\n",
        "\n",
        "                # Get predictions from the maximum value\n",
        "                _, predicted = torch.max(outputs, 1)\n",
        "\n",
        "                # Total number of labels\n",
        "                total += labels.size(0)\n",
        "\n",
        "\n",
        "                # Total correct predictions\n",
        "                if torch.cuda.is_available():\n",
        "                    correct += (predicted.cpu() == labels.cpu()).sum() \n",
        "                else:\n",
        "                    correct += (predicted == labels).sum()\n",
        "\n",
        "            accuracy = 100 * correct.item() / total\n",
        "\n",
        "            # Print Loss\n",
        "            iteration_loss.append(loss.item())\n",
        "            print('Iteration: {}. Loss: {}. Accuracy: {}'.format(iter, loss.item(), accuracy))"
      ],
      "execution_count": null,
      "outputs": [
        {
          "output_type": "stream",
          "text": [
            "Iteration: 500. Loss: 2.0158450603485107. Accuracy: 22.001665741254858\n",
            "Iteration: 1000. Loss: 1.7672572135925293. Accuracy: 34.14769572459745\n",
            "Iteration: 1500. Loss: 1.8478646278381348. Accuracy: 32.88450860632982\n",
            "Iteration: 2000. Loss: 1.8140966892242432. Accuracy: 38.96446418656302\n",
            "Iteration: 2500. Loss: 1.9957859516143799. Accuracy: 31.079955580233204\n",
            "Iteration: 3000. Loss: 1.5967625379562378. Accuracy: 41.67129372570794\n",
            "Iteration: 3500. Loss: 1.675837516784668. Accuracy: 46.64075513603554\n",
            "Iteration: 4000. Loss: 2.075779676437378. Accuracy: 34.633536923931146\n",
            "Iteration: 4500. Loss: 1.5270226001739502. Accuracy: 42.82343142698501\n",
            "Iteration: 5000. Loss: 1.4030970335006714. Accuracy: 47.26540810660744\n",
            "Iteration: 5500. Loss: 1.5600489377975464. Accuracy: 45.58578567462521\n",
            "Iteration: 6000. Loss: 1.217861294746399. Accuracy: 53.900610771793446\n",
            "Iteration: 6500. Loss: 1.2798672914505005. Accuracy: 48.486951693503606\n",
            "Iteration: 7000. Loss: 1.4346414804458618. Accuracy: 56.52415324819545\n",
            "Iteration: 7500. Loss: 1.4544739723205566. Accuracy: 50.166574125485845\n",
            "Iteration: 8000. Loss: 1.0559537410736084. Accuracy: 59.24486396446419\n",
            "Iteration: 8500. Loss: 1.3811649084091187. Accuracy: 53.373126041088284\n",
            "Iteration: 9000. Loss: 1.25596022605896. Accuracy: 57.967795669072736\n",
            "Iteration: 9500. Loss: 1.5171899795532227. Accuracy: 55.02498611882287\n",
            "Iteration: 10000. Loss: 0.96547931432724. Accuracy: 60.39700166574126\n",
            "Iteration: 10500. Loss: 0.9313546419143677. Accuracy: 66.00499722376458\n",
            "Iteration: 11000. Loss: 0.8950483798980713. Accuracy: 58.925596890616326\n",
            "Iteration: 11500. Loss: 0.8706270456314087. Accuracy: 69.48917268184341\n",
            "Iteration: 12000. Loss: 0.8565341234207153. Accuracy: 69.03109383675736\n"
          ],
          "name": "stdout"
        }
      ]
    },
    {
      "cell_type": "markdown",
      "metadata": {
        "id": "GDE_KISCYCgm"
      },
      "source": [
        "### Step#4: Graph Plot of loss function with each iteration."
      ]
    },
    {
      "cell_type": "code",
      "metadata": {
        "colab": {
          "base_uri": "https://localhost:8080/",
          "height": 317
        },
        "id": "pH--Gx20Ndhu",
        "outputId": "8f0f37f0-e458-48a4-b87e-712db6df7da5"
      },
      "source": [
        "import matplotlib\n",
        "import matplotlib.pyplot as plt\n",
        "\n",
        "print (iteration_loss)\n",
        "plt.plot(iteration_loss)\n",
        "plt.ylabel('Cross Entropy Loss')\n",
        "plt.xlabel('Iteration (in every 500)')\n",
        "plt.show()"
      ],
      "execution_count": null,
      "outputs": [
        {
          "output_type": "stream",
          "text": [
            "[2.0158450603485107, 1.7672572135925293, 1.8478646278381348, 1.8140966892242432, 1.9957859516143799, 1.5967625379562378, 1.675837516784668, 2.075779676437378, 1.5270226001739502, 1.4030970335006714, 1.5600489377975464, 1.217861294746399, 1.2798672914505005, 1.4346414804458618, 1.4544739723205566, 1.0559537410736084, 1.3811649084091187, 1.25596022605896, 1.5171899795532227, 0.96547931432724, 0.9313546419143677, 0.8950483798980713, 0.8706270456314087, 0.8565341234207153]\n"
          ],
          "name": "stdout"
        },
        {
          "output_type": "display_data",
          "data": {
            "image/png": "[encoded data removed]",
            "text/plain": [
              "<Figure size 432x288 with 1 Axes>"
            ]
          },
          "metadata": {
            "tags": [],
            "needs_background": "light"
          }
        }
      ]
    },
    {
      "cell_type": "code",
      "metadata": {
        "colab": {
          "base_uri": "https://localhost:8080/"
        },
        "id": "JYChG-abNdhu",
        "outputId": "86779755-7531-4d39-aea5-8f8cfa116b64"
      },
      "source": [
        "from google.colab import drive\n",
        "\n",
        "drive.mount('/content/gdrive')\n",
        "\n",
        "root_path = '/content/gdrive/MyDrive/4.2/sc/'"
      ],
      "execution_count": null,
      "outputs": [
        {
          "output_type": "stream",
          "text": [
            "Mounted at /content/gdrive\n"
          ],
          "name": "stdout"
        }
      ]
    },
    {
      "cell_type": "code",
      "metadata": {
        "id": "eMWQ3rAoNdhv"
      },
      "source": [
        "import pickle\n",
        "save_model = True\n",
        "\n",
        "\n",
        "if save_model is True:\n",
        "    # Saves only parameters\n",
        "    # wights & biases\n",
        "    torch.save(model.state_dict(), root_path + 'Relu_5Layer_250.pkl') "
      ],
      "execution_count": null,
      "outputs": []
    },
    {
      "cell_type": "markdown",
      "metadata": {
        "id": "VOIucxY994pL"
      },
      "source": [
        "## **Result Analysis**"
      ]
    },
    {
      "cell_type": "markdown",
      "metadata": {
        "id": "mrpAYMcgQuZp"
      },
      "source": [
        "The hyperparameters are varied and tried out for different possibilities to get the best result. The following comparisions are seen while testing the dataset.\n",
        "\n",
        "1. **Batch size**: A hyperparameter of gradient descent \n",
        "\n",
        "2. **Hidden Layers**: The increase or decrease in hidden layer change the accuracy of the model. There should be a balance between the batch size and hidden layer. The hidden layers shouldnt be made complex for easier computations.\n",
        "\n",
        "3. **Epoch**: A hyperparameter that controls the number of complete passes through the training dataset. \n",
        "4. **Learning rate**: The amount with which the weights are updated to help the gradient descent converge.\n",
        "5. **Iteration:** The number of batches needed to complete one epoch.\n",
        "6. **Accuracy:** An evaluation metric used to predict the correctness of a machine learning model.\n",
        "\n",
        "\n",
        "\n"
      ]
    },
    {
      "cell_type": "markdown",
      "metadata": {
        "id": "MNn5BqcN8ET3"
      },
      "source": [
        "|Setting|   Mini-Batch Size | No of Neurons   | Iterations   | Learning Rate| Accuracy| Num of Epochs    |\n",
        "| :-------------:| :-------------:| :-------------:| :----------: | :-----------:|:-----------:|:-----------:|\n",
        "|1|     128   | 64    | 14000        | 0.05       |68.76%     |24            |\n",
        "|2| 220    |170        | 15000         | 0.05        |**74.19%**       |45        |\n",
        "|3|220      |150        |14000          | 0.1        |74.12%       |45          |\n",
        "|4|250      |64      |14000        | 0.1        |69.03%       |48         |\n"
      ]
    },
    {
      "cell_type": "markdown",
      "metadata": {
        "id": "y1KLP00lh-d5"
      },
      "source": [
        "###**3 hidden layers**\n",
        "Here, for setting 1 and 2, **three** layer deep neural network is used varying the batch size and no of neurons in hidden layer keeping the learning rate same and iteration almost similar. Smaller **batch sizes** train slower, but can converge faster compared to larger batch size. The **learning rate** is kept average as bigger batch size jump further and can miss the local minima. By observing the the accuracy change we can see that for each 500th iteration for both the cases the accuracy is being increased and loss is decreasing. This shows that there were low errors on training the data.  \n",
        "<div align=\"center\">\n",
        "<img src=\"https://drive.google.com/uc?export=view&id=1vcEpsrzQW3ysxr3RdKjo6hM17eeHwK6c\" width=\"500\">\n",
        "</div>\n",
        "\n",
        "\n",
        "If we look at the loss vs iteration graph for these 2 setting we can see that for both cases the loss decreases with the iteration. Which shows it is not overfitted as there are no high amount of spikes."
      ]
    },
    {
      "cell_type": "markdown",
      "metadata": {
        "id": "A447euKRk5F-"
      },
      "source": [
        "###**5 hidden layers**\n",
        "Here, for setting 2 and 3, **five** layer deep neural network is used varying no of neurons in hidden layer keeping the learning rate same, and iteration and batch size almost similar. Larger **batch sizes** train faster, as it is a huge model we want to traing it comparitively faster. The **learning rate** is kept a little higher as there are many hidden layers. So, even if the local minima is missed in one layer it can work better for the other layer. By observing the the accuracy change we can see that for each 500th iteration for both the cases the accuracy is being increased and loss is decreasing. This shows that there were low errors on training the data.  \n",
        "\n",
        "\n",
        "\n",
        "<div align=\"center\">\n",
        "<img src=\"https://drive.google.com/uc?export=view&id=1Ef_nQPD6oEawwB8XwrsEdzoPofUC1REL\" width=\"500\">\n",
        "</div>\n",
        "\n",
        "If we look at the loss vs iteration graph for these 2 setting we can see that for both cases the loss decreases with the iteration. Which shows it is not overfitted as there are no high amount of spikes."
      ]
    },
    {
      "cell_type": "markdown",
      "metadata": {
        "id": "ixe0K_O9e-hB"
      },
      "source": [
        "##Conclusion\n",
        "There is no magic formula to tell us how many layers to use and how many neurons to have in each layer and there is most probably a better set of values. However, the general idea is that neural networks extract features from data. Layers closer to the input learn to extract general features (e.g. lines, curves, edges), whilst later layers combine the features extracted from the previous layer into more high level features (e.g. the intersection of two lines making a cross, multiple curves make a circle). We force our neural network to learn these features. This way it has to learn to compress information by extracting only the useful and general features. Thus, we want a neural network with multiple layers and some sort of information compression (reduced number of neurons in subsequent layers)."
      ]
    }
  ]
}