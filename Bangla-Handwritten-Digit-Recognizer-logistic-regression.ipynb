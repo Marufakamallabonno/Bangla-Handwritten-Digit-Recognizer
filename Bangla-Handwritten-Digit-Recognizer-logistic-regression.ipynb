{
  "nbformat": 4,
  "nbformat_minor": 0,
  "metadata": {
    "accelerator": "GPU",
    "colab": {
      "name": "160204073_Problem#1.",
      "provenance": [],
      "collapsed_sections": [],
      "toc_visible": true
    },
    "kernelspec": {
      "display_name": "Python 3",
      "name": "python3"
    }
  },
  "cells": [
    {
      "cell_type": "markdown",
      "metadata": {
        "id": "O6bGc9OmeB_A"
      },
      "source": [
        "# **Problem #1**\r\n",
        "\r\n",
        "*   Apply only **logistic regression** for the **NumtaDB** dataset and build a multiclass classification model that can recognize `[0-9]` Bengali handwritten digits with different hyperparameter settings.  "
      ]
    },
    {
      "cell_type": "markdown",
      "metadata": {
        "id": "7bnPFB-osu6A"
      },
      "source": [
        "**Logistic regression** in machine learning is a type of algorithm which uses logistic function. It is named for this function used at the core of the method. The main goal of logistic regression is to **minimize the error between its predictions and training data**.\r\n",
        "\r\n",
        " It’s an S-shaped curve that can take any real-valued number and map it into a value between 0 and 1 or -1 and 1, but never exactly at those limits. The following code shows the shape of the function within the range -5 to 5."
      ]
    },
    {
      "cell_type": "code",
      "metadata": {
        "colab": {
          "base_uri": "https://localhost:8080/",
          "height": 295
        },
        "id": "iX8kwMoWevw_",
        "outputId": "3ca38bed-fe2c-49b9-8eec-c5e24b1e14a2"
      },
      "source": [
        "import numpy as np\r\n",
        "import matplotlib.pyplot as plt\r\n",
        "%matplotlib inline\r\n",
        "x = np.arange(-5, 5, 0.01)\r\n",
        "y = 1 / (1 + np.exp(-x))\r\n",
        "plt.plot(x,y)\r\n",
        "plt.title('Logistic Activation Function')\r\n",
        "plt.xlabel('Input')\r\n",
        "plt.ylabel('Output');"
      ],
      "execution_count": null,
      "outputs": [
        {
          "output_type": "display_data",
          "data": {
            "image/png": "[encoded data removed]",
            "text/plain": [
              "<Figure size 432x288 with 1 Axes>"
            ]
          },
          "metadata": {
            "tags": [],
            "needs_background": "light"
          }
        }
      ]
    },
    {
      "cell_type": "markdown",
      "metadata": {
        "id": "dMKDZm4hj6d1"
      },
      "source": [
        "The dataset we'll be using is the  **NumtaDB: Bengali Handwritten Digits** dataset, a dataset of 28x28 black and white images consisting of handwritten Bengali digits, 0 to 9. It contains 5 training samples with different types of black and white images. \r\n",
        "<div align=\"center\">\r\n",
        "<img src=\"https://drive.google.com/uc?export=view&id=1YIyqdg82RnrQM5pfKidLtWHdpOiGJ3nN\" width=\"500\">\r\n",
        "</div>\r\n",
        "\r\n",
        "**Dataset Link:** https://www.kaggle.com/BengaliAI/numta/\r\n",
        "\r\n",
        "\r\n",
        "\r\n",
        "\r\n",
        "\r\n",
        "\r\n",
        "\r\n",
        "**Data Processing**\r\n",
        "\r\n",
        "Let's start by importing all of the modules we'll need. The main ones we need to import are:\r\n",
        "- torch for general PyTorch functionality\r\n",
        "- torch.nn and torch.nn.functional for neural network based functions\r\n",
        "- torch vision is a part of PyTorch which consists of popular datasets,model, architectures and frequently used for image transformation.\r\n",
        "- torchvision.transforms for data augmentation.\r\n",
        "- torchvision.datasets for loading the dataset\r\n",
        "- torch.optim for our optimizer which will update the parameters of our neural network\r\n",
        "- torch.utils.data and torch.utils.data.sampler for handling the dataset  \r\n",
        "- matplotlib for plotting\r\n",
        "- PIL is python imaging library used to handle images."
      ]
    },
    {
      "cell_type": "code",
      "metadata": {
        "id": "zw2O5TPXj5n7"
      },
      "source": [
        "import torch\r\n",
        "import torch.nn as nn\r\n",
        "import torch.nn.functional as F\r\n",
        "import torchvision\r\n",
        "import torchvision.transforms as transforms\r\n",
        "import torchvision.datasets as dsets\r\n",
        "import torch.optim as optim\r\n",
        "from torch.utils.data import Dataset\r\n",
        "from torch.utils.data.sampler import SubsetRandomSampler\r\n",
        "from torchvision import datasets, transforms, models\r\n",
        "import matplotlib\r\n",
        "import matplotlib.pyplot as plt\r\n",
        "from PIL import Image\r\n",
        "import numpy as np"
      ],
      "execution_count": 1,
      "outputs": []
    },
    {
      "cell_type": "markdown",
      "metadata": {
        "id": "C4R6x4MvEsOT"
      },
      "source": [
        "### Loading and Procesing NumtaDB Dataset\r\n"
      ]
    },
    {
      "cell_type": "markdown",
      "metadata": {
        "id": "5lP3c6zMYU8z"
      },
      "source": [
        "**Importing Dataset From Kaggle**\r\n",
        "\r\n",
        "This dataset is available in kaggle, which helps us to train and use the dataset faster."
      ]
    },
    {
      "cell_type": "code",
      "metadata": {
        "colab": {
          "base_uri": "https://localhost:8080/"
        },
        "id": "R3fc1FL4RMYl",
        "outputId": "5dc11436-808a-4b21-fb1b-b82dc94796d1"
      },
      "source": [
        "!pip install kaggle"
      ],
      "execution_count": 2,
      "outputs": [
        {
          "output_type": "stream",
          "text": [
            "Requirement already satisfied: kaggle in /usr/local/lib/python3.6/dist-packages (1.5.10)\n",
            "Requirement already satisfied: requests in /usr/local/lib/python3.6/dist-packages (from kaggle) (2.23.0)\n",
            "Requirement already satisfied: python-slugify in /usr/local/lib/python3.6/dist-packages (from kaggle) (4.0.1)\n",
            "Requirement already satisfied: certifi in /usr/local/lib/python3.6/dist-packages (from kaggle) (2020.12.5)\n",
            "Requirement already satisfied: six>=1.10 in /usr/local/lib/python3.6/dist-packages (from kaggle) (1.15.0)\n",
            "Requirement already satisfied: tqdm in /usr/local/lib/python3.6/dist-packages (from kaggle) (4.41.1)\n",
            "Requirement already satisfied: urllib3 in /usr/local/lib/python3.6/dist-packages (from kaggle) (1.24.3)\n",
            "Requirement already satisfied: python-dateutil in /usr/local/lib/python3.6/dist-packages (from kaggle) (2.8.1)\n",
            "Requirement already satisfied: chardet<4,>=3.0.2 in /usr/local/lib/python3.6/dist-packages (from requests->kaggle) (3.0.4)\n",
            "Requirement already satisfied: idna<3,>=2.5 in /usr/local/lib/python3.6/dist-packages (from requests->kaggle) (2.10)\n",
            "Requirement already satisfied: text-unidecode>=1.3 in /usr/local/lib/python3.6/dist-packages (from python-slugify->kaggle) (1.3)\n"
          ],
          "name": "stdout"
        }
      ]
    },
    {
      "cell_type": "code",
      "metadata": {
        "colab": {
          "resources": {
            "http://localhost:8080/nbextensions/google.colab/files.js": {
              "data": "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",
              "ok": true,
              "headers": [
                [
                  "content-type",
                  "application/javascript"
                ]
              ],
              "status": 200,
              "status_text": "OK"
            }
          },
          "base_uri": "https://localhost:8080/",
          "height": 93
        },
        "id": "8j1WBLpWRjNp",
        "outputId": "46b82ac9-d4e7-4659-c979-117688c33d97"
      },
      "source": [
        "from google.colab import files\r\n",
        "files.upload()"
      ],
      "execution_count": 3,
      "outputs": [
        {
          "output_type": "display_data",
          "data": {
            "text/html": [
              "\n",
              "     <input type=\"file\" id=\"files-a264c11b-02a0-452e-ace4-50da80eed56d\" name=\"files[]\" multiple disabled\n",
              "        style=\"border:none\" />\n",
              "     <output id=\"result-a264c11b-02a0-452e-ace4-50da80eed56d\">\n",
              "      Upload widget is only available when the cell has been executed in the\n",
              "      current browser session. Please rerun this cell to enable.\n",
              "      </output>\n",
              "      <script src=\"/nbextensions/google.colab/files.js\"></script> "
            ],
            "text/plain": [
              "<IPython.core.display.HTML object>"
            ]
          },
          "metadata": {
            "tags": []
          }
        },
        {
          "output_type": "stream",
          "text": [
            "Saving kaggle.json to kaggle.json\n"
          ],
          "name": "stdout"
        },
        {
          "output_type": "execute_result",
          "data": {
            "text/plain": [
              "{'kaggle.json': b'{\"username\":\"marufakamallabonno\",\"key\":\"296735e68c21a45a5f703c68a3815e76\"}'}"
            ]
          },
          "metadata": {
            "tags": []
          },
          "execution_count": 3
        }
      ]
    },
    {
      "cell_type": "code",
      "metadata": {
        "id": "jnSYAbIMRyvY"
      },
      "source": [
        "!mkdir -p ~/.kaggle\r\n",
        "!cp kaggle.json ~/.kaggle/\r\n",
        "!chmod 600 ~/.kaggle/kaggle.json # changing permission"
      ],
      "execution_count": 4,
      "outputs": []
    },
    {
      "cell_type": "code",
      "metadata": {
        "id": "5UGnU_-rStCb",
        "colab": {
          "base_uri": "https://localhost:8080/"
        },
        "outputId": "744869c5-686d-4900-a63e-ed50f8f67254"
      },
      "source": [
        "!kaggle datasets download -d BengaliAI/numta"
      ],
      "execution_count": 5,
      "outputs": [
        {
          "output_type": "stream",
          "text": [
            "Downloading numta.zip to /content\n",
            "100% 1.91G/1.91G [00:17<00:00, 37.9MB/s]\n",
            "100% 1.91G/1.91G [00:17<00:00, 115MB/s] \n"
          ],
          "name": "stdout"
        }
      ]
    },
    {
      "cell_type": "markdown",
      "metadata": {
        "id": "FYxRGdi9KaHM"
      },
      "source": [
        "The Zip file is downloaded in the root folder which is now unzipped to extract the files in it."
      ]
    },
    {
      "cell_type": "code",
      "metadata": {
        "id": "Pa8O3L4eS6CM",
        "colab": {
          "base_uri": "https://localhost:8080/"
        },
        "outputId": "b401fe5c-a25d-4a80-89d2-cee8fea2ac40"
      },
      "source": [
        "from zipfile import ZipFile\r\n",
        "f_name= 'numta.zip'\r\n",
        "with ZipFile(f_name,'r') as zip:\r\n",
        "  zip.extractall()\r\n",
        "  print('Done')"
      ],
      "execution_count": 6,
      "outputs": [
        {
          "output_type": "stream",
          "text": [
            "Done\n"
          ],
          "name": "stdout"
        }
      ]
    },
    {
      "cell_type": "code",
      "metadata": {
        "id": "GE3TVi2sZGbF"
      },
      "source": [
        "import os\r\n",
        "from os import path\r\n",
        "TRAIN_PATH = 'trainImage'\r\n",
        "os.mkdir(TRAIN_PATH)"
      ],
      "execution_count": 7,
      "outputs": []
    },
    {
      "cell_type": "markdown",
      "metadata": {
        "id": "YzQDeqHPGye0"
      },
      "source": [
        "Now that the datas are imported in the root folder, how should the dataset be arranged in a better way?\r\n",
        "\r\n",
        "All the images are now kept in a single folder `.trainImage`. in order to access all the images easier"
      ]
    },
    {
      "cell_type": "code",
      "metadata": {
        "id": "vIpFtnR9Wi75"
      },
      "source": [
        "\r\n",
        "\r\n",
        "def processImages(folder_name):\r\n",
        "  src = folder_name + '/'\r\n",
        "  dir_folders = os.listdir(src)\r\n",
        "  for dir_name in dir_folders:\r\n",
        "    file_name = os.path.join(src, dir_name)\r\n",
        "    if os.path.isfile(file_name):\r\n",
        "      shutil.copy(file_name, TRAIN_PATH)  "
      ],
      "execution_count": 8,
      "outputs": []
    },
    {
      "cell_type": "code",
      "metadata": {
        "id": "iSSMjjoJZdWM",
        "colab": {
          "base_uri": "https://localhost:8080/"
        },
        "outputId": "49a894c7-bd21-4a6c-fa40-0f6c176a33c6"
      },
      "source": [
        "import shutil\r\n",
        "processImages('training-a')\r\n",
        "print('A Done')\r\n",
        "processImages('training-b')\r\n",
        "print('B Done')\r\n",
        "processImages('training-c')\r\n",
        "print('C Done')\r\n",
        "processImages('training-d')\r\n",
        "print('D Done')\r\n",
        "processImages('training-e')\r\n",
        "print('E Done')"
      ],
      "execution_count": 9,
      "outputs": [
        {
          "output_type": "stream",
          "text": [
            "A Done\n",
            "B Done\n",
            "C Done\n",
            "D Done\n",
            "E Done\n"
          ],
          "name": "stdout"
        }
      ]
    },
    {
      "cell_type": "code",
      "metadata": {
        "id": "7G1YXTuHZ5cD",
        "colab": {
          "base_uri": "https://localhost:8080/"
        },
        "outputId": "496bea61-3560-4ea8-b719-d8274532645f"
      },
      "source": [
        "os.listdir('/content/trainImage')"
      ],
      "execution_count": 10,
      "outputs": [
        {
          "output_type": "execute_result",
          "data": {
            "text/plain": [
              "['e09600.png',\n",
              " 'd00002.png',\n",
              " 'c16353.png',\n",
              " 'c16995.png',\n",
              " 'c10572.png',\n",
              " 'a19538.png',\n",
              " 'e11784.png',\n",
              " 'e16057.png',\n",
              " 'e08363.png',\n",
              " 'c09000.png',\n",
              " 'a18880.png',\n",
              " 'c19525.png',\n",
              " 'e12629.png',\n",
              " 'e14708.png',\n",
              " 'e03277.png',\n",
              " 'e02614.png',\n",
              " 'a03249.png',\n",
              " 'a17684.png',\n",
              " 'c03692.png',\n",
              " 'a19190.png',\n",
              " 'c07453.png',\n",
              " 'e03692.png',\n",
              " 'c14092.png',\n",
              " 'a16684.png',\n",
              " 'c14590.png',\n",
              " 'd10464.png',\n",
              " 'a17657.png',\n",
              " 'e13559.png',\n",
              " 'd10530.png',\n",
              " 'a10327.png',\n",
              " 'c05985.png',\n",
              " 'c07198.png',\n",
              " 'c10942.png',\n",
              " 'a12932.png',\n",
              " 'c13122.png',\n",
              " 'e08540.png',\n",
              " 'c12679.png',\n",
              " 'a13641.png',\n",
              " 'a16577.png',\n",
              " 'a08831.png',\n",
              " 'a07111.png',\n",
              " 'c23994.png',\n",
              " 'a07325.png',\n",
              " 'd01375.png',\n",
              " 'a17120.png',\n",
              " 'd07581.png',\n",
              " 'a04131.png',\n",
              " 'c22480.png',\n",
              " 'c10247.png',\n",
              " 'd00593.png',\n",
              " 'c07272.png',\n",
              " 'c09771.png',\n",
              " 'c17433.png',\n",
              " 'e00903.png',\n",
              " 'c22040.png',\n",
              " 'e01805.png',\n",
              " 'c10891.png',\n",
              " 'c17082.png',\n",
              " 'c07735.png',\n",
              " 'e16400.png',\n",
              " 'c13898.png',\n",
              " 'c23909.png',\n",
              " 'c13430.png',\n",
              " 'a07270.png',\n",
              " 'e08011.png',\n",
              " 'a02198.png',\n",
              " 'a18040.png',\n",
              " 'e13389.png',\n",
              " 'e12829.png',\n",
              " 'a05029.png',\n",
              " 'e07995.png',\n",
              " 'c00139.png',\n",
              " 'a06715.png',\n",
              " 'c02761.png',\n",
              " 'c10399.png',\n",
              " 'd00666.png',\n",
              " 'c12386.png',\n",
              " 'e12203.png',\n",
              " 'e03028.png',\n",
              " 'c15082.png',\n",
              " 'a13397.png',\n",
              " 'e14496.png',\n",
              " 'c10981.png',\n",
              " 'a12197.png',\n",
              " 'c21273.png',\n",
              " 'a07733.png',\n",
              " 'a03190.png',\n",
              " 'e07477.png',\n",
              " 'c11438.png',\n",
              " 'd02414.png',\n",
              " 'c09627.png',\n",
              " 'd07298.png',\n",
              " 'c04270.png',\n",
              " 'a00120.png',\n",
              " 'e13047.png',\n",
              " 'd07978.png',\n",
              " 'd07493.png',\n",
              " 'c24010.png',\n",
              " 'e10481.png',\n",
              " 'c08011.png',\n",
              " 'c17037.png',\n",
              " 'c08654.png',\n",
              " 'd05753.png',\n",
              " 'e14022.png',\n",
              " 'd00848.png',\n",
              " 'a03824.png',\n",
              " 'd02976.png',\n",
              " 'a17743.png',\n",
              " 'c20694.png',\n",
              " 'e07521.png',\n",
              " 'd06991.png',\n",
              " 'd02018.png',\n",
              " 'e11754.png',\n",
              " 'c00934.png',\n",
              " 'c20896.png',\n",
              " 'd02236.png',\n",
              " 'a03102.png',\n",
              " 'b00227.png',\n",
              " 'a04796.png',\n",
              " 'e14039.png',\n",
              " 'e02839.png',\n",
              " 'a13601.png',\n",
              " 'a11922.png',\n",
              " 'c04330.png',\n",
              " 'e13135.png',\n",
              " 'c12933.png',\n",
              " 'e03921.png',\n",
              " 'd10461.png',\n",
              " 'c06697.png',\n",
              " 'c19276.png',\n",
              " 'e02671.png',\n",
              " 'a14897.png',\n",
              " 'c06423.png',\n",
              " 'c05369.png',\n",
              " 'e07024.png',\n",
              " 'a05328.png',\n",
              " 'a08519.png',\n",
              " 'c06873.png',\n",
              " 'd04119.png',\n",
              " 'e14046.png',\n",
              " 'e03217.png',\n",
              " 'd09645.png',\n",
              " 'c20281.png',\n",
              " 'a14566.png',\n",
              " 'b00276.png',\n",
              " 'a17003.png',\n",
              " 'c16602.png',\n",
              " 'e10377.png',\n",
              " 'c01556.png',\n",
              " 'c06681.png',\n",
              " 'e08835.png',\n",
              " 'c23335.png',\n",
              " 'd01681.png',\n",
              " 'c20940.png',\n",
              " 'c05418.png',\n",
              " 'c03166.png',\n",
              " 'e16770.png',\n",
              " 'd00551.png',\n",
              " 'c16399.png',\n",
              " 'c23871.png',\n",
              " 'c22915.png',\n",
              " 'a08405.png',\n",
              " 'c06422.png',\n",
              " 'e04720.png',\n",
              " 'a07563.png',\n",
              " 'a12906.png',\n",
              " 'e09929.png',\n",
              " 'a06089.png',\n",
              " 'd01008.png',\n",
              " 'c10606.png',\n",
              " 'c15455.png',\n",
              " 'd07411.png',\n",
              " 'e06190.png',\n",
              " 'c12753.png',\n",
              " 'c19021.png',\n",
              " 'a16157.png',\n",
              " 'd02319.png',\n",
              " 'a16952.png',\n",
              " 'a01904.png',\n",
              " 'c20608.png',\n",
              " 'c20210.png',\n",
              " 'e05906.png',\n",
              " 'c04771.png',\n",
              " 'd01164.png',\n",
              " 'a11175.png',\n",
              " 'e08352.png',\n",
              " 'c19786.png',\n",
              " 'c19899.png',\n",
              " 'c21768.png',\n",
              " 'e12520.png',\n",
              " 'a06566.png',\n",
              " 'a07456.png',\n",
              " 'e06900.png',\n",
              " 'e15879.png',\n",
              " 'a10839.png',\n",
              " 'd06934.png',\n",
              " 'a09847.png',\n",
              " 'a18530.png',\n",
              " 'e02407.png',\n",
              " 'c14563.png',\n",
              " 'a13609.png',\n",
              " 'a08915.png',\n",
              " 'a02955.png',\n",
              " 'e11697.png',\n",
              " 'c12348.png',\n",
              " 'a10313.png',\n",
              " 'd04779.png',\n",
              " 'a02647.png',\n",
              " 'a07376.png',\n",
              " 'c18562.png',\n",
              " 'c20654.png',\n",
              " 'e08180.png',\n",
              " 'd00880.png',\n",
              " 'c09955.png',\n",
              " 'a01035.png',\n",
              " 'c03843.png',\n",
              " 'a11695.png',\n",
              " 'c09487.png',\n",
              " 'e12383.png',\n",
              " 'c22054.png',\n",
              " 'a02861.png',\n",
              " 'd04347.png',\n",
              " 'e12298.png',\n",
              " 'a11910.png',\n",
              " 'c08266.png',\n",
              " 'c23626.png',\n",
              " 'c12413.png',\n",
              " 'c08587.png',\n",
              " 'a00373.png',\n",
              " 'd10241.png',\n",
              " 'c02089.png',\n",
              " 'a02685.png',\n",
              " 'd09165.png',\n",
              " 'a03252.png',\n",
              " 'c17564.png',\n",
              " 'c13364.png',\n",
              " 'c15905.png',\n",
              " 'e15388.png',\n",
              " 'a10846.png',\n",
              " 'a03665.png',\n",
              " 'd08825.png',\n",
              " 'c03677.png',\n",
              " 'c16989.png',\n",
              " 'd04001.png',\n",
              " 'a12993.png',\n",
              " 'e03944.png',\n",
              " 'c09546.png',\n",
              " 'c23343.png',\n",
              " 'd08466.png',\n",
              " 'a16531.png',\n",
              " 'a07637.png',\n",
              " 'c08274.png',\n",
              " 'a14639.png',\n",
              " 'a15898.png',\n",
              " 'c18043.png',\n",
              " 'a19300.png',\n",
              " 'a13894.png',\n",
              " 'a15448.png',\n",
              " 'c17166.png',\n",
              " 'e16572.png',\n",
              " 'e04272.png',\n",
              " 'c09755.png',\n",
              " 'c00856.png',\n",
              " 'e13182.png',\n",
              " 'e14003.png',\n",
              " 'e11580.png',\n",
              " 'c13584.png',\n",
              " 'c16934.png',\n",
              " 'a14211.png',\n",
              " 'd00533.png',\n",
              " 'a19506.png',\n",
              " 'a04816.png',\n",
              " 'a02078.png',\n",
              " 'a17220.png',\n",
              " 'e14844.png',\n",
              " 'e11543.png',\n",
              " 'c19615.png',\n",
              " 'c18542.png',\n",
              " 'e16673.png',\n",
              " 'c16172.png',\n",
              " 'e13101.png',\n",
              " 'c23798.png',\n",
              " 'a03134.png',\n",
              " 'a09867.png',\n",
              " 'e02443.png',\n",
              " 'e01022.png',\n",
              " 'a06694.png',\n",
              " 'a05448.png',\n",
              " 'e15777.png',\n",
              " 'c04349.png',\n",
              " 'a18959.png',\n",
              " 'c11495.png',\n",
              " 'e08264.png',\n",
              " 'c20886.png',\n",
              " 'a14762.png',\n",
              " 'd09212.png',\n",
              " 'c07438.png',\n",
              " 'a12880.png',\n",
              " 'c19813.png',\n",
              " 'a05739.png',\n",
              " 'c15581.png',\n",
              " 'a02843.png',\n",
              " 'e06662.png',\n",
              " 'e14483.png',\n",
              " 'c13713.png',\n",
              " 'c09581.png',\n",
              " 'b00122.png',\n",
              " 'c18165.png',\n",
              " 'd08295.png',\n",
              " 'd01176.png',\n",
              " 'd02993.png',\n",
              " 'e00275.png',\n",
              " 'c02261.png',\n",
              " 'e15963.png',\n",
              " 'e02369.png',\n",
              " 'c09958.png',\n",
              " 'd10800.png',\n",
              " 'a18442.png',\n",
              " 'a05335.png',\n",
              " 'a17686.png',\n",
              " 'e13417.png',\n",
              " 'a10296.png',\n",
              " 'c15062.png',\n",
              " 'e11342.png',\n",
              " 'c21123.png',\n",
              " 'a06099.png',\n",
              " 'a17285.png',\n",
              " 'd08629.png',\n",
              " 'e04297.png',\n",
              " 'c18783.png',\n",
              " 'a05844.png',\n",
              " 'e14175.png',\n",
              " 'c06918.png',\n",
              " 'd04787.png',\n",
              " 'e00976.png',\n",
              " 'd04165.png',\n",
              " 'e16019.png',\n",
              " 'a18085.png',\n",
              " 'd01683.png',\n",
              " 'd08087.png',\n",
              " 'c00233.png',\n",
              " 'd00259.png',\n",
              " 'a13930.png',\n",
              " 'e16230.png',\n",
              " 'd08545.png',\n",
              " 'c16354.png',\n",
              " 'c02672.png',\n",
              " 'e09348.png',\n",
              " 'c02044.png',\n",
              " 'c20774.png',\n",
              " 'e01626.png',\n",
              " 'c00069.png',\n",
              " 'd07725.png',\n",
              " 'e10535.png',\n",
              " 'a04686.png',\n",
              " 'a19332.png',\n",
              " 'a05178.png',\n",
              " 'c14069.png',\n",
              " 'a16549.png',\n",
              " 'c08755.png',\n",
              " 'a02593.png',\n",
              " 'd01668.png',\n",
              " 'c01797.png',\n",
              " 'a05283.png',\n",
              " 'a08540.png',\n",
              " 'c05625.png',\n",
              " 'a07700.png',\n",
              " 'a10503.png',\n",
              " 'c10311.png',\n",
              " 'd02496.png',\n",
              " 'd02086.png',\n",
              " 'a03578.png',\n",
              " 'c03721.png',\n",
              " 'e06217.png',\n",
              " 'c14191.png',\n",
              " 'a14378.png',\n",
              " 'c06123.png',\n",
              " 'a17342.png',\n",
              " 'a02971.png',\n",
              " 'e01568.png',\n",
              " 'e09494.png',\n",
              " 'a06699.png',\n",
              " 'e16097.png',\n",
              " 'e14125.png',\n",
              " 'c19020.png',\n",
              " 'e01044.png',\n",
              " 'a17500.png',\n",
              " 'e00012.png',\n",
              " 'c21912.png',\n",
              " 'a17373.png',\n",
              " 'c15828.png',\n",
              " 'e14311.png',\n",
              " 'd09981.png',\n",
              " 'e15507.png',\n",
              " 'e07568.png',\n",
              " 'a16054.png',\n",
              " 'a17156.png',\n",
              " 'c05989.png',\n",
              " 'e16222.png',\n",
              " 'e00969.png',\n",
              " 'c05048.png',\n",
              " 'd00185.png',\n",
              " 'a16905.png',\n",
              " 'a18542.png',\n",
              " 'b00059.png',\n",
              " 'e10297.png',\n",
              " 'c22671.png',\n",
              " 'd00803.png',\n",
              " 'c23732.png',\n",
              " 'd08847.png',\n",
              " 'a03098.png',\n",
              " 'a16226.png',\n",
              " 'e14120.png',\n",
              " 'c04915.png',\n",
              " 'c14958.png',\n",
              " 'a17537.png',\n",
              " 'e06488.png',\n",
              " 'a10642.png',\n",
              " 'e13438.png',\n",
              " 'e09437.png',\n",
              " 'd00626.png',\n",
              " 'e00994.png',\n",
              " 'c00128.png',\n",
              " 'a10693.png',\n",
              " 'a06594.png',\n",
              " 'c02759.png',\n",
              " 'a01293.png',\n",
              " 'e02346.png',\n",
              " 'c02748.png',\n",
              " 'c14109.png',\n",
              " 'c09137.png',\n",
              " 'e09506.png',\n",
              " 'e16046.png',\n",
              " 'e02086.png',\n",
              " 'e12966.png',\n",
              " 'a05532.png',\n",
              " 'c02750.png',\n",
              " 'e15380.png',\n",
              " 'c00764.png',\n",
              " 'e09135.png',\n",
              " 'a14648.png',\n",
              " 'a00449.png',\n",
              " 'c01438.png',\n",
              " 'a02635.png',\n",
              " 'e00656.png',\n",
              " 'a14735.png',\n",
              " 'e12866.png',\n",
              " 'a15068.png',\n",
              " 'c19591.png',\n",
              " 'd00153.png',\n",
              " 'a06272.png',\n",
              " 'c08991.png',\n",
              " 'a04047.png',\n",
              " 'a14472.png',\n",
              " 'c21560.png',\n",
              " 'c16384.png',\n",
              " 'e05946.png',\n",
              " 'e05049.png',\n",
              " 'e07303.png',\n",
              " 'd03773.png',\n",
              " 'a15827.png',\n",
              " 'c11176.png',\n",
              " 'e02790.png',\n",
              " 'a13795.png',\n",
              " 'a15044.png',\n",
              " 'c15921.png',\n",
              " 'c18843.png',\n",
              " 'a05117.png',\n",
              " 'a03908.png',\n",
              " 'e04960.png',\n",
              " 'c02415.png',\n",
              " 'c18002.png',\n",
              " 'e04829.png',\n",
              " 'e08898.png',\n",
              " 'a08303.png',\n",
              " 'c21464.png',\n",
              " 'a18007.png',\n",
              " 'a08634.png',\n",
              " 'd04114.png',\n",
              " 'a10174.png',\n",
              " 'c01159.png',\n",
              " 'c16887.png',\n",
              " 'c23899.png',\n",
              " 'c03058.png',\n",
              " 'a02795.png',\n",
              " 'a08026.png',\n",
              " 'd05820.png',\n",
              " 'a04620.png',\n",
              " 'd08686.png',\n",
              " 'd01587.png',\n",
              " 'a01780.png',\n",
              " 'e03622.png',\n",
              " 'c12889.png',\n",
              " 'e08049.png',\n",
              " 'a15608.png',\n",
              " 'a10664.png',\n",
              " 'c19960.png',\n",
              " 'e07997.png',\n",
              " 'e12043.png',\n",
              " 'e13917.png',\n",
              " 'a04466.png',\n",
              " 'c12737.png',\n",
              " 'c05202.png',\n",
              " 'd01251.png',\n",
              " 'a00964.png',\n",
              " 'a16523.png',\n",
              " 'c16279.png',\n",
              " 'c16525.png',\n",
              " 'c20198.png',\n",
              " 'a08257.png',\n",
              " 'd08921.png',\n",
              " 'c07259.png',\n",
              " 'a13577.png',\n",
              " 'e04927.png',\n",
              " 'd09300.png',\n",
              " 'c16577.png',\n",
              " 'd06936.png',\n",
              " 'd01707.png',\n",
              " 'c17608.png',\n",
              " 'e02354.png',\n",
              " 'c15275.png',\n",
              " 'c06509.png',\n",
              " 'a07589.png',\n",
              " 'a11324.png',\n",
              " 'a16085.png',\n",
              " 'e15174.png',\n",
              " 'e14625.png',\n",
              " 'a05727.png',\n",
              " 'e08869.png',\n",
              " 'a01708.png',\n",
              " 'e12481.png',\n",
              " 'e15070.png',\n",
              " 'e00443.png',\n",
              " 'a04939.png',\n",
              " 'c16468.png',\n",
              " 'b00016.png',\n",
              " 'c07803.png',\n",
              " 'a10584.png',\n",
              " 'c01972.png',\n",
              " 'd07292.png',\n",
              " 'e01148.png',\n",
              " 'e10947.png',\n",
              " 'e02482.png',\n",
              " 'c07909.png',\n",
              " 'a08451.png',\n",
              " 'a08249.png',\n",
              " 'e04688.png',\n",
              " 'c09663.png',\n",
              " 'c20289.png',\n",
              " 'c10862.png',\n",
              " 'd09457.png',\n",
              " 'd08757.png',\n",
              " 'a17666.png',\n",
              " 'c10584.png',\n",
              " 'c16671.png',\n",
              " 'd06463.png',\n",
              " 'c20789.png',\n",
              " 'a03652.png',\n",
              " 'a01219.png',\n",
              " 'c15126.png',\n",
              " 'c14511.png',\n",
              " 'c04152.png',\n",
              " 'c03959.png',\n",
              " 'a00977.png',\n",
              " 'c22597.png',\n",
              " 'c20378.png',\n",
              " 'c14423.png',\n",
              " 'a02205.png',\n",
              " 'e02410.png',\n",
              " 'c21815.png',\n",
              " 'c17251.png',\n",
              " 'a00796.png',\n",
              " 'c08602.png',\n",
              " 'a09474.png',\n",
              " 'd09952.png',\n",
              " 'd02764.png',\n",
              " 'c18466.png',\n",
              " 'c18717.png',\n",
              " 'c02271.png',\n",
              " 'd05849.png',\n",
              " 'a07649.png',\n",
              " 'c17665.png',\n",
              " 'a02811.png',\n",
              " 'c08084.png',\n",
              " 'c10041.png',\n",
              " 'e02486.png',\n",
              " 'e07529.png',\n",
              " 'c12224.png',\n",
              " 'a01779.png',\n",
              " 'e00843.png',\n",
              " 'a13302.png',\n",
              " 'a05862.png',\n",
              " 'a14716.png',\n",
              " 'a05162.png',\n",
              " 'e15188.png',\n",
              " 'e01559.png',\n",
              " 'e00442.png',\n",
              " 'c01502.png',\n",
              " 'c03327.png',\n",
              " 'c09575.png',\n",
              " 'a14129.png',\n",
              " 'd05495.png',\n",
              " 'a08320.png',\n",
              " 'd08126.png',\n",
              " 'a02592.png',\n",
              " 'c19926.png',\n",
              " 'd01267.png',\n",
              " 'e09318.png',\n",
              " 'e08248.png',\n",
              " 'e01959.png',\n",
              " 'e07685.png',\n",
              " 'e08740.png',\n",
              " 'c04481.png',\n",
              " 'e01227.png',\n",
              " 'c17618.png',\n",
              " 'a10486.png',\n",
              " 'c19767.png',\n",
              " 'e11316.png',\n",
              " 'a07037.png',\n",
              " 'c23476.png',\n",
              " 'e13612.png',\n",
              " 'a13156.png',\n",
              " 'e07023.png',\n",
              " 'a10336.png',\n",
              " 'a17279.png',\n",
              " 'a14352.png',\n",
              " 'a03278.png',\n",
              " 'c20024.png',\n",
              " 'c16964.png',\n",
              " 'c05084.png',\n",
              " 'd08326.png',\n",
              " 'd02832.png',\n",
              " 'a01855.png',\n",
              " 'c21681.png',\n",
              " 'e03824.png',\n",
              " 'c10720.png',\n",
              " 'd06300.png',\n",
              " 'a17088.png',\n",
              " 'a09671.png',\n",
              " 'd04883.png',\n",
              " 'a15810.png',\n",
              " 'c18857.png',\n",
              " 'a17449.png',\n",
              " 'a02496.png',\n",
              " 'c05774.png',\n",
              " 'c20695.png',\n",
              " 'a04665.png',\n",
              " 'a18552.png',\n",
              " 'd07394.png',\n",
              " 'c22182.png',\n",
              " 'e10925.png',\n",
              " 'e01406.png',\n",
              " 'e10109.png',\n",
              " 'e14958.png',\n",
              " 'd00303.png',\n",
              " 'c21173.png',\n",
              " 'c19737.png',\n",
              " 'c18589.png',\n",
              " 'd04737.png',\n",
              " 'c05216.png',\n",
              " 'e00985.png',\n",
              " 'e04004.png',\n",
              " 'd05796.png',\n",
              " 'e11124.png',\n",
              " 'c01378.png',\n",
              " 'a15681.png',\n",
              " 'c03208.png',\n",
              " 'e16666.png',\n",
              " 'd08498.png',\n",
              " 'c24202.png',\n",
              " 'a13784.png',\n",
              " 'e06466.png',\n",
              " 'c13539.png',\n",
              " 'c10097.png',\n",
              " 'a10022.png',\n",
              " 'c01826.png',\n",
              " 'a17695.png',\n",
              " 'e01993.png',\n",
              " 'c23393.png',\n",
              " 'c18128.png',\n",
              " 'a15676.png',\n",
              " 'a17878.png',\n",
              " 'a16478.png',\n",
              " 'e03001.png',\n",
              " 'c18573.png',\n",
              " 'c10874.png',\n",
              " 'a06773.png',\n",
              " 'a13414.png',\n",
              " 'e00083.png',\n",
              " 'c11845.png',\n",
              " 'a13556.png',\n",
              " 'a12367.png',\n",
              " 'c10252.png',\n",
              " 'a14164.png',\n",
              " 'e12114.png',\n",
              " 'c14669.png',\n",
              " 'd04510.png',\n",
              " 'a13554.png',\n",
              " 'a12762.png',\n",
              " 'd08333.png',\n",
              " 'a19235.png',\n",
              " 'c17889.png',\n",
              " 'e12301.png',\n",
              " 'c12771.png',\n",
              " 'c22768.png',\n",
              " 'd09132.png',\n",
              " 'e04377.png',\n",
              " 'a10599.png',\n",
              " 'c06985.png',\n",
              " 'c08918.png',\n",
              " 'a14218.png',\n",
              " 'c23221.png',\n",
              " 'a18500.png',\n",
              " 'a18751.png',\n",
              " 'c21390.png',\n",
              " 'c22284.png',\n",
              " 'a16780.png',\n",
              " 'c19585.png',\n",
              " 'c00865.png',\n",
              " 'a13413.png',\n",
              " 'a02404.png',\n",
              " 'd01157.png',\n",
              " 'c15540.png',\n",
              " 'd03169.png',\n",
              " 'd02917.png',\n",
              " 'c09867.png',\n",
              " 'c16036.png',\n",
              " 'a10834.png',\n",
              " 'c01577.png',\n",
              " 'c17393.png',\n",
              " 'c09910.png',\n",
              " 'e02089.png',\n",
              " 'c24020.png',\n",
              " 'a05201.png',\n",
              " 'e14448.png',\n",
              " 'd00045.png',\n",
              " 'c08139.png',\n",
              " 'e09770.png',\n",
              " 'd05670.png',\n",
              " 'c02052.png',\n",
              " 'c18041.png',\n",
              " 'c22784.png',\n",
              " 'c03563.png',\n",
              " 'a17060.png',\n",
              " 'e13501.png',\n",
              " 'c13907.png',\n",
              " 'e08889.png',\n",
              " 'a04637.png',\n",
              " 'e03373.png',\n",
              " 'a09345.png',\n",
              " 'a01355.png',\n",
              " 'c21932.png',\n",
              " 'c13793.png',\n",
              " 'c07379.png',\n",
              " 'c01457.png',\n",
              " 'e01905.png',\n",
              " 'd09887.png',\n",
              " 'e08800.png',\n",
              " 'e08806.png',\n",
              " 'd03120.png',\n",
              " 'e15589.png',\n",
              " 'e05341.png',\n",
              " 'a06707.png',\n",
              " 'c16962.png',\n",
              " 'e14849.png',\n",
              " 'e10841.png',\n",
              " 'a18651.png',\n",
              " 'e13849.png',\n",
              " 'c23179.png',\n",
              " 'c12708.png',\n",
              " 'e11119.png',\n",
              " 'a18259.png',\n",
              " 'a08748.png',\n",
              " 'e07887.png',\n",
              " 'a17570.png',\n",
              " 'c14478.png',\n",
              " 'c15279.png',\n",
              " 'a17581.png',\n",
              " 'e00575.png',\n",
              " 'd00154.png',\n",
              " 'a15257.png',\n",
              " 'd08867.png',\n",
              " 'a18048.png',\n",
              " 'a15673.png',\n",
              " 'c18604.png',\n",
              " 'a13547.png',\n",
              " 'c23038.png',\n",
              " 'd07350.png',\n",
              " 'c05485.png',\n",
              " 'c22341.png',\n",
              " 'a04798.png',\n",
              " 'a12418.png',\n",
              " 'c14273.png',\n",
              " 'c11007.png',\n",
              " 'c22447.png',\n",
              " 'c13824.png',\n",
              " 'a11104.png',\n",
              " 'a11179.png',\n",
              " 'e06668.png',\n",
              " 'c19578.png',\n",
              " 'e10884.png',\n",
              " 'a18741.png',\n",
              " 'a04355.png',\n",
              " 'a01406.png',\n",
              " 'c12703.png',\n",
              " 'd04258.png',\n",
              " 'd08582.png',\n",
              " 'a13051.png',\n",
              " 'e12046.png',\n",
              " 'c21059.png',\n",
              " 'a01600.png',\n",
              " 'a07855.png',\n",
              " 'a00703.png',\n",
              " 'd09629.png',\n",
              " 'e04479.png',\n",
              " 'a05852.png',\n",
              " 'd03473.png',\n",
              " 'c08306.png',\n",
              " 'c11118.png',\n",
              " 'c01939.png',\n",
              " 'a14357.png',\n",
              " 'e02741.png',\n",
              " 'e02331.png',\n",
              " 'd06084.png',\n",
              " 'e03898.png',\n",
              " 'e06731.png',\n",
              " 'c07834.png',\n",
              " 'a17035.png',\n",
              " 'c19409.png',\n",
              " 'c17962.png',\n",
              " 'c05197.png',\n",
              " 'c14216.png',\n",
              " 'a04087.png',\n",
              " 'd09091.png',\n",
              " 'e13304.png',\n",
              " 'd10087.png',\n",
              " 'a10864.png',\n",
              " 'e12360.png',\n",
              " 'c16974.png',\n",
              " 'a19083.png',\n",
              " 'c06746.png',\n",
              " 'a00464.png',\n",
              " 'a02910.png',\n",
              " 'e07801.png',\n",
              " 'e14255.png',\n",
              " 'c06542.png',\n",
              " 'c07929.png',\n",
              " 'e00597.png',\n",
              " 'c02804.png',\n",
              " 'c20418.png',\n",
              " 'c16642.png',\n",
              " 'e15869.png',\n",
              " 'e07403.png',\n",
              " 'a15477.png',\n",
              " 'a12963.png',\n",
              " 'a04026.png',\n",
              " 'c03747.png',\n",
              " 'e04756.png',\n",
              " 'a05545.png',\n",
              " 'e16392.png',\n",
              " 'a14227.png',\n",
              " 'e02708.png',\n",
              " 'd09978.png',\n",
              " 'a05425.png',\n",
              " 'c09935.png',\n",
              " 'a03126.png',\n",
              " 'c18221.png',\n",
              " 'e09693.png',\n",
              " 'c16028.png',\n",
              " 'c22804.png',\n",
              " 'a09416.png',\n",
              " 'e07559.png',\n",
              " 'c12183.png',\n",
              " 'a09924.png',\n",
              " 'c19437.png',\n",
              " 'c20655.png',\n",
              " 'd07547.png',\n",
              " 'c08871.png',\n",
              " 'e03719.png',\n",
              " 'e06430.png',\n",
              " 'c10280.png',\n",
              " 'd09719.png',\n",
              " 'd00457.png',\n",
              " 'c08359.png',\n",
              " 'c14361.png',\n",
              " 'c03635.png',\n",
              " 'a09334.png',\n",
              " 'c03066.png',\n",
              " 'd03494.png',\n",
              " 'a15894.png',\n",
              " 'c12406.png',\n",
              " 'd09957.png',\n",
              " 'c18708.png',\n",
              " 'a12098.png',\n",
              " 'a12340.png',\n",
              " 'c02639.png',\n",
              " 'e15748.png',\n",
              " 'c22642.png',\n",
              " 'd02899.png',\n",
              " 'a18301.png',\n",
              " 'c20934.png',\n",
              " 'a12287.png',\n",
              " 'a14155.png',\n",
              " 'a03636.png',\n",
              " 'c01451.png',\n",
              " 'd10267.png',\n",
              " 'a08650.png',\n",
              " 'c22049.png',\n",
              " 'c17850.png',\n",
              " 'c00134.png',\n",
              " 'c18680.png',\n",
              " 'c17625.png',\n",
              " 'a19429.png',\n",
              " 'e00222.png',\n",
              " 'c06833.png',\n",
              " 'c02385.png',\n",
              " 'e08111.png',\n",
              " 'c07283.png',\n",
              " 'e05599.png',\n",
              " 'c09670.png',\n",
              " 'e14613.png',\n",
              " 'a11788.png',\n",
              " 'a14965.png',\n",
              " 'd07107.png',\n",
              " 'a03826.png',\n",
              " 'a02532.png',\n",
              " 'a14425.png',\n",
              " 'a11052.png',\n",
              " 'e16096.png',\n",
              " 'a07921.png',\n",
              " 'e15744.png',\n",
              " 'c13097.png',\n",
              " 'a06671.png',\n",
              " 'e07659.png',\n",
              " 'a00324.png',\n",
              " 'c11258.png',\n",
              " 'c17686.png',\n",
              " 'a19492.png',\n",
              " 'd10403.png',\n",
              " 'e16120.png',\n",
              " 'a12399.png',\n",
              " 'c02644.png',\n",
              " 'e08066.png',\n",
              " 'd07699.png',\n",
              " 'c10664.png',\n",
              " 'e01894.png',\n",
              " 'c03383.png',\n",
              " 'e14204.png',\n",
              " 'a05524.png',\n",
              " 'd08803.png',\n",
              " 'a02620.png',\n",
              " 'c22478.png',\n",
              " 'c13743.png',\n",
              " 'c11543.png',\n",
              " 'd01517.png',\n",
              " 'c05258.png',\n",
              " 'c04653.png',\n",
              " 'd09804.png',\n",
              " 'd04081.png',\n",
              " 'c22414.png',\n",
              " 'e14337.png',\n",
              " 'c12916.png',\n",
              " 'a03220.png',\n",
              " 'c09980.png',\n",
              " 'a15688.png',\n",
              " 'e14502.png',\n",
              " 'e12552.png',\n",
              " 'd08569.png',\n",
              " 'a01072.png',\n",
              " 'c19202.png',\n",
              " 'e07117.png',\n",
              " 'c17293.png',\n",
              " 'c23173.png',\n",
              " 'a11140.png',\n",
              " 'e12219.png',\n",
              " 'c17705.png',\n",
              " 'd05735.png',\n",
              " 'c18950.png',\n",
              " 'c21521.png',\n",
              " 'c21093.png',\n",
              " 'd09976.png',\n",
              " 'a09066.png',\n",
              " 'd10411.png',\n",
              " 'e09982.png',\n",
              " 'a13006.png',\n",
              " 'e13258.png',\n",
              " 'e06189.png',\n",
              " 'e10185.png',\n",
              " 'e12065.png',\n",
              " 'a09735.png',\n",
              " 'c18668.png',\n",
              " 'd08303.png',\n",
              " 'd01884.png',\n",
              " 'c09216.png',\n",
              " 'a14005.png',\n",
              " 'c13771.png',\n",
              " 'e10578.png',\n",
              " 'e16047.png',\n",
              " 'e02722.png',\n",
              " 'a06255.png',\n",
              " ...]"
            ]
          },
          "metadata": {
            "tags": []
          },
          "execution_count": 10
        }
      ]
    },
    {
      "cell_type": "markdown",
      "metadata": {
        "id": "v-qhMGOeYcGC"
      },
      "source": [
        "Using the **pandas** library the csv files are imported.\r\n",
        "Only the necessary columns are kept dropping the remaining columns."
      ]
    },
    {
      "cell_type": "code",
      "metadata": {
        "id": "EcZpMY9Fjrft"
      },
      "source": [
        "def showRawTrainingSamples(csv_filename):\r\n",
        "  df = pd.read_csv(csv_filename)\r\n",
        "  print(csv_filename)\r\n",
        "  print(df.columns)\r\n",
        "  return df"
      ],
      "execution_count": 11,
      "outputs": []
    },
    {
      "cell_type": "code",
      "metadata": {
        "id": "84DNpJ0hVxVQ",
        "colab": {
          "base_uri": "https://localhost:8080/"
        },
        "outputId": "9ac18673-a1be-4ebe-dac2-6c7d1087e27c"
      },
      "source": [
        "import pandas as pd\r\n",
        "a_csv = showRawTrainingSamples('training-a.csv')\r\n",
        "b_csv = showRawTrainingSamples('training-b.csv')\r\n",
        "c_csv = showRawTrainingSamples('training-c.csv')\r\n",
        "d_csv = showRawTrainingSamples('training-d.csv')\r\n",
        "e_csv = showRawTrainingSamples('training-e.csv')"
      ],
      "execution_count": 12,
      "outputs": [
        {
          "output_type": "stream",
          "text": [
            "training-a.csv\n",
            "Index(['filename', 'original filename', 'scanid', 'digit',\n",
            "       'database name original', 'contributing team', 'database name'],\n",
            "      dtype='object')\n",
            "training-b.csv\n",
            "Index(['filename', 'original filename', 'scanid', 'digit',\n",
            "       'database name original', 'contributing team', 'database name'],\n",
            "      dtype='object')\n",
            "training-c.csv\n",
            "Index(['filename', 'original filename', 'scanid', 'digit',\n",
            "       'database name original', 'contributing team', 'database name'],\n",
            "      dtype='object')\n",
            "training-d.csv\n",
            "Index(['original filename', 'scanid', 'digit', 'num', 'database name original',\n",
            "       'database name', 'filename'],\n",
            "      dtype='object')\n",
            "training-e.csv\n",
            "Index(['filename', 'original filename', 'districtid', 'institutionid',\n",
            "       'gender', 'age', 'datestamp', 'scanid', 'digit',\n",
            "       'database name original', 'database name'],\n",
            "      dtype='object')\n"
          ],
          "name": "stdout"
        }
      ]
    },
    {
      "cell_type": "code",
      "metadata": {
        "id": "uQ8JRUqGWLsL"
      },
      "source": [
        "def truncateColumns(csv_file):\r\n",
        "  csv_file = csv_file[['filename', 'digit']]\r\n",
        "  print(csv_file)\r\n",
        "  print(csv_file.iloc[:5, :])   #First 5 Rows of the CSV File\r\n",
        "  print(\"=============================\")\r\n",
        "  return csv_file"
      ],
      "execution_count": 13,
      "outputs": []
    },
    {
      "cell_type": "markdown",
      "metadata": {
        "id": "izkpPJk_JZkC"
      },
      "source": [
        "Only the **filename** and the **digit** column is kept."
      ]
    },
    {
      "cell_type": "code",
      "metadata": {
        "id": "1Wym1DjFWMNA",
        "colab": {
          "base_uri": "https://localhost:8080/"
        },
        "outputId": "eaf0fdb2-d000-4a0d-ba72-20ac96280dad"
      },
      "source": [
        "a_csv = truncateColumns(a_csv)\r\n",
        "b_csv = truncateColumns(b_csv)\r\n",
        "c_csv = truncateColumns(c_csv)\r\n",
        "d_csv = truncateColumns(d_csv)\r\n",
        "e_csv = truncateColumns(e_csv)"
      ],
      "execution_count": 14,
      "outputs": [
        {
          "output_type": "stream",
          "text": [
            "         filename  digit\n",
            "0      a00000.png      5\n",
            "1      a00001.png      3\n",
            "2      a00002.png      1\n",
            "3      a00003.png      7\n",
            "4      a00004.png      0\n",
            "...           ...    ...\n",
            "19697  a19697.png      4\n",
            "19698  a19698.png      3\n",
            "19699  a19699.png      8\n",
            "19700  a19700.png      3\n",
            "19701  a19701.png      8\n",
            "\n",
            "[19702 rows x 2 columns]\n",
            "     filename  digit\n",
            "0  a00000.png      5\n",
            "1  a00001.png      3\n",
            "2  a00002.png      1\n",
            "3  a00003.png      7\n",
            "4  a00004.png      0\n",
            "=============================\n",
            "       filename  digit\n",
            "0    b00000.png      0\n",
            "1    b00001.png      2\n",
            "2    b00002.png      5\n",
            "3    b00003.png      2\n",
            "4    b00004.png      5\n",
            "..          ...    ...\n",
            "354  b00354.png      5\n",
            "355  b00355.png      9\n",
            "356  b00356.png      2\n",
            "357  b00357.png      1\n",
            "358  b00358.png      2\n",
            "\n",
            "[359 rows x 2 columns]\n",
            "     filename  digit\n",
            "0  b00000.png      0\n",
            "1  b00001.png      2\n",
            "2  b00002.png      5\n",
            "3  b00003.png      2\n",
            "4  b00004.png      5\n",
            "=============================\n",
            "         filename  digit\n",
            "0      c00000.png      6\n",
            "1      c00001.png      1\n",
            "2      c00002.png      3\n",
            "3      c00003.png      2\n",
            "4      c00004.png      7\n",
            "...           ...    ...\n",
            "24293  c24293.png      3\n",
            "24294  c24294.png      2\n",
            "24295  c24295.png      7\n",
            "24296  c24296.png      2\n",
            "24297  c24297.png      7\n",
            "\n",
            "[24298 rows x 2 columns]\n",
            "     filename  digit\n",
            "0  c00000.png      6\n",
            "1  c00001.png      1\n",
            "2  c00002.png      3\n",
            "3  c00003.png      2\n",
            "4  c00004.png      7\n",
            "=============================\n",
            "         filename  digit\n",
            "0      d00000.png      1\n",
            "1      d00001.png      1\n",
            "2      d00002.png      5\n",
            "3      d00003.png      7\n",
            "4      d00004.png      0\n",
            "...           ...    ...\n",
            "10903  d10903.png      8\n",
            "10904  d10904.png      6\n",
            "10905  d10905.png      1\n",
            "10906  d10906.png      6\n",
            "10907  d10907.png      1\n",
            "\n",
            "[10908 rows x 2 columns]\n",
            "     filename  digit\n",
            "0  d00000.png      1\n",
            "1  d00001.png      1\n",
            "2  d00002.png      5\n",
            "3  d00003.png      7\n",
            "4  d00004.png      0\n",
            "=============================\n",
            "         filename  digit\n",
            "0      e00000.png      9\n",
            "1      e00001.png      9\n",
            "2      e00002.png      0\n",
            "3      e00003.png      4\n",
            "4      e00004.png      5\n",
            "...           ...    ...\n",
            "16773  e16773.png      2\n",
            "16774  e16774.png      6\n",
            "16775  e16775.png      5\n",
            "16776  e16776.png      4\n",
            "16777  e16777.png      4\n",
            "\n",
            "[16778 rows x 2 columns]\n",
            "     filename  digit\n",
            "0  e00000.png      9\n",
            "1  e00001.png      9\n",
            "2  e00002.png      0\n",
            "3  e00003.png      4\n",
            "4  e00004.png      5\n",
            "=============================\n"
          ],
          "name": "stdout"
        }
      ]
    },
    {
      "cell_type": "markdown",
      "metadata": {
        "id": "2hd2H87JJxgy"
      },
      "source": [
        "All the csv files are now merged together in order to prepare a single csv file."
      ]
    },
    {
      "cell_type": "code",
      "metadata": {
        "id": "3a6PLEUmWf99",
        "colab": {
          "base_uri": "https://localhost:8080/"
        },
        "outputId": "bd397a8e-2885-43a0-a917-cb49cd3c9c86"
      },
      "source": [
        "total_csv = [a_csv,b_csv,c_csv,d_csv,e_csv]\r\n",
        "merged_csv = pd.concat(total_csv)\r\n",
        "print(len(merged_csv))"
      ],
      "execution_count": 15,
      "outputs": [
        {
          "output_type": "stream",
          "text": [
            "72045\n"
          ],
          "name": "stdout"
        }
      ]
    },
    {
      "cell_type": "markdown",
      "metadata": {
        "id": "dB9I1y4ZZxOs"
      },
      "source": [
        "### Preparing the Training Dataset"
      ]
    },
    {
      "cell_type": "markdown",
      "metadata": {
        "id": "KBavef3v8IRX"
      },
      "source": [
        "A dataset class is made in order to create the training dataset which contains both the images and the label of the imags collected from the csv files."
      ]
    },
    {
      "cell_type": "code",
      "metadata": {
        "id": "db7q-oRjYYUz"
      },
      "source": [
        "class Dataset(Dataset):\r\n",
        "    def __init__(self, df, root, transform=None):\r\n",
        "        self.data = df\r\n",
        "        self.root = root\r\n",
        "        self.transform = transform\r\n",
        "        \r\n",
        "    def __len__(self):\r\n",
        "        return len(self.data)\r\n",
        "    \r\n",
        "    def __getitem__(self, index):\r\n",
        "        item = self.data.iloc[index]\r\n",
        "        \r\n",
        "        path = self.root + \"/\" + item[0]\r\n",
        "        image = Image.open(path).convert('L')\r\n",
        "        label = item[1]\r\n",
        "        \r\n",
        "        if self.transform is not None:\r\n",
        "            image = self.transform(image)\r\n",
        "            \r\n",
        "        return image, label"
      ],
      "execution_count": 16,
      "outputs": []
    },
    {
      "cell_type": "markdown",
      "metadata": {
        "id": "kxCJPF-vYg9I"
      },
      "source": [
        "Next, we want to normalize our data. Normalizing our data allows a models to train faster. It also helps to avoid local minima, i.e. train more reliably and distributes the data for training easily.\r\n",
        "\r\n",
        "\r\n",
        "\r\n",
        "Normalize does the following for each channel:\r\n",
        "\r\n",
        "$ {image}= \\frac{image- mean}{std}$\r\n",
        "The parameters `mean` and `std`(standard deviation/variance) are passed as 0.5, 0.5 in this case. This will normalize the image pixels in the range [-1,1]. For example, the minimum value 0 will be converted to $ \\frac{(0-0.5)}{0.5}= {-1} $, the maximum value of 1 will be converted to $\\frac{(1-0.5)}{0.5}= {1} $.\r\n",
        "\r\n"
      ]
    },
    {
      "cell_type": "markdown",
      "metadata": {
        "id": "U50VOMAW4O8d"
      },
      "source": [
        "From `torchvision.transform` we use `transforms.Compose` to built a list of transformations that will be applied to the image. We will manipulate and process the given training data.\n",
        "\n",
        "The transforms we use are:\n",
        "- `Resize()` - Resize the input image to the given size into the shape 28 $ \\times $ 28\n",
        "- `ToTensor()` - this converts the image from a PIL image into a PyTorch tensor.\n",
        "- `Normalize` - this subtracts the mean and divides by the standard deviations given. \n",
        " `Normalize` should only be applied to the images after they have been converted into a tensor. The Torchvision's documentation makes it much easier to understand why [transforms should be applied to PIL images](https://pytorch.org/docs/stable/torchvision/transforms.html#transforms-on-pil-image) and [transforms why should be applied on tensors](https://pytorch.org/docs/stable/torchvision/transforms.html#transforms-on-torch-tensor).\n",
        "\n",
        "Two list of transforms are made: \n",
        "\n",
        "*   **`train_transform`**\n",
        "*   **`test_transform`** \n",
        "\n"
      ]
    },
    {
      "cell_type": "code",
      "metadata": {
        "id": "10rDSF-BaPNO",
        "colab": {
          "base_uri": "https://localhost:8080/"
        },
        "outputId": "9feb02ba-f190-475b-eff1-d38c69b3cc98"
      },
      "source": [
        "mean = [0.5,]\r\n",
        "std = [0.5, ]\r\n",
        "TRAIN_PATH = 'trainImage'\r\n",
        "train_transform = transforms.Compose([\r\n",
        "    transforms.Resize((28,28)),\r\n",
        "    transforms.ToTensor(),\r\n",
        "    transforms.Normalize(mean,std) \r\n",
        "])\r\n",
        "\r\n",
        "test_transform = transforms.Compose([\r\n",
        "        transforms.Resize((28,28)),\r\n",
        "        transforms.ToTensor(),\r\n",
        "        transforms.Normalize(mean,std)\r\n",
        "])\r\n",
        "\r\n",
        "train_dataset  = Dataset(merged_csv, TRAIN_PATH, train_transform)\r\n",
        "test_dataset = Dataset(merged_csv, TRAIN_PATH, test_transform)\r\n",
        "\r\n",
        "print(\"Trainig Samples merged together : \",len(train_dataset))"
      ],
      "execution_count": 17,
      "outputs": [
        {
          "output_type": "stream",
          "text": [
            "Trainig Samples merged together :  72045\n"
          ],
          "name": "stdout"
        }
      ]
    },
    {
      "cell_type": "code",
      "metadata": {
        "id": "7OQU5UXZfZn3",
        "colab": {
          "base_uri": "https://localhost:8080/"
        },
        "outputId": "5ac4b781-491d-4c50-9797-cc76960925e7"
      },
      "source": [
        " print(type(train_dataset))\r\n",
        "print(\"Trainig Samples: \",train_dataset[0])"
      ],
      "execution_count": null,
      "outputs": [
        {
          "output_type": "stream",
          "text": [
            "__main__.Dataset\n",
            "Trainig Samples:  (tensor([[[ 0.6392,  0.6392,  0.6392,  0.6392,  0.6471,  0.6392,  0.6392,\n",
            "           0.6471,  0.6392,  0.6392,  0.6471,  0.6392,  0.6314,  0.6314,\n",
            "           0.6392,  0.6314,  0.6235,  0.6314,  0.6392,  0.6314,  0.6314,\n",
            "           0.6314,  0.6392,  0.6392,  0.6471,  0.6471,  0.6471,  0.6471],\n",
            "         [ 0.6471,  0.6471,  0.6471,  0.6471,  0.6471,  0.6471,  0.6471,\n",
            "           0.6471,  0.6471,  0.6471,  0.6392,  0.6392,  0.6392,  0.6392,\n",
            "           0.6314,  0.6314,  0.6314,  0.6314,  0.6392,  0.6392,  0.6471,\n",
            "           0.6471,  0.6392,  0.6392,  0.6392,  0.6392,  0.6392,  0.6471],\n",
            "         [ 0.6471,  0.6471,  0.6471,  0.6471,  0.6471,  0.6549,  0.6549,\n",
            "           0.6471,  0.6549,  0.6471,  0.6392,  0.6471,  0.6471,  0.6392,\n",
            "           0.6392,  0.6392,  0.6314,  0.6314,  0.6392,  0.6392,  0.6392,\n",
            "           0.6392,  0.6392,  0.6392,  0.6392,  0.6314,  0.6471,  0.6471],\n",
            "         [ 0.6471,  0.6549,  0.6549,  0.6549,  0.6549,  0.6549,  0.6549,\n",
            "           0.6549,  0.6549,  0.6471,  0.6549,  0.6549,  0.6627,  0.6471,\n",
            "           0.6549,  0.6471,  0.6471,  0.6549,  0.6549,  0.6549,  0.6471,\n",
            "           0.6392,  0.6471,  0.6471,  0.6471,  0.6471,  0.6471,  0.6471],\n",
            "         [ 0.6549,  0.6549,  0.6549,  0.6549,  0.6549,  0.6549,  0.6549,\n",
            "           0.6549,  0.6549,  0.6549,  0.6549,  0.6549,  0.6549,  0.6549,\n",
            "           0.6549,  0.6549,  0.6549,  0.6471,  0.6549,  0.6549,  0.6549,\n",
            "           0.6549,  0.6549,  0.6549,  0.6471,  0.6471,  0.6392,  0.6471],\n",
            "         [ 0.6549,  0.6627,  0.6627,  0.6549,  0.6549,  0.6549,  0.6549,\n",
            "           0.4902,  0.4902,  0.6549,  0.6627,  0.6627,  0.6627,  0.6549,\n",
            "           0.6549,  0.6549,  0.6549,  0.6549,  0.6549,  0.6549,  0.6549,\n",
            "           0.6471,  0.6471,  0.6471,  0.6471,  0.6471,  0.6471,  0.6471],\n",
            "         [ 0.6627,  0.6706,  0.6627,  0.6627,  0.6627,  0.6549,  0.5529,\n",
            "           0.0902,  0.2000,  0.6314,  0.6549,  0.6627,  0.6627,  0.6627,\n",
            "           0.6549,  0.6549,  0.6549,  0.6549,  0.6627,  0.6549,  0.6549,\n",
            "           0.6471,  0.6471,  0.6471,  0.6549,  0.6549,  0.6549,  0.6471],\n",
            "         [ 0.6627,  0.6627,  0.6627,  0.6549,  0.6549,  0.6235,  0.2627,\n",
            "           0.1765,  0.0431,  0.5294,  0.6471,  0.6471,  0.6627,  0.6392,\n",
            "           0.6157,  0.6549,  0.6549,  0.6549,  0.6627,  0.6549,  0.6627,\n",
            "           0.6627,  0.6549,  0.6549,  0.6471,  0.6471,  0.6392,  0.6549],\n",
            "         [ 0.6549,  0.6549,  0.6549,  0.6471,  0.6392,  0.4824,  0.1686,\n",
            "           0.4980,  0.1451,  0.2941,  0.6078,  0.6392,  0.6392,  0.3804,\n",
            "           0.2549,  0.6235,  0.6549,  0.6549,  0.6549,  0.6549,  0.6549,\n",
            "           0.6471,  0.6549,  0.6549,  0.6549,  0.6549,  0.6471,  0.6549],\n",
            "         [ 0.6471,  0.6549,  0.6549,  0.6471,  0.6078,  0.2392,  0.3647,\n",
            "           0.6157,  0.5059,  0.1529,  0.2314,  0.4039,  0.4667,  0.1137,\n",
            "           0.1137,  0.5216,  0.5922,  0.6314,  0.6471,  0.6471,  0.6471,\n",
            "           0.6471,  0.6549,  0.6549,  0.6471,  0.6549,  0.6549,  0.6549],\n",
            "         [ 0.6392,  0.6392,  0.6392,  0.6314,  0.4902,  0.0980,  0.5137,\n",
            "           0.6235,  0.6314,  0.5765,  0.3961,  0.2235,  0.1294, -0.1373,\n",
            "          -0.0667,  0.1686,  0.4039,  0.6235,  0.6314,  0.6314,  0.6392,\n",
            "           0.6392,  0.6392,  0.6471,  0.6471,  0.6392,  0.6471,  0.6471],\n",
            "         [ 0.6471,  0.6392,  0.6392,  0.6235,  0.2941,  0.2235,  0.6078,\n",
            "           0.6314,  0.6314,  0.6235,  0.6157,  0.6000,  0.4431, -0.0980,\n",
            "           0.2392,  0.5451,  0.6000,  0.6235,  0.6314,  0.6235,  0.6392,\n",
            "           0.6392,  0.6392,  0.6392,  0.6471,  0.6392,  0.6392,  0.6471],\n",
            "         [ 0.6392,  0.6392,  0.6314,  0.6078,  0.1529,  0.2784,  0.6157,\n",
            "           0.6235,  0.6235,  0.6235,  0.6235,  0.6157,  0.3961, -0.0510,\n",
            "           0.4275,  0.5608,  0.6157,  0.6235,  0.6314,  0.6314,  0.6392,\n",
            "           0.6392,  0.6392,  0.6392,  0.6471,  0.6471,  0.6471,  0.6471],\n",
            "         [ 0.6314,  0.6392,  0.6314,  0.5843,  0.0588,  0.3333,  0.6078,\n",
            "           0.6157,  0.6157,  0.6157,  0.6157,  0.6000,  0.3569,  0.0510,\n",
            "           0.5608,  0.6157,  0.6235,  0.6235,  0.6235,  0.6235,  0.6314,\n",
            "           0.6314,  0.6392,  0.6392,  0.6392,  0.6392,  0.6392,  0.6392],\n",
            "         [ 0.6392,  0.6314,  0.6235,  0.5765,  0.0353,  0.1922,  0.6000,\n",
            "           0.6078,  0.6000,  0.6000,  0.6078,  0.6078,  0.3176,  0.0667,\n",
            "           0.5608,  0.6000,  0.5922,  0.6000,  0.6078,  0.5843,  0.5922,\n",
            "           0.6235,  0.6314,  0.6314,  0.6314,  0.6314,  0.6392,  0.6314],\n",
            "         [ 0.6392,  0.6314,  0.6314,  0.6000,  0.1922,  0.0667,  0.5294,\n",
            "           0.6000,  0.6000,  0.5922,  0.5922,  0.5843,  0.3569,  0.0353,\n",
            "           0.5216,  0.5686,  0.5373,  0.4039,  0.2235,  0.0824,  0.3569,\n",
            "           0.6157,  0.6157,  0.6235,  0.6314,  0.6392,  0.6392,  0.6392],\n",
            "         [ 0.6392,  0.6392,  0.6314,  0.6235,  0.5059,  0.0510,  0.2000,\n",
            "           0.5373,  0.5843,  0.5922,  0.5843,  0.5843,  0.4824,  0.0588,\n",
            "           0.1451,  0.1451,  0.0196, -0.0902, -0.0667,  0.1216,  0.4980,\n",
            "           0.6078,  0.6157,  0.6157,  0.6314,  0.6314,  0.6314,  0.6314],\n",
            "         [ 0.6392,  0.6314,  0.6314,  0.6235,  0.6157,  0.4824,  0.1922,\n",
            "           0.1686,  0.2549,  0.3176,  0.3333,  0.3882,  0.3882,  0.2471,\n",
            "           0.0196, -0.0196,  0.0039,  0.1373,  0.3647,  0.5529,  0.6000,\n",
            "           0.6078,  0.6235,  0.6235,  0.6314,  0.6314,  0.6314,  0.6392],\n",
            "         [ 0.6392,  0.6314,  0.6314,  0.6235,  0.6235,  0.6078,  0.5843,\n",
            "           0.5137,  0.4510,  0.3647,  0.3098,  0.2392,  0.3020,  0.2941,\n",
            "           0.3412,  0.4353,  0.5059,  0.5608,  0.5843,  0.6000,  0.6078,\n",
            "           0.6157,  0.6235,  0.6314,  0.6314,  0.6314,  0.6314,  0.6392],\n",
            "         [ 0.6392,  0.6392,  0.6314,  0.6314,  0.6235,  0.6235,  0.6157,\n",
            "           0.6157,  0.6000,  0.6000,  0.5922,  0.5843,  0.5843,  0.5922,\n",
            "           0.5922,  0.5922,  0.5922,  0.6078,  0.6157,  0.6235,  0.6157,\n",
            "           0.6235,  0.6314,  0.6314,  0.6314,  0.6314,  0.6314,  0.6392],\n",
            "         [ 0.6392,  0.6314,  0.6314,  0.6314,  0.6314,  0.6235,  0.6235,\n",
            "           0.6157,  0.6078,  0.6157,  0.6157,  0.6157,  0.6157,  0.6078,\n",
            "           0.6078,  0.6078,  0.6078,  0.6157,  0.6157,  0.6235,  0.6235,\n",
            "           0.6235,  0.6314,  0.6314,  0.6314,  0.6392,  0.6392,  0.6392],\n",
            "         [ 0.6392,  0.6392,  0.6392,  0.6392,  0.6392,  0.6235,  0.6235,\n",
            "           0.6314,  0.6235,  0.6235,  0.6235,  0.6157,  0.6078,  0.6157,\n",
            "           0.6235,  0.6235,  0.6235,  0.6235,  0.6235,  0.6235,  0.6314,\n",
            "           0.6314,  0.6392,  0.6392,  0.6392,  0.6392,  0.6471,  0.6471],\n",
            "         [ 0.6471,  0.6392,  0.6392,  0.6392,  0.6392,  0.6392,  0.6235,\n",
            "           0.6314,  0.6314,  0.6314,  0.6314,  0.6235,  0.6235,  0.6235,\n",
            "           0.6235,  0.6235,  0.6235,  0.6235,  0.6314,  0.6314,  0.6314,\n",
            "           0.6471,  0.6471,  0.6392,  0.6392,  0.6471,  0.6471,  0.6392],\n",
            "         [ 0.6471,  0.6392,  0.6392,  0.6471,  0.6392,  0.6392,  0.6392,\n",
            "           0.6314,  0.6314,  0.6314,  0.6314,  0.6235,  0.6235,  0.6314,\n",
            "           0.6314,  0.6314,  0.6235,  0.6314,  0.6314,  0.6314,  0.6314,\n",
            "           0.6314,  0.6392,  0.6392,  0.6392,  0.6471,  0.6471,  0.6471],\n",
            "         [ 0.6471,  0.6392,  0.6471,  0.6392,  0.6392,  0.6392,  0.6392,\n",
            "           0.6392,  0.6392,  0.6314,  0.6314,  0.6314,  0.6314,  0.6314,\n",
            "           0.6314,  0.6314,  0.6235,  0.6314,  0.6314,  0.6314,  0.6314,\n",
            "           0.6314,  0.6392,  0.6392,  0.6392,  0.6471,  0.6392,  0.6471],\n",
            "         [ 0.6471,  0.6471,  0.6392,  0.6471,  0.6471,  0.6392,  0.6392,\n",
            "           0.6392,  0.6392,  0.6314,  0.6314,  0.6314,  0.6235,  0.6314,\n",
            "           0.6314,  0.6314,  0.6392,  0.6392,  0.6314,  0.6392,  0.6314,\n",
            "           0.6314,  0.6235,  0.6314,  0.6314,  0.6471,  0.6471,  0.6471],\n",
            "         [ 0.6392,  0.6471,  0.6471,  0.6471,  0.6392,  0.6392,  0.6392,\n",
            "           0.6392,  0.6392,  0.6314,  0.6392,  0.6392,  0.6314,  0.6314,\n",
            "           0.6314,  0.6314,  0.6392,  0.6392,  0.6392,  0.6392,  0.6314,\n",
            "           0.6314,  0.6314,  0.6392,  0.6471,  0.6549,  0.6471,  0.6471],\n",
            "         [ 0.6471,  0.6471,  0.6471,  0.6392,  0.6392,  0.6392,  0.6392,\n",
            "           0.6392,  0.6392,  0.6392,  0.6392,  0.6314,  0.6314,  0.6392,\n",
            "           0.6392,  0.6314,  0.6392,  0.6392,  0.6392,  0.6392,  0.6392,\n",
            "           0.6392,  0.6471,  0.6471,  0.6392,  0.6471,  0.6471,  0.6471]]]), 5)\n"
          ],
          "name": "stdout"
        }
      ]
    },
    {
      "cell_type": "markdown",
      "metadata": {
        "id": "_ziG04hW5FRY"
      },
      "source": [
        "Now we can see the size and shape of the training dataset. \r\n",
        "\r\n",
        "Here, 1 shows the dimension for the color chanel and the images are reshaped to 28 $ \\times $ 28 pixel size( 28 pixels height and width image converted into a 784 element vector)"
      ]
    },
    {
      "cell_type": "code",
      "metadata": {
        "id": "BSt36ycmf4re",
        "colab": {
          "base_uri": "https://localhost:8080/"
        },
        "outputId": "629d6c28-22ee-499c-f78d-85c130ce1970"
      },
      "source": [
        "# One Image Size\r\n",
        "print(train_dataset[0][0].size())\r\n",
        "print(train_dataset[0][0].numpy().shape)\r\n",
        "# First Image Label\r\n",
        "print(train_dataset[0][1])"
      ],
      "execution_count": null,
      "outputs": [
        {
          "output_type": "stream",
          "text": [
            "torch.Size([1, 28, 28])\n",
            "(1, 28, 28)\n",
            "5\n"
          ],
          "name": "stdout"
        }
      ]
    },
    {
      "cell_type": "code",
      "metadata": {
        "id": "VDK_scpZkJhu",
        "colab": {
          "base_uri": "https://localhost:8080/",
          "height": 321
        },
        "outputId": "13121db9-cc40-4b4d-8198-f740a9cf0e94"
      },
      "source": [
        "## Displaying a NumtaDB Image\r\n",
        "# Label\r\n",
        "print(\"Label:\")\r\n",
        "print(train_dataset[7][1])\r\n",
        "\r\n",
        "show_img = train_dataset[7][0].numpy().reshape(28, 28)\r\n",
        "plt.imshow(show_img, cmap='gray')"
      ],
      "execution_count": null,
      "outputs": [
        {
          "output_type": "stream",
          "text": [
            "Label:\n",
            "0\n"
          ],
          "name": "stdout"
        },
        {
          "output_type": "execute_result",
          "data": {
            "text/plain": [
              "<matplotlib.image.AxesImage at 0x7f039caf52e8>"
            ]
          },
          "metadata": {
            "tags": []
          },
          "execution_count": 22
        },
        {
          "output_type": "display_data",
          "data": {
            "image/png": "[encoded data removed]",
            "text/plain": [
              "<Figure size 432x288 with 1 Axes>"
            ]
          },
          "metadata": {
            "tags": [],
            "needs_background": "light"
          }
        }
      ]
    },
    {
      "cell_type": "markdown",
      "metadata": {
        "id": "pHirhC0JAkBC"
      },
      "source": [
        "Using the **matplotlib** python package 25 images of the training dataset are displayed.\r\n",
        "\r\n"
      ]
    },
    {
      "cell_type": "code",
      "metadata": {
        "id": "o4RlnGWLVwUk"
      },
      "source": [
        "def plot_images(images):\r\n",
        "\r\n",
        "    n_images = len(images)\r\n",
        "\r\n",
        "    rows = int(np.sqrt(n_images))\r\n",
        "    cols = int(np.sqrt(n_images))\r\n",
        "\r\n",
        "    fig = plt.figure()\r\n",
        "    for i in range(rows*cols):\r\n",
        "        ax = fig.add_subplot(rows, cols, i+1)\r\n",
        "        ax.imshow(images[i].view(28, 28).cpu().numpy(), cmap = 'bone')\r\n",
        "        ax.axis('off')"
      ],
      "execution_count": null,
      "outputs": []
    },
    {
      "cell_type": "code",
      "metadata": {
        "colab": {
          "base_uri": "https://localhost:8080/",
          "height": 248
        },
        "id": "AryDYGPZVk3X",
        "outputId": "02e09b5e-7799-4e17-822d-da83a868b900"
      },
      "source": [
        "N_IMAGES =25\r\n",
        "\r\n",
        "images = [image for image, label in [train_dataset[i] for i in range(N_IMAGES)]] \r\n",
        "\r\n",
        "plot_images(images)"
      ],
      "execution_count": null,
      "outputs": [
        {
          "output_type": "display_data",
          "data": {
            "image/png": "[encoded data removed]",
            "text/plain": [
              "<Figure size 432x288 with 25 Axes>"
            ]
          },
          "metadata": {
            "tags": [],
            "needs_background": "light"
          }
        }
      ]
    },
    {
      "cell_type": "markdown",
      "metadata": {
        "id": "ydCyCxnYA3FA"
      },
      "source": [
        "### **Settings 1**\r\n",
        "- **totaldata:** 72,045\r\n",
        "- **minibatch:** 32\r\n",
        "- **iterations:**11,500\r\n",
        "- **learning_rate:** 0.005\r\n",
        "-  **epochs** = $iterations \\div \\frac{totaldata}{minibatch} = 11500 \\div \\frac{72045}{32} = 5.21 \\approx 5$\r\n",
        "- **Input dimension:** $28 \\times 28 = 784$\r\n",
        "- **Output dimension: 10**\r\n",
        "  - 0, 1, 2, 3, 4, 5, 6, 7, 8, 9"
      ]
    },
    {
      "cell_type": "code",
      "metadata": {
        "id": "eeW6HAQgmjx0"
      },
      "source": [
        "# Hyperparameters\r\n",
        "\r\n",
        "batch_size = 32\r\n",
        "num_iters =11500\r\n",
        "input_dim = 28*28 # num_features = 784\r\n",
        "output_dim = 10\r\n",
        "\r\n",
        "learning_rate = 0.005\r\n",
        "# Device\r\n",
        "device = torch.device(\"cuda:0\" if torch.cuda.is_available() else \"cpu\")"
      ],
      "execution_count": null,
      "outputs": []
    },
    {
      "cell_type": "markdown",
      "metadata": {
        "id": "s7pnrOtOBZQi"
      },
      "source": [
        "Now for testing purpose the training data is split into 90:10 ratio. The testing set which is of 10% should be created from the training set. Although there is a test set present in the NumtaDB dataset, the test set maybe not be same for the specific training set. That is why the validation set or training set is made form the training set.\r\n",
        "\r\n",
        "It is always better to **shuffle the indices of the training set** .We only need to shuffle our training set as it will be used for stochastic gradient descent and we want the each batch to be different between epochs. \r\n",
        "\r\n",
        "`DataLoader`  is defined for each of the training/test sets. We can iterate over these and they will yield batches of images and labels which we can use to train our model."
      ]
    },
    {
      "cell_type": "code",
      "metadata": {
        "colab": {
          "base_uri": "https://localhost:8080/"
        },
        "id": "ZXIyLGMCmjx2",
        "outputId": "12bd7803-c181-4334-ff60-73395c9912d9"
      },
      "source": [
        "\r\n",
        "#batch size\r\n",
        "batch_size = 32\r\n",
        "\r\n",
        "# split data 10% for testing\r\n",
        "test_size = 0.1\r\n",
        "\r\n",
        "# obtain training indices that will be used for validation\r\n",
        "num_train = len(train_dataset)\r\n",
        "\r\n",
        "# mix data\r\n",
        "# index of num of train\r\n",
        "indices = list(range(num_train))\r\n",
        "# random the index\r\n",
        "np.random.shuffle(indices)\r\n",
        "split = int(np.floor(test_size * num_train))\r\n",
        "# divied into two part\r\n",
        "train_idx, test_idx = indices[split:], indices[:split]\r\n",
        "\r\n",
        "# define the sampler\r\n",
        "train_sampler = SubsetRandomSampler(train_idx)\r\n",
        "test_sampler = SubsetRandomSampler(test_idx)\r\n",
        "\r\n",
        "# prepare loaders\r\n",
        "train_loader = torch.utils.data.DataLoader(\r\n",
        "    train_dataset, batch_size=batch_size,\r\n",
        "    sampler=train_sampler)\r\n",
        "\r\n",
        "test_loader = torch.utils.data.DataLoader(\r\n",
        "    test_dataset, batch_size=batch_size,\r\n",
        "    sampler=test_sampler)\r\n",
        "\r\n",
        "print(\"Train dataloader:{}\".format(len(train_loader)))\r\n",
        "print(\"Test dataloader:{}\".format(len(test_loader)))"
      ],
      "execution_count": null,
      "outputs": [
        {
          "output_type": "stream",
          "text": [
            "Train dataloader:2027\n",
            "Test dataloader:226\n"
          ],
          "name": "stdout"
        }
      ]
    },
    {
      "cell_type": "markdown",
      "metadata": {
        "id": "TEUyFxvqBg3B"
      },
      "source": [
        "#### Step #1 : Design model using class"
      ]
    },
    {
      "cell_type": "code",
      "metadata": {
        "id": "Sb2LqiShmjx4"
      },
      "source": [
        "class LogisticRegressionModel(nn.Module):\r\n",
        "    def __init__(self, input_size, num_classes):\r\n",
        "        super().__init__()\r\n",
        "        self.linear = nn.Linear(input_size, num_classes)\r\n",
        "\r\n",
        "    def forward(self, x):\r\n",
        "        logits  = self.linear(x)\r\n",
        "        probas = F.softmax(logits, dim=1)\r\n",
        "        return logits, probas"
      ],
      "execution_count": null,
      "outputs": []
    },
    {
      "cell_type": "code",
      "metadata": {
        "colab": {
          "base_uri": "https://localhost:8080/"
        },
        "id": "uaq-Yksomjx5",
        "outputId": "f0d2ff2f-66ea-4d47-c6a4-3b390e9d5e6f"
      },
      "source": [
        "'''\r\n",
        "INSTANTIATE MODEL CLASS\r\n",
        "'''\r\n",
        "model = LogisticRegressionModel(input_size=input_dim,\r\n",
        "                                num_classes=output_dim)\r\n",
        "# To enable GPU\r\n",
        "model.to(device)"
      ],
      "execution_count": null,
      "outputs": [
        {
          "output_type": "execute_result",
          "data": {
            "text/plain": [
              "LogisticRegressionModel(\n",
              "  (linear): Linear(in_features=784, out_features=10, bias=True)\n",
              ")"
            ]
          },
          "metadata": {
            "tags": []
          },
          "execution_count": 102
        }
      ]
    },
    {
      "cell_type": "markdown",
      "metadata": {
        "id": "SMZwaw1KBg3E"
      },
      "source": [
        "####Step #2 : Construct loss and optimizer (select from PyTorch API)\r\n",
        "\r\n",
        "We need Cross Entropy Loss to calculate our loss before we backpropagate and update our parameters.\r\n",
        "\r\n",
        "`criterion = nn.CrossEntropyLoss() ` \r\n",
        "\r\n",
        "It does 2 things at the same time.\r\n",
        "\r\n",
        "1. Computes softmax **([Logistic or Sigmoid]/softmax function)**\r\n",
        "2. Computes Cross Entropy Loss\r\n",
        "\r\n",
        "Softmax function is used as the activation function in this case as it is a multiclass problem. When we’re building a classifier for problems with only one right answer, we apply a softmax to the raw outputs. Applying a softmax takes into account all of the elements of the raw output, in the denominator, which means that the different probabilities produced by the softmax function are interrelated whereas, in sigmoid function all the probabilities are independant of each other. The probabilities produced by a softmax will always sum to one as they are interrelated. The following image shows the equation for softmax function:\r\n",
        "<div align=\"center\">\r\n",
        "<img src=\"https://drive.google.com/uc?export=view&id=1SHujI3ZkJm_QmGQal-Y2Lk49J_ScquPz\" width=\"400\">\r\n",
        "</div>\r\n",
        "\r\n"
      ]
    },
    {
      "cell_type": "markdown",
      "metadata": {
        "id": "nLL872VzBuCn"
      },
      "source": [
        "Next, our optimizer needs to be defined which will update the parameters of our model with respect to the loss calculated on the data. Here we used Stochastic gradient descent(SGD) as our optimizer that makes forward and backward propagation for every record.\r\n",
        "\r\n",
        "SGD algorithm is used with its default parameters and learning rate passed in it. Although there are different optimizers SGD can work well for logistic regression. There are more optimizers that can be experimented in this [article](https://ruder.io/optimizing-gradient-descent/).\r\n",
        "\r\n"
      ]
    },
    {
      "cell_type": "code",
      "metadata": {
        "id": "-g0Ol-EImjx6"
      },
      "source": [
        "# INSTANTIATE OPTIMIZER CLASS\r\n",
        "optimizer = torch.optim.SGD(model.parameters(), lr=learning_rate)"
      ],
      "execution_count": null,
      "outputs": []
    },
    {
      "cell_type": "markdown",
      "metadata": {
        "id": "gsAM7AeyBg3M"
      },
      "source": [
        "####Step #3 : Training: forward, loss, backward, step"
      ]
    },
    {
      "cell_type": "code",
      "metadata": {
        "colab": {
          "base_uri": "https://localhost:8080/"
        },
        "id": "FSdAMsCFmjx8",
        "outputId": "fbe4c7f3-9b27-4484-93cc-b179e51945c1"
      },
      "source": [
        "'''\r\n",
        "TRAIN THE MODEL\r\n",
        "'''\r\n",
        "num_epochs = num_iters / (len(train_dataset) / batch_size)\r\n",
        "num_epochs = int(num_epochs)\r\n",
        "print(num_epochs)\r\n",
        "iteration_loss = []\r\n",
        "iter = 0\r\n",
        "for epoch in range(num_epochs):\r\n",
        "    for i, (images, labels) in enumerate(train_loader):\r\n",
        "\r\n",
        "        images = images.view(-1, 28*28).to(device)\r\n",
        "        labels = labels.to(device)\r\n",
        "\r\n",
        "        # Clear gradients w.r.t. parameters\r\n",
        "        optimizer.zero_grad()\r\n",
        "\r\n",
        "        # Forward pass to get output/logits\r\n",
        "        logits, probas = model(images) \r\n",
        "\r\n",
        "        # Calculate Loss: PyTorch implementation of CrossEntropyLoss works with logits, not probabilities\r\n",
        "        loss = F.cross_entropy(logits, labels)\r\n",
        "\r\n",
        "        # Getting gradients w.r.t. parameters\r\n",
        "        loss.backward()\r\n",
        "\r\n",
        "        # Updating parameters\r\n",
        "        optimizer.step()\r\n",
        "\r\n",
        "        iter += 1\r\n",
        "\r\n",
        "        if iter % 500 == 0:\r\n",
        "            # Calculate Accuracy         \r\n",
        "            correct = 0\r\n",
        "            total = 0\r\n",
        "            # Iterate through test dataset\r\n",
        "            for images, labels in test_loader:\r\n",
        "               \r\n",
        "                images = images.view(-1, 28*28).to(device)\r\n",
        "\r\n",
        "                # Forward pass only to get logits/output\r\n",
        "                logits, probas = model(images)\r\n",
        "\r\n",
        "                # Get predictions from the maximum value\r\n",
        "                _, predicted = torch.max(probas, 1)\r\n",
        "\r\n",
        "                # Total number of labels\r\n",
        "                total += labels.size(0)\r\n",
        "\r\n",
        "\r\n",
        "                # Total correct predictions\r\n",
        "                if torch.cuda.is_available():\r\n",
        "                    correct += (predicted.cpu() == labels.cpu()).sum() \r\n",
        "                else:\r\n",
        "                    correct += (predicted == labels).sum()\r\n",
        "\r\n",
        "            accuracy = 100 * correct.item() / total\r\n",
        "\r\n",
        "            # Print Loss\r\n",
        "            iteration_loss.append(loss.item())\r\n",
        "            print('Iteration: {}. Loss: {}. Accuracy: {}'.format(iter, loss.item(), accuracy))"
      ],
      "execution_count": null,
      "outputs": [
        {
          "output_type": "stream",
          "text": [
            "5\n",
            "Iteration: 500. Loss: 2.0256643295288086. Accuracy: 27.359800111049417\n",
            "Iteration: 1000. Loss: 1.8136411905288696. Accuracy: 25.249861188228763\n",
            "Iteration: 1500. Loss: 2.0873706340789795. Accuracy: 26.52692948362021\n",
            "Iteration: 2000. Loss: 1.8248628377914429. Accuracy: 26.09661299278179\n",
            "Iteration: 2500. Loss: 2.034414291381836. Accuracy: 29.664075513603553\n",
            "Iteration: 3000. Loss: 1.884207844734192. Accuracy: 33.02332037756802\n",
            "Iteration: 3500. Loss: 1.4988830089569092. Accuracy: 29.997223764575235\n",
            "Iteration: 4000. Loss: 1.8825104236602783. Accuracy: 32.16268739589117\n",
            "Iteration: 4500. Loss: 1.7080291509628296. Accuracy: 31.066074403109383\n",
            "Iteration: 5000. Loss: 1.8613030910491943. Accuracy: 32.52359800111049\n",
            "Iteration: 5500. Loss: 1.8651059865951538. Accuracy: 35.53581343697945\n",
            "Iteration: 6000. Loss: 2.155517816543579. Accuracy: 36.535258189894506\n",
            "Iteration: 6500. Loss: 1.8539800643920898. Accuracy: 33.66185452526374\n",
            "Iteration: 7000. Loss: 1.7294033765792847. Accuracy: 30.219322598556356\n",
            "Iteration: 7500. Loss: 1.8238426446914673. Accuracy: 36.99333703498056\n",
            "Iteration: 8000. Loss: 1.730789303779602. Accuracy: 34.106052193225985\n",
            "Iteration: 8500. Loss: 1.791598916053772. Accuracy: 40.63020544142143\n",
            "Iteration: 9000. Loss: 2.0472729206085205. Accuracy: 37.10438645197113\n",
            "Iteration: 9500. Loss: 1.7552303075790405. Accuracy: 34.50860632981677\n",
            "Iteration: 10000. Loss: 1.7928993701934814. Accuracy: 34.86951693503609\n"
          ],
          "name": "stdout"
        }
      ]
    },
    {
      "cell_type": "markdown",
      "metadata": {
        "id": "eJwwDfrZAfSg"
      },
      "source": [
        "Optimization process that requires a loss function to calculate the model error. Here, cross entropy is used as loss function. The following graph shows the variation of the loss with each 500th iteration."
      ]
    },
    {
      "cell_type": "code",
      "metadata": {
        "colab": {
          "base_uri": "https://localhost:8080/"
        },
        "id": "jwQz9p3fmjx-",
        "outputId": "152eb095-052d-4d7a-b7f1-ace8a2ec1af1"
      },
      "source": [
        "import matplotlib\r\n",
        "import matplotlib.pyplot as plt\r\n",
        "\r\n",
        "print (iteration_loss)\r\n",
        "plt.plot(iteration_loss)\r\n",
        "plt.ylabel('Cross Entropy Loss')\r\n",
        "plt.xlabel('Iteration (in every 500)')\r\n",
        "plt.show()"
      ],
      "execution_count": null,
      "outputs": [
        {
          "output_type": "stream",
          "text": [
            "[2.0256643295288086, 1.8136411905288696, 2.0873706340789795, 1.8248628377914429, 2.034414291381836, 1.884207844734192, 1.4988830089569092, 1.8825104236602783, 1.7080291509628296, 1.8613030910491943, 1.8651059865951538, 2.155517816543579, 1.8539800643920898, 1.7294033765792847, 1.8238426446914673, 1.730789303779602, 1.791598916053772, 2.0472729206085205, 1.7552303075790405, 1.7928993701934814]\n"
          ],
          "name": "stdout"
        },
        {
          "output_type": "display_data",
          "data": {
            "image/png": "[encoded data removed]",
            "text/plain": [
              "<Figure size 432x288 with 1 Axes>"
            ]
          },
          "metadata": {
            "tags": [],
            "needs_background": "light"
          }
        }
      ]
    },
    {
      "cell_type": "code",
      "metadata": {
        "colab": {
          "base_uri": "https://localhost:8080/"
        },
        "id": "W7_6rnQsp7iT",
        "outputId": "27b2c339-3417-42c2-86bc-1ce45b048ab6"
      },
      "source": [
        "from google.colab import drive\r\n",
        "drive.flush_and_unmount()"
      ],
      "execution_count": null,
      "outputs": [
        {
          "output_type": "stream",
          "text": [
            "Drive not mounted, so nothing to flush and unmount.\n"
          ],
          "name": "stdout"
        }
      ]
    },
    {
      "cell_type": "code",
      "metadata": {
        "colab": {
          "base_uri": "https://localhost:8080/"
        },
        "id": "5Ehu49q9p7ib",
        "outputId": "236e1037-6416-4642-b8ab-8ad033f6c7fc"
      },
      "source": [
        "from google.colab import drive\r\n",
        "\r\n",
        "drive.mount('/content/gdrive')\r\n",
        "\r\n",
        "root_path = '/content/gdrive/MyDrive/4.2/sc/'"
      ],
      "execution_count": null,
      "outputs": [
        {
          "output_type": "stream",
          "text": [
            "Mounted at /content/gdrive\n"
          ],
          "name": "stdout"
        }
      ]
    },
    {
      "cell_type": "code",
      "metadata": {
        "id": "lAwP0UMap7id"
      },
      "source": [
        "import pickle\r\n",
        "save_model = True\r\n",
        "\r\n",
        "\r\n",
        "if save_model is True:\r\n",
        "    # Saves only parameters\r\n",
        "    # wights & biases\r\n",
        "    torch.save(model.state_dict(), root_path + 'numta_logistic40.pkl') "
      ],
      "execution_count": null,
      "outputs": []
    },
    {
      "cell_type": "code",
      "metadata": {
        "colab": {
          "base_uri": "https://localhost:8080/"
        },
        "id": "Q7qK8e_ap7id",
        "outputId": "f48ff675-823c-4085-95cd-39b61767b4e5"
      },
      "source": [
        "load_model = True\n",
        "\n",
        "if load_model is True:\n",
        "    model.load_state_dict(torch.load(root_path + 'numta_logistic40.pkl'))\n",
        "    print('Trained Model Loaded')"
      ],
      "execution_count": null,
      "outputs": [
        {
          "output_type": "stream",
          "text": [
            "Trained Model Loaded\n"
          ],
          "name": "stdout"
        }
      ]
    },
    {
      "cell_type": "code",
      "metadata": {
        "colab": {
          "base_uri": "https://localhost:8080/",
          "height": 109
        },
        "id": "I84NTSTOp7if",
        "outputId": "d2ece7a0-b9bd-41d5-f269-4fbc3da88cb0"
      },
      "source": [
        "for images, labels in test_loader:\r\n",
        "    break\r\n",
        "    \r\n",
        "fig, ax = plt.subplots(1, 5)\r\n",
        "for i in range(5):\r\n",
        "    ax[i].imshow(images[i].view(28, 28), cmap=matplotlib.cm.binary)\r\n",
        "\r\n",
        "plt.show()"
      ],
      "execution_count": null,
      "outputs": [
        {
          "output_type": "display_data",
          "data": {
            "image/png": "[encoded data removed]",
            "text/plain": [
              "<Figure size 432x288 with 5 Axes>"
            ]
          },
          "metadata": {
            "tags": [],
            "needs_background": "light"
          }
        }
      ]
    },
    {
      "cell_type": "code",
      "metadata": {
        "colab": {
          "base_uri": "https://localhost:8080/"
        },
        "id": "KRW1tfLdp7if",
        "outputId": "db426acd-ce2e-406e-af6e-458c6eed1dfd"
      },
      "source": [
        "_, predictions = model.forward(images[:5].view(-1, 28*28).to(device))\r\n",
        "predictions = torch.argmax(predictions, dim=1)\r\n",
        "print('Predicted labels', predictions.cpu().numpy())"
      ],
      "execution_count": null,
      "outputs": [
        {
          "output_type": "stream",
          "text": [
            "Predicted labels [8 7 8 7 5]\n"
          ],
          "name": "stdout"
        }
      ]
    },
    {
      "cell_type": "code",
      "metadata": {
        "id": "jroPIRyXd7oU"
      },
      "source": [
        ""
      ],
      "execution_count": null,
      "outputs": []
    },
    {
      "cell_type": "markdown",
      "metadata": {
        "id": "fXVIydDCxDPS"
      },
      "source": [
        "- **Input dimension:**\n",
        "  - Size of image: $28 \\times 28 = 784$\n",
        "\n",
        "- **Output dimension: 10**\n",
        "  - 0, 1, 2, 3, 4, 5, 6, 7, 8, 9"
      ]
    },
    {
      "cell_type": "markdown",
      "metadata": {
        "id": "6VlF_Zcq_t4t"
      },
      "source": [
        ""
      ]
    },
    {
      "cell_type": "code",
      "metadata": {
        "id": "Ae1wmUPQkz6s"
      },
      "source": [
        "# Hyperparameters\r\n",
        "\r\n",
        "batch_size = 100\r\n",
        "num_iters = 7500\r\n",
        "input_dim = 28*28 # num_features = 784\r\n",
        "output_dim = 10\r\n",
        "\r\n",
        "learning_rate = 0.001\r\n",
        "# Device\r\n",
        "device = torch.device(\"cuda:0\" if torch.cuda.is_available() else \"cpu\")"
      ],
      "execution_count": null,
      "outputs": []
    },
    {
      "cell_type": "code",
      "metadata": {
        "id": "M59FVVTZEj3t",
        "colab": {
          "base_uri": "https://localhost:8080/"
        },
        "outputId": "2a2653c2-3397-42bc-e307-5813941e3bc7"
      },
      "source": [
        "\r\n",
        "\r\n",
        "# split data 10% for testing\r\n",
        "test_size = 0.1\r\n",
        "\r\n",
        "# obtain training indices that will be used for validation\r\n",
        "num_train = len(train_dataset)\r\n",
        "\r\n",
        "# mix data\r\n",
        "# index of num of train\r\n",
        "indices = list(range(num_train))\r\n",
        "# random the index\r\n",
        "np.random.shuffle(indices)\r\n",
        "split = int(np.floor(test_size * num_train))\r\n",
        "# divied into two part\r\n",
        "train_idx, test_idx = indices[split:], indices[:split]\r\n",
        "\r\n",
        "# define the sampler\r\n",
        "train_sampler = SubsetRandomSampler(train_idx)\r\n",
        "test_sampler = SubsetRandomSampler(test_idx)\r\n",
        "\r\n",
        "# prepare loaders\r\n",
        "train_loader = torch.utils.data.DataLoader(\r\n",
        "    train_dataset, batch_size=batch_size,\r\n",
        "    sampler=train_sampler)\r\n",
        "\r\n",
        "test_loader = torch.utils.data.DataLoader(\r\n",
        "    test_dataset, batch_size=batch_size,\r\n",
        "    sampler=test_sampler)\r\n",
        "\r\n",
        "print(\"Train dataloader:{}\".format(len(train_loader)))\r\n",
        "print(\"Test dataloader:{}\".format(len(test_loader)))"
      ],
      "execution_count": null,
      "outputs": [
        {
          "output_type": "stream",
          "text": [
            "Train dataloader:649\n",
            "Test dataloader:73\n"
          ],
          "name": "stdout"
        }
      ]
    },
    {
      "cell_type": "code",
      "metadata": {
        "id": "H_CInJsHkhwi"
      },
      "source": [
        "class LogisticRegressionModel(nn.Module):\r\n",
        "    def __init__(self, input_size, num_classes):\r\n",
        "        super().__init__()\r\n",
        "        self.linear = nn.Linear(input_size, num_classes)\r\n",
        "\r\n",
        "    def forward(self, x):\r\n",
        "        logits  = self.linear(x)\r\n",
        "        probas = F.softmax(logits, dim=1)\r\n",
        "        return logits, probas"
      ],
      "execution_count": null,
      "outputs": []
    },
    {
      "cell_type": "code",
      "metadata": {
        "id": "7yO4ifyukl30",
        "colab": {
          "base_uri": "https://localhost:8080/"
        },
        "outputId": "50bed8e4-a2f2-4bcb-d8d4-f9baebb42c4a"
      },
      "source": [
        "'''\r\n",
        "INSTANTIATE MODEL CLASS\r\n",
        "'''\r\n",
        "model = LogisticRegressionModel(input_size=input_dim,\r\n",
        "                                num_classes=output_dim)\r\n",
        "# To enable GPU\r\n",
        "model.to(device)"
      ],
      "execution_count": null,
      "outputs": [
        {
          "output_type": "execute_result",
          "data": {
            "text/plain": [
              "LogisticRegressionModel(\n",
              "  (linear): Linear(in_features=784, out_features=10, bias=True)\n",
              ")"
            ]
          },
          "metadata": {
            "tags": []
          },
          "execution_count": 142
        }
      ]
    },
    {
      "cell_type": "code",
      "metadata": {
        "id": "Tr1wGSnwlSG8"
      },
      "source": [
        "# INSTANTIATE OPTIMIZER CLASS\r\n",
        "optimizer = torch.optim.SGD(model.parameters(), lr=learning_rate)"
      ],
      "execution_count": null,
      "outputs": []
    },
    {
      "cell_type": "code",
      "metadata": {
        "id": "ZySQiDaCVgyI",
        "colab": {
          "base_uri": "https://localhost:8080/"
        },
        "outputId": "6feed54f-1de2-46c5-b88f-9b197c635cf1"
      },
      "source": [
        "'''\r\n",
        "TRAIN THE MODEL\r\n",
        "'''\r\n",
        "num_epochs = num_iters / (len(train_dataset) / batch_size)\r\n",
        "num_epochs = int(num_epochs)\r\n",
        "print(num_epochs)\r\n",
        "iteration_loss = []\r\n",
        "iter = 0\r\n",
        "for epoch in range(num_epochs):\r\n",
        "    for i, (images, labels) in enumerate(train_loader):\r\n",
        "\r\n",
        "        images = images.view(-1, 28*28).to(device)\r\n",
        "        labels = labels.to(device)\r\n",
        "\r\n",
        "        # Clear gradients w.r.t. parameters\r\n",
        "        optimizer.zero_grad()\r\n",
        "\r\n",
        "        # Forward pass to get output/logits\r\n",
        "        logits, probas = model(images) \r\n",
        "\r\n",
        "        # Calculate Loss: PyTorch implementation of CrossEntropyLoss works with logits, not probabilities\r\n",
        "        loss = F.cross_entropy(logits, labels)\r\n",
        "\r\n",
        "        # Getting gradients w.r.t. parameters\r\n",
        "        loss.backward()\r\n",
        "\r\n",
        "        # Updating parameters\r\n",
        "        optimizer.step()\r\n",
        "\r\n",
        "        iter += 1\r\n",
        "\r\n",
        "        if iter % 500 == 0:\r\n",
        "            # Calculate Accuracy         \r\n",
        "            correct = 0\r\n",
        "            total = 0\r\n",
        "            # Iterate through test dataset\r\n",
        "            for images, labels in test_loader:\r\n",
        "               \r\n",
        "                images = images.view(-1, 28*28).to(device)\r\n",
        "\r\n",
        "                # Forward pass only to get logits/output\r\n",
        "                logits, probas = model(images)\r\n",
        "\r\n",
        "                # Get predictions from the maximum value\r\n",
        "                _, predicted = torch.max(probas, 1)\r\n",
        "\r\n",
        "                # Total number of labels\r\n",
        "                total += labels.size(0)\r\n",
        "\r\n",
        "\r\n",
        "                # Total correct predictions\r\n",
        "                if torch.cuda.is_available():\r\n",
        "                    correct += (predicted.cpu() == labels.cpu()).sum() \r\n",
        "                else:\r\n",
        "                    correct += (predicted == labels).sum()\r\n",
        "\r\n",
        "            accuracy = 100 * correct.item() / total\r\n",
        "\r\n",
        "            # Print Loss\r\n",
        "            iteration_loss.append(loss.item())\r\n",
        "            print('Iteration: {}. Loss: {}. Accuracy: {}'.format(iter, loss.item(), accuracy))"
      ],
      "execution_count": null,
      "outputs": [
        {
          "output_type": "stream",
          "text": [
            "10\n",
            "Iteration: 500. Loss: 2.180241346359253. Accuracy: 17.545807884508605\n",
            "Iteration: 1000. Loss: 2.1594414710998535. Accuracy: 22.903942254303164\n",
            "Iteration: 1500. Loss: 2.046835422515869. Accuracy: 24.98611882287618\n",
            "Iteration: 2000. Loss: 2.143098831176758. Accuracy: 25.541365907828983\n",
            "Iteration: 2500. Loss: 2.061190128326416. Accuracy: 28.317601332593004\n",
            "Iteration: 3000. Loss: 1.9808404445648193. Accuracy: 27.165463631315937\n",
            "Iteration: 3500. Loss: 1.9384853839874268. Accuracy: 28.442531926707385\n",
            "Iteration: 4000. Loss: 1.9416344165802002. Accuracy: 28.525818989450304\n",
            "Iteration: 4500. Loss: 1.92525053024292. Accuracy: 29.886174347584674\n",
            "Iteration: 5000. Loss: 2.013770818710327. Accuracy: 28.90061077179345\n",
            "Iteration: 5500. Loss: 1.8732954263687134. Accuracy: 30.649639089394782\n",
            "Iteration: 6000. Loss: 1.9163655042648315. Accuracy: 29.955580233203776\n"
          ],
          "name": "stdout"
        }
      ]
    },
    {
      "cell_type": "code",
      "metadata": {
        "id": "iFubD1akyN7v",
        "colab": {
          "base_uri": "https://localhost:8080/"
        },
        "outputId": "dbfeae15-7845-4816-9b7e-a5606fbeb560"
      },
      "source": [
        "print(iter) "
      ],
      "execution_count": null,
      "outputs": [
        {
          "output_type": "stream",
          "text": [
            "9126\n"
          ],
          "name": "stdout"
        }
      ]
    },
    {
      "cell_type": "code",
      "metadata": {
        "id": "VVZ2yHgByKOQ"
      },
      "source": [
        ""
      ],
      "execution_count": null,
      "outputs": []
    },
    {
      "cell_type": "code",
      "metadata": {
        "colab": {
          "base_uri": "https://localhost:8080/",
          "height": 318
        },
        "id": "P_tzEVw8eCFt",
        "outputId": "784d4ce3-bda6-4ccd-b225-005cfa8c458d"
      },
      "source": [
        "import matplotlib\r\n",
        "import matplotlib.pyplot as plt\r\n",
        "\r\n",
        "print (iteration_loss)\r\n",
        "plt.plot(iteration_loss)\r\n",
        "plt.ylabel('Cross Entropy Loss')\r\n",
        "plt.xlabel('Iteration (in every 500)')\r\n",
        "plt.show()"
      ],
      "execution_count": null,
      "outputs": [
        {
          "output_type": "stream",
          "text": [
            "[2.051849842071533, 1.7751795053482056, 1.80410897731781, 2.1537725925445557, 2.0596230030059814, 1.7474687099456787, 2.0605030059814453, 1.8692857027053833, 1.952172040939331, 2.123460054397583, 1.6264073848724365, 1.7823539972305298, 1.8158222436904907, 2.001878499984741, 1.97365140914917, 1.7517189979553223, 1.835985541343689, 1.8582990169525146, 1.758105754852295, 1.6249759197235107, 2.038346767425537, 1.7610889673233032, 1.5551254749298096, 1.9908251762390137, 1.9787728786468506, 1.9021100997924805, 1.7032825946807861, 1.6774924993515015]\n"
          ],
          "name": "stdout"
        },
        {
          "output_type": "display_data",
          "data": {
            "image/png": "[encoded data removed]",
            "text/plain": [
              "<Figure size 432x288 with 1 Axes>"
            ]
          },
          "metadata": {
            "tags": [],
            "needs_background": "light"
          }
        }
      ]
    },
    {
      "cell_type": "markdown",
      "metadata": {
        "id": "W0aOEIDtjDiT"
      },
      "source": [
        "\r\n",
        "\r\n",
        "### **Settings 2**\r\n",
        "- **totaldata:** 72,045\r\n",
        "- **minibatch:** 64\r\n",
        "- **iterations:**8,000\r\n",
        "- **learning rate**: 0.005\r\n",
        "-  **epochs** = $iterations \\div \\frac{totaldata}{minibatch} = 8000 \\div \\frac{72045}{64} = 7.11 \\approx 7$\r\n",
        "- **Input dimension:** $28 \\times 28 = 784$\r\n",
        "- **Output dimension: 10**\r\n",
        "  - 0, 1, 2, 3, 4, 5, 6, 7, 8, 9"
      ]
    },
    {
      "cell_type": "code",
      "metadata": {
        "id": "NkOoN03_jDiV"
      },
      "source": [
        "# Hyperparameters\r\n",
        "\r\n",
        "batch_size = 64\r\n",
        "num_iters =8000\r\n",
        "input_dim = 28*28 # num_features = 784\r\n",
        "output_dim = 10\r\n",
        "\r\n",
        "learning_rate = 0.005\r\n",
        "# Device\r\n",
        "device = torch.device(\"cuda:0\" if torch.cuda.is_available() else \"cpu\")"
      ],
      "execution_count": null,
      "outputs": []
    },
    {
      "cell_type": "code",
      "metadata": {
        "colab": {
          "base_uri": "https://localhost:8080/"
        },
        "id": "2IUAR0bjjDiW",
        "outputId": "f684948a-a8a4-44c6-8c59-9fba2c19460f"
      },
      "source": [
        "\r\n",
        "#batch size\r\n",
        "batch_size = 64\r\n",
        "\r\n",
        "# split data 10% for testing\r\n",
        "test_size = 0.1\r\n",
        "\r\n",
        "# obtain training indices that will be used for validation\r\n",
        "num_train = len(train_dataset)\r\n",
        "\r\n",
        "# mix data\r\n",
        "# index of num of train\r\n",
        "indices = list(range(num_train))\r\n",
        "# random the index\r\n",
        "np.random.shuffle(indices)\r\n",
        "split = int(np.floor(test_size * num_train))\r\n",
        "# divied into two part\r\n",
        "train_idx, test_idx = indices[split:], indices[:split]\r\n",
        "\r\n",
        "# define the sampler\r\n",
        "train_sampler = SubsetRandomSampler(train_idx)\r\n",
        "test_sampler = SubsetRandomSampler(test_idx)\r\n",
        "\r\n",
        "# prepare loaders\r\n",
        "train_loader = torch.utils.data.DataLoader(\r\n",
        "    train_dataset, batch_size=batch_size,\r\n",
        "    sampler=train_sampler)\r\n",
        "\r\n",
        "test_loader = torch.utils.data.DataLoader(\r\n",
        "    test_dataset, batch_size=batch_size,\r\n",
        "    sampler=test_sampler)\r\n",
        "\r\n",
        "print(\"Train dataloader:{}\".format(len(train_loader)))\r\n",
        "print(\"Test dataloader:{}\".format(len(test_loader)))"
      ],
      "execution_count": null,
      "outputs": [
        {
          "output_type": "stream",
          "text": [
            "Train dataloader:1014\n",
            "Test dataloader:113\n"
          ],
          "name": "stdout"
        }
      ]
    },
    {
      "cell_type": "code",
      "metadata": {
        "id": "VEqxzMZyjDiX"
      },
      "source": [
        "class LogisticRegressionModel(nn.Module):\r\n",
        "    def __init__(self, input_size, num_classes):\r\n",
        "        super().__init__()\r\n",
        "        self.linear = nn.Linear(input_size, num_classes)\r\n",
        "\r\n",
        "    def forward(self, x):\r\n",
        "        logits  = self.linear(x)\r\n",
        "        probas = F.softmax(logits, dim=1)\r\n",
        "        return logits, probas"
      ],
      "execution_count": null,
      "outputs": []
    },
    {
      "cell_type": "code",
      "metadata": {
        "colab": {
          "base_uri": "https://localhost:8080/"
        },
        "id": "1rnr_QZdjDiY",
        "outputId": "576c46e5-da34-4eb0-ef7e-dc3982339994"
      },
      "source": [
        "'''\r\n",
        "INSTANTIATE MODEL CLASS\r\n",
        "'''\r\n",
        "model = LogisticRegressionModel(input_size=input_dim,\r\n",
        "                                num_classes=output_dim)\r\n",
        "# To enable GPU\r\n",
        "model.to(device)"
      ],
      "execution_count": null,
      "outputs": [
        {
          "output_type": "execute_result",
          "data": {
            "text/plain": [
              "LogisticRegressionModel(\n",
              "  (linear): Linear(in_features=784, out_features=10, bias=True)\n",
              ")"
            ]
          },
          "metadata": {
            "tags": []
          },
          "execution_count": 128
        }
      ]
    },
    {
      "cell_type": "code",
      "metadata": {
        "id": "xSMhHkfEjDiZ"
      },
      "source": [
        "# INSTANTIATE OPTIMIZER CLASS\r\n",
        "optimizer = torch.optim.SGD(model.parameters(), lr=learning_rate)"
      ],
      "execution_count": null,
      "outputs": []
    },
    {
      "cell_type": "code",
      "metadata": {
        "colab": {
          "base_uri": "https://localhost:8080/"
        },
        "id": "hYlReIsSjDib",
        "outputId": "49f323ad-34c8-4fc4-9cb1-e717874fd661"
      },
      "source": [
        "'''\r\n",
        "TRAIN THE MODEL\r\n",
        "'''\r\n",
        "num_epochs = num_iters / (len(train_dataset) / batch_size)\r\n",
        "num_epochs = int(num_epochs)\r\n",
        "print(num_epochs)\r\n",
        "iteration_loss = []\r\n",
        "iter = 0\r\n",
        "for epoch in range(num_epochs):\r\n",
        "    for i, (images, labels) in enumerate(train_loader):\r\n",
        "\r\n",
        "        images = images.view(-1, 28*28).to(device)\r\n",
        "        labels = labels.to(device)\r\n",
        "\r\n",
        "        # Clear gradients w.r.t. parameters\r\n",
        "        optimizer.zero_grad()\r\n",
        "\r\n",
        "        # Forward pass to get output/logits\r\n",
        "        logits, probas = model(images) \r\n",
        "\r\n",
        "        # Calculate Loss: PyTorch implementation of CrossEntropyLoss works with logits, not probabilities\r\n",
        "        loss = F.cross_entropy(logits, labels)\r\n",
        "\r\n",
        "        # Getting gradients w.r.t. parameters\r\n",
        "        loss.backward()\r\n",
        "\r\n",
        "        # Updating parameters\r\n",
        "        optimizer.step()\r\n",
        "\r\n",
        "        iter += 1\r\n",
        "\r\n",
        "        if iter % 500 == 0:\r\n",
        "            # Calculate Accuracy         \r\n",
        "            correct = 0\r\n",
        "            total = 0\r\n",
        "            # Iterate through test dataset\r\n",
        "            for images, labels in test_loader:\r\n",
        "               \r\n",
        "                images = images.view(-1, 28*28).to(device)\r\n",
        "\r\n",
        "                # Forward pass only to get logits/output\r\n",
        "                logits, probas = model(images)\r\n",
        "\r\n",
        "                # Get predictions from the maximum value\r\n",
        "                _, predicted = torch.max(probas, 1)\r\n",
        "\r\n",
        "                # Total number of labels\r\n",
        "                total += labels.size(0)\r\n",
        "\r\n",
        "\r\n",
        "                # Total correct predictions\r\n",
        "                if torch.cuda.is_available():\r\n",
        "                    correct += (predicted.cpu() == labels.cpu()).sum() \r\n",
        "                else:\r\n",
        "                    correct += (predicted == labels).sum()\r\n",
        "\r\n",
        "            accuracy = 100 * correct.item() / total\r\n",
        "\r\n",
        "            # Print Loss\r\n",
        "            iteration_loss.append(loss.item())\r\n",
        "            print('Iteration: {}. Loss: {}. Accuracy: {}'.format(iter, loss.item(), accuracy))"
      ],
      "execution_count": null,
      "outputs": [
        {
          "output_type": "stream",
          "text": [
            "7\n",
            "Iteration: 500. Loss: 2.0847039222717285. Accuracy: 25.31926707384786\n",
            "Iteration: 1000. Loss: 1.9120080471038818. Accuracy: 28.053858967240423\n",
            "Iteration: 1500. Loss: 1.8714364767074585. Accuracy: 26.762909494725154\n",
            "Iteration: 2000. Loss: 1.774006962776184. Accuracy: 29.677956690727374\n",
            "Iteration: 2500. Loss: 1.8657307624816895. Accuracy: 30.46918378678512\n",
            "Iteration: 3000. Loss: 1.8036737442016602. Accuracy: 35.42476401998889\n",
            "Iteration: 3500. Loss: 1.8587982654571533. Accuracy: 35.81343697945586\n",
            "Iteration: 4000. Loss: 1.939481496810913. Accuracy: 32.91227096057746\n",
            "Iteration: 4500. Loss: 1.9163141250610352. Accuracy: 34.230982787340366\n",
            "Iteration: 5000. Loss: 1.9284337759017944. Accuracy: 30.55247084952804\n",
            "Iteration: 5500. Loss: 2.0095982551574707. Accuracy: 36.22987229317046\n",
            "Iteration: 6000. Loss: 1.8967044353485107. Accuracy: 34.13381454747363\n",
            "Iteration: 6500. Loss: 1.8689604997634888. Accuracy: 36.14658523042754\n",
            "Iteration: 7000. Loss: 1.6527791023254395. Accuracy: 37.40977234869517\n"
          ],
          "name": "stdout"
        }
      ]
    },
    {
      "cell_type": "code",
      "metadata": {
        "colab": {
          "base_uri": "https://localhost:8080/",
          "height": 318
        },
        "id": "fUKTQTYWjDib",
        "outputId": "5bc97d55-d4fc-4c53-9630-6c15bdd9052b"
      },
      "source": [
        "import matplotlib\r\n",
        "import matplotlib.pyplot as plt\r\n",
        "\r\n",
        "print (iteration_loss)\r\n",
        "plt.plot(iteration_loss)\r\n",
        "plt.ylabel('Cross Entropy Loss')\r\n",
        "plt.xlabel('Iteration (in every 500)')\r\n",
        "plt.show()"
      ],
      "execution_count": null,
      "outputs": [
        {
          "output_type": "stream",
          "text": [
            "[2.0256643295288086, 1.8136411905288696, 2.0873706340789795, 1.8248628377914429, 2.034414291381836, 1.884207844734192, 1.4988830089569092, 1.8825104236602783, 1.7080291509628296, 1.8613030910491943, 1.8651059865951538, 2.155517816543579, 1.8539800643920898, 1.7294033765792847, 1.8238426446914673, 1.730789303779602, 1.791598916053772, 2.0472729206085205, 1.7552303075790405, 1.7928993701934814]\n"
          ],
          "name": "stdout"
        },
        {
          "output_type": "display_data",
          "data": {
            "image/png": "[encoded data removed]",
            "text/plain": [
              "<Figure size 432x288 with 1 Axes>"
            ]
          },
          "metadata": {
            "tags": [],
            "needs_background": "light"
          }
        }
      ]
    },
    {
      "cell_type": "code",
      "metadata": {
        "id": "4x0mUiJf6DSm"
      },
      "source": [
        "import pickle\r\n",
        "save_model = True\r\n",
        "\r\n",
        "\r\n",
        "if save_model is True:\r\n",
        "    # Saves only parameters\r\n",
        "    # wights & biases\r\n",
        "    torch.save(model.state_dict(), root_path + 'numta_logistic37.pkl') "
      ],
      "execution_count": null,
      "outputs": []
    },
    {
      "cell_type": "code",
      "metadata": {
        "colab": {
          "base_uri": "https://localhost:8080/"
        },
        "id": "9aJa0npY6DSo",
        "outputId": "fe79fa81-2a9e-46f2-b955-d16d5e57d917"
      },
      "source": [
        "load_model = True\n",
        "\n",
        "if load_model is True:\n",
        "    model.load_state_dict(torch.load(root_path + 'numta_logistic37.pkl'))\n",
        "    print('Trained Model Loaded')"
      ],
      "execution_count": null,
      "outputs": [
        {
          "output_type": "stream",
          "text": [
            "Trained Model Loaded\n"
          ],
          "name": "stdout"
        }
      ]
    },
    {
      "cell_type": "code",
      "metadata": {
        "colab": {
          "base_uri": "https://localhost:8080/",
          "height": 109
        },
        "id": "B9DI7HDY6DSq",
        "outputId": "5a358114-c479-45b6-cbf2-06da6838e023"
      },
      "source": [
        "for images, labels in test_loader:\r\n",
        "    break\r\n",
        "    \r\n",
        "fig, ax = plt.subplots(1, 5)\r\n",
        "for i in range(5):\r\n",
        "    ax[i].imshow(images[i].view(28, 28), cmap=matplotlib.cm.binary)\r\n",
        "\r\n",
        "plt.show()"
      ],
      "execution_count": null,
      "outputs": [
        {
          "output_type": "display_data",
          "data": {
            "image/png": "[encoded data removed]",
            "text/plain": [
              "<Figure size 432x288 with 5 Axes>"
            ]
          },
          "metadata": {
            "tags": [],
            "needs_background": "light"
          }
        }
      ]
    },
    {
      "cell_type": "markdown",
      "metadata": {
        "id": "56UEuc68DWmG"
      },
      "source": [
        "\r\n",
        "\r\n",
        "### **Settings 3**\r\n",
        "- **totaldata:** 72,045\r\n",
        "- **minibatch:** 100\r\n",
        "- **iterations:**7,500\r\n",
        "- **learning rate**:0.001\r\n",
        "-  **epochs** = $iterations \\div \\frac{totaldata}{minibatch} = 7500 \\div \\frac{72045}{100} = 10.41 \\approx 7$\r\n",
        "- **Input dimension:** $28 \\times 28 = 784$\r\n",
        "- **Output dimension: 10**\r\n",
        "  - 0, 1, 2, 3, 4, 5, 6, 7, 8, 9\r\n"
      ]
    },
    {
      "cell_type": "code",
      "metadata": {
        "id": "u0TF_oi4DWmH"
      },
      "source": [
        "# Hyperparameters\r\n",
        "\r\n",
        "batch_size =100\r\n",
        "num_iters =7500\r\n",
        "input_dim = 28*28 # num_features = 784\r\n",
        "output_dim = 10\r\n",
        "\r\n",
        "learning_rate = 0.001"
      ],
      "execution_count": 41,
      "outputs": []
    },
    {
      "cell_type": "code",
      "metadata": {
        "colab": {
          "base_uri": "https://localhost:8080/"
        },
        "id": "vbW6QNWsDWmI",
        "outputId": "b84200fe-e0a2-44a4-d7d2-473da7e8155d"
      },
      "source": [
        "\r\n",
        "#batch size\r\n",
        "batch_size = 100\r\n",
        "\r\n",
        "# split data 10% for testing\r\n",
        "test_size = 0.1\r\n",
        "\r\n",
        "# obtain training indices that will be used for validation\r\n",
        "num_train = len(train_dataset)\r\n",
        "\r\n",
        "# mix data\r\n",
        "# index of num of train\r\n",
        "indices = list(range(num_train))\r\n",
        "# random the index\r\n",
        "np.random.shuffle(indices)\r\n",
        "split = int(np.floor(test_size * num_train))\r\n",
        "# divied into two part\r\n",
        "train_idx, test_idx = indices[split:], indices[:split]\r\n",
        "\r\n",
        "# define the sampler\r\n",
        "train_sampler = SubsetRandomSampler(train_idx)\r\n",
        "test_sampler = SubsetRandomSampler(test_idx)\r\n",
        "\r\n",
        "# prepare loaders\r\n",
        "train_loader = torch.utils.data.DataLoader(\r\n",
        "    train_dataset, batch_size=batch_size,\r\n",
        "    sampler=train_sampler)\r\n",
        "\r\n",
        "test_loader = torch.utils.data.DataLoader(\r\n",
        "    test_dataset, batch_size=batch_size,\r\n",
        "    sampler=test_sampler)\r\n",
        "\r\n",
        "print(\"Train dataloader:{}\".format(len(train_loader)))\r\n",
        "print(\"Test dataloader:{}\".format(len(test_loader)))"
      ],
      "execution_count": 42,
      "outputs": [
        {
          "output_type": "stream",
          "text": [
            "Train dataloader:649\n",
            "Test dataloader:73\n"
          ],
          "name": "stdout"
        }
      ]
    },
    {
      "cell_type": "code",
      "metadata": {
        "id": "wH83ebgMDWmK"
      },
      "source": [
        "class LogisticRegressionModel(nn.Module):\r\n",
        "    def __init__(self, input_size, num_classes):\r\n",
        "        super().__init__()\r\n",
        "        self.linear = nn.Linear(input_size, num_classes)\r\n",
        "\r\n",
        "    def forward(self, x):\r\n",
        "        logits  = self.linear(x)\r\n",
        "        probas = F.softmax(logits, dim=1)\r\n",
        "        return logits, probas"
      ],
      "execution_count": 43,
      "outputs": []
    },
    {
      "cell_type": "code",
      "metadata": {
        "colab": {
          "base_uri": "https://localhost:8080/"
        },
        "id": "t5JG3yYrDWmL",
        "outputId": "12c1e635-8a25-4dce-d22a-a51d381ae4fe"
      },
      "source": [
        "'''\r\n",
        "INSTANTIATE MODEL CLASS\r\n",
        "'''\r\n",
        "model = LogisticRegressionModel(input_size=input_dim,\r\n",
        "                                num_classes=output_dim)\r\n",
        "# To enable GPU\r\n",
        "model.to(device)"
      ],
      "execution_count": 44,
      "outputs": [
        {
          "output_type": "execute_result",
          "data": {
            "text/plain": [
              "LogisticRegressionModel(\n",
              "  (linear): Linear(in_features=784, out_features=10, bias=True)\n",
              ")"
            ]
          },
          "metadata": {
            "tags": []
          },
          "execution_count": 44
        }
      ]
    },
    {
      "cell_type": "code",
      "metadata": {
        "id": "hUtj7ZecDWmM"
      },
      "source": [
        "# INSTANTIATE OPTIMIZER CLASS\r\n",
        "optimizer = torch.optim.SGD(model.parameters(), lr=learning_rate)"
      ],
      "execution_count": 45,
      "outputs": []
    },
    {
      "cell_type": "code",
      "metadata": {
        "colab": {
          "base_uri": "https://localhost:8080/"
        },
        "id": "m8epPKzJDWmN",
        "outputId": "9b0da7b5-df8d-4839-a3f6-c1f6c1344511"
      },
      "source": [
        "'''\r\n",
        "TRAIN THE MODEL\r\n",
        "'''\r\n",
        "num_epochs = num_iters / (len(train_dataset) / batch_size)\r\n",
        "num_epochs = int(num_epochs)\r\n",
        "print(num_epochs)\r\n",
        "iteration_loss = []\r\n",
        "iter = 0\r\n",
        "for epoch in range(num_epochs):\r\n",
        "    for i, (images, labels) in enumerate(train_loader):\r\n",
        "\r\n",
        "        images = images.view(-1, 28*28).to(device)\r\n",
        "        labels = labels.to(device)\r\n",
        "\r\n",
        "        # Clear gradients w.r.t. parameters\r\n",
        "        optimizer.zero_grad()\r\n",
        "\r\n",
        "        # Forward pass to get output/logits\r\n",
        "        logits, probas = model(images) \r\n",
        "\r\n",
        "        # Calculate Loss: PyTorch implementation of CrossEntropyLoss works with logits, not probabilities\r\n",
        "        loss = F.cross_entropy(logits, labels)\r\n",
        "\r\n",
        "        # Getting gradients w.r.t. parameters\r\n",
        "        loss.backward()\r\n",
        "\r\n",
        "        # Updating parameters\r\n",
        "        optimizer.step()\r\n",
        "\r\n",
        "        iter += 1\r\n",
        "\r\n",
        "        if iter % 500 == 0:\r\n",
        "            # Calculate Accuracy         \r\n",
        "            correct = 0\r\n",
        "            total = 0\r\n",
        "            # Iterate through test dataset\r\n",
        "            for images, labels in test_loader:\r\n",
        "               \r\n",
        "                images = images.view(-1, 28*28).to(device)\r\n",
        "\r\n",
        "                # Forward pass only to get logits/output\r\n",
        "                logits, probas = model(images)\r\n",
        "\r\n",
        "                # Get predictions from the maximum value\r\n",
        "                _, predicted = torch.max(probas, 1)\r\n",
        "\r\n",
        "                # Total number of labels\r\n",
        "                total += labels.size(0)\r\n",
        "\r\n",
        "\r\n",
        "                # Total correct predictions\r\n",
        "                if torch.cuda.is_available():\r\n",
        "                    correct += (predicted.cpu() == labels.cpu()).sum() \r\n",
        "                else:\r\n",
        "                    correct += (predicted == labels).sum()\r\n",
        "\r\n",
        "            accuracy = 100 * correct.item() / total\r\n",
        "\r\n",
        "            # Print Loss\r\n",
        "            iteration_loss.append(loss.item())\r\n",
        "            print('Iteration: {}. Loss: {}. Accuracy: {}'.format(iter, loss.item(), accuracy))"
      ],
      "execution_count": 46,
      "outputs": [
        {
          "output_type": "stream",
          "text": [
            "10\n",
            "Iteration: 500. Loss: 2.2221107482910156. Accuracy: 20.030538589672403\n",
            "Iteration: 1000. Loss: 2.131715774536133. Accuracy: 23.63964464186563\n",
            "Iteration: 1500. Loss: 2.076960563659668. Accuracy: 25.541365907828983\n",
            "Iteration: 2000. Loss: 2.1200902462005615. Accuracy: 26.52692948362021\n",
            "Iteration: 2500. Loss: 2.01003360748291. Accuracy: 26.929483620210995\n",
            "Iteration: 3000. Loss: 2.101806640625. Accuracy: 26.277068295391448\n",
            "Iteration: 3500. Loss: 2.059678792953491. Accuracy: 28.400888395335926\n",
            "Iteration: 4000. Loss: 1.9633430242538452. Accuracy: 30.108273181565796\n",
            "Iteration: 4500. Loss: 2.0409610271453857. Accuracy: 29.761243753470293\n",
            "Iteration: 5000. Loss: 1.9505518674850464. Accuracy: 29.38645197112715\n",
            "Iteration: 5500. Loss: 1.9451745748519897. Accuracy: 31.135480288728484\n",
            "Iteration: 6000. Loss: 1.9494465589523315. Accuracy: 29.886174347584674\n"
          ],
          "name": "stdout"
        }
      ]
    },
    {
      "cell_type": "code",
      "metadata": {
        "colab": {
          "base_uri": "https://localhost:8080/",
          "height": 317
        },
        "id": "uTyUfBF3DWmP",
        "outputId": "d737d0a9-b7d8-42af-d00c-758901236104"
      },
      "source": [
        "import matplotlib\r\n",
        "import matplotlib.pyplot as plt\r\n",
        "\r\n",
        "print (iteration_loss)\r\n",
        "plt.plot(iteration_loss)\r\n",
        "plt.ylabel('Cross Entropy Loss')\r\n",
        "plt.xlabel('Iteration (in every 500)')\r\n",
        "plt.show()"
      ],
      "execution_count": 47,
      "outputs": [
        {
          "output_type": "stream",
          "text": [
            "[2.2221107482910156, 2.131715774536133, 2.076960563659668, 2.1200902462005615, 2.01003360748291, 2.101806640625, 2.059678792953491, 1.9633430242538452, 2.0409610271453857, 1.9505518674850464, 1.9451745748519897, 1.9494465589523315]\n"
          ],
          "name": "stdout"
        },
        {
          "output_type": "display_data",
          "data": {
            "image/png": "[encoded data removed]",
            "text/plain": [
              "<Figure size 432x288 with 1 Axes>"
            ]
          },
          "metadata": {
            "tags": [],
            "needs_background": "light"
          }
        }
      ]
    },
    {
      "cell_type": "code",
      "metadata": {
        "id": "_o4PxTOnDWmQ"
      },
      "source": [
        "import pickle\r\n",
        "save_model = True\r\n",
        "\r\n",
        "\r\n",
        "if save_model is True:\r\n",
        "    # Saves only parameters\r\n",
        "    # wights & biases\r\n",
        "    torch.save(model.state_dict(), root_path + 'numta_logistic31.pkl') "
      ],
      "execution_count": 48,
      "outputs": []
    },
    {
      "cell_type": "code",
      "metadata": {
        "colab": {
          "base_uri": "https://localhost:8080/"
        },
        "id": "QnGptKM3DWmR",
        "outputId": "f679bcac-2c0f-4b2d-a05c-74dc70d83cea"
      },
      "source": [
        "load_model = True\n",
        "\n",
        "if load_model is True:\n",
        "    model.load_state_dict(torch.load(root_path + 'numta_logistic31.pkl'))\n",
        "    print('Trained Model Loaded')"
      ],
      "execution_count": 49,
      "outputs": [
        {
          "output_type": "stream",
          "text": [
            "Trained Model Loaded\n"
          ],
          "name": "stdout"
        }
      ]
    },
    {
      "cell_type": "code",
      "metadata": {
        "colab": {
          "base_uri": "https://localhost:8080/",
          "height": 109
        },
        "id": "mgEgcEOQDWmS",
        "outputId": "f3b1949e-72ca-4c31-eec8-97682c71d5ba"
      },
      "source": [
        "for images, labels in test_loader:\r\n",
        "    break\r\n",
        "    \r\n",
        "fig, ax = plt.subplots(1, 5)\r\n",
        "for i in range(5):\r\n",
        "    ax[i].imshow(images[i].view(28, 28), cmap=matplotlib.cm.binary)\r\n",
        "\r\n",
        "plt.show()"
      ],
      "execution_count": 50,
      "outputs": [
        {
          "output_type": "display_data",
          "data": {
            "image/png": "[encoded data removed]",
            "text/plain": [
              "<Figure size 432x288 with 5 Axes>"
            ]
          },
          "metadata": {
            "tags": [],
            "needs_background": "light"
          }
        }
      ]
    },
    {
      "cell_type": "code",
      "metadata": {
        "colab": {
          "base_uri": "https://localhost:8080/"
        },
        "id": "LUP89HKmISte",
        "outputId": "864b0757-5dd9-4a48-8faa-7a799510d1f3"
      },
      "source": [
        "_, predictions = model.forward(images[:5].view(-1, 28*28).to(device))\r\n",
        "predictions = torch.argmax(predictions, dim=1)\r\n",
        "print('Predicted labels', predictions.cpu().numpy())"
      ],
      "execution_count": 52,
      "outputs": [
        {
          "output_type": "stream",
          "text": [
            "Predicted labels [4 1 8 4 0]\n"
          ],
          "name": "stdout"
        }
      ]
    },
    {
      "cell_type": "markdown",
      "metadata": {
        "id": "4RqLWA-mSfwu"
      },
      "source": [
        "\r\n",
        "### Settings 4\r\n",
        "- **totaldata:** 72, 045\r\n",
        "- **minibatch:** 128\r\n",
        "- **iterations:** 6,000\r\n",
        "- **learning rate**: 0.002\r\n",
        "-  **epochs** = $iterations \\div \\frac{totaldata}{minibatch} = 6000 \\div \\frac{72045}{128} =10.41\\approx 10$\r\n",
        "- **Input dimension:** $28 \\times 28 = 784$\r\n",
        "- **Output dimension: 10**\r\n",
        "  - 0, 1, 2, 3, 4, 5, 6, 7, 8, 9"
      ]
    },
    {
      "cell_type": "code",
      "metadata": {
        "id": "W1zPBD7HSfw6"
      },
      "source": [
        "# Hyperparameters\r\n",
        "\r\n",
        "batch_size = 128\r\n",
        "num_iters = 6000\r\n",
        "input_dim = 28*28 # num_features = 784\r\n",
        "output_dim = 10\r\n",
        "\r\n",
        "learning_rate = 0.002\r\n",
        "# Device\r\n",
        "device = torch.device(\"cuda:0\" if torch.cuda.is_available() else \"cpu\")"
      ],
      "execution_count": null,
      "outputs": []
    },
    {
      "cell_type": "code",
      "metadata": {
        "colab": {
          "base_uri": "https://localhost:8080/"
        },
        "id": "HZhwuRyqSfw9",
        "outputId": "42dbb515-0acb-4d92-e4ba-51827924bad0"
      },
      "source": [
        "\r\n",
        "#batch size\r\n",
        "batch_size = 128\r\n",
        "\r\n",
        "# split data 10% for testing\r\n",
        "test_size = 0.1\r\n",
        "\r\n",
        "# obtain training indices that will be used for validation\r\n",
        "num_train = len(train_dataset)\r\n",
        "\r\n",
        "# mix data\r\n",
        "# index of num of train\r\n",
        "indices = list(range(num_train))\r\n",
        "# random the index\r\n",
        "np.random.shuffle(indices)\r\n",
        "split = int(np.floor(test_size * num_train))\r\n",
        "# divied into two part\r\n",
        "train_idx, test_idx = indices[split:], indices[:split]\r\n",
        "\r\n",
        "# define the sampler\r\n",
        "train_sampler = SubsetRandomSampler(train_idx)\r\n",
        "test_sampler = SubsetRandomSampler(test_idx)\r\n",
        "\r\n",
        "# prepare loaders\r\n",
        "train_loader = torch.utils.data.DataLoader(\r\n",
        "    train_dataset, batch_size=batch_size,\r\n",
        "    sampler=train_sampler)\r\n",
        "\r\n",
        "test_loader = torch.utils.data.DataLoader(\r\n",
        "    test_dataset, batch_size=batch_size,\r\n",
        "    sampler=test_sampler)\r\n",
        "\r\n",
        "print(\"Train dataloader:{}\".format(len(train_loader)))\r\n",
        "print(\"Test dataloader:{}\".format(len(test_loader)))"
      ],
      "execution_count": null,
      "outputs": [
        {
          "output_type": "stream",
          "text": [
            "Train dataloader:507\n",
            "Test dataloader:57\n"
          ],
          "name": "stdout"
        }
      ]
    },
    {
      "cell_type": "code",
      "metadata": {
        "id": "3EF8SnzTSfw_"
      },
      "source": [
        "class LogisticRegressionModel(nn.Module):\r\n",
        "    def __init__(self, input_size, num_classes):\r\n",
        "        super().__init__()\r\n",
        "        self.linear = nn.Linear(input_size, num_classes)\r\n",
        "\r\n",
        "    def forward(self, x):\r\n",
        "        logits  = self.linear(x)\r\n",
        "        probas = F.softmax(logits, dim=1)\r\n",
        "        return logits, probas"
      ],
      "execution_count": null,
      "outputs": []
    },
    {
      "cell_type": "code",
      "metadata": {
        "colab": {
          "base_uri": "https://localhost:8080/"
        },
        "id": "vMf5_tLqSfxB",
        "outputId": "3d2fa6dc-7315-40e9-e9a8-703e5cb5923d"
      },
      "source": [
        "'''\r\n",
        "INSTANTIATE MODEL CLASS\r\n",
        "'''\r\n",
        "model = LogisticRegressionModel(input_size=input_dim,\r\n",
        "                                num_classes=output_dim)\r\n",
        "# To enable GPU\r\n",
        "model.to(device)"
      ],
      "execution_count": null,
      "outputs": [
        {
          "output_type": "execute_result",
          "data": {
            "text/plain": [
              "LogisticRegressionModel(\n",
              "  (linear): Linear(in_features=784, out_features=10, bias=True)\n",
              ")"
            ]
          },
          "metadata": {
            "tags": []
          },
          "execution_count": 69
        }
      ]
    },
    {
      "cell_type": "code",
      "metadata": {
        "id": "jW2QCA6ESfxC"
      },
      "source": [
        "# INSTANTIATE OPTIMIZER CLASS\r\n",
        "optimizer = torch.optim.SGD(model.parameters(), lr=learning_rate)"
      ],
      "execution_count": null,
      "outputs": []
    },
    {
      "cell_type": "code",
      "metadata": {
        "colab": {
          "base_uri": "https://localhost:8080/"
        },
        "id": "KwjaeuMeSfxG",
        "outputId": "f158bc4f-4792-41f1-a8f0-3e09d31dc8a2"
      },
      "source": [
        "'''\r\n",
        "TRAIN THE MODEL\r\n",
        "'''\r\n",
        "num_epochs = num_iters / (len(train_dataset) / batch_size)\r\n",
        "num_epochs = int(num_epochs)\r\n",
        "print(num_epochs)\r\n",
        "iteration_loss = []\r\n",
        "iter = 0\r\n",
        "for epoch in range(num_epochs):\r\n",
        "    for i, (images, labels) in enumerate(train_loader):\r\n",
        "\r\n",
        "        images = images.view(-1, 28*28).to(device)\r\n",
        "        labels = labels.to(device)\r\n",
        "\r\n",
        "        # Clear gradients w.r.t. parameters\r\n",
        "        optimizer.zero_grad()\r\n",
        "\r\n",
        "        # Forward pass to get output/logits\r\n",
        "        logits, probas = model(images) \r\n",
        "\r\n",
        "        # Calculate Loss: PyTorch implementation of CrossEntropyLoss works with logits, not probabilities\r\n",
        "        loss = F.cross_entropy(logits, labels)\r\n",
        "\r\n",
        "        # Getting gradients w.r.t. parameters\r\n",
        "        loss.backward()\r\n",
        "\r\n",
        "        # Updating parameters\r\n",
        "        optimizer.step()\r\n",
        "\r\n",
        "        iter += 1\r\n",
        "\r\n",
        "        if iter % 500 == 0:\r\n",
        "            # Calculate Accuracy         \r\n",
        "            correct = 0\r\n",
        "            total = 0\r\n",
        "            # Iterate through test dataset\r\n",
        "            for images, labels in test_loader:\r\n",
        "               \r\n",
        "                images = images.view(-1, 28*28).to(device)\r\n",
        "\r\n",
        "                # Forward pass only to get logits/output\r\n",
        "                logits, probas = model(images)\r\n",
        "\r\n",
        "                # Get predictions from the maximum value\r\n",
        "                _, predicted = torch.max(probas, 1)\r\n",
        "\r\n",
        "                # Total number of labels\r\n",
        "                total += labels.size(0)\r\n",
        "\r\n",
        "\r\n",
        "                # Total correct predictions\r\n",
        "                if torch.cuda.is_available():\r\n",
        "                    correct += (predicted.cpu() == labels.cpu()).sum() \r\n",
        "                else:\r\n",
        "                    correct += (predicted == labels).sum()\r\n",
        "\r\n",
        "            accuracy = 100 * correct.item() / total\r\n",
        "\r\n",
        "            # Print Loss\r\n",
        "            iteration_loss.append(loss.item())\r\n",
        "            print('Iteration: {}. Loss: {}. Accuracy: {}'.format(iter, loss.item(), accuracy))"
      ],
      "execution_count": null,
      "outputs": [
        {
          "output_type": "stream",
          "text": [
            "10\n",
            "Iteration: 500. Loss: 2.1461260318756104. Accuracy: 22.903942254303164\n",
            "Iteration: 1000. Loss: 2.005657434463501. Accuracy: 24.639089394780676\n",
            "Iteration: 1500. Loss: 2.045494318008423. Accuracy: 27.012770682953914\n",
            "Iteration: 2000. Loss: 2.0088741779327393. Accuracy: 27.77623542476402\n",
            "Iteration: 2500. Loss: 2.0357444286346436. Accuracy: 28.400888395335926\n",
            "Iteration: 3000. Loss: 1.9676835536956787. Accuracy: 28.178789561354805\n",
            "Iteration: 3500. Loss: 2.0330820083618164. Accuracy: 30.83009439200444\n",
            "Iteration: 4000. Loss: 1.8157070875167847. Accuracy: 31.593559133814548\n",
            "Iteration: 4500. Loss: 1.8639787435531616. Accuracy: 33.23153803442532\n",
            "Iteration: 5000. Loss: 1.9355225563049316. Accuracy: 33.24541921154914\n"
          ],
          "name": "stdout"
        }
      ]
    },
    {
      "cell_type": "code",
      "metadata": {
        "colab": {
          "base_uri": "https://localhost:8080/"
        },
        "id": "QhbmlgoXXL-f",
        "outputId": "46f9974e-7aa3-4412-9d51-299201717c07"
      },
      "source": [
        "print(iter)"
      ],
      "execution_count": null,
      "outputs": [
        {
          "output_type": "stream",
          "text": [
            "5070\n"
          ],
          "name": "stdout"
        }
      ]
    },
    {
      "cell_type": "code",
      "metadata": {
        "colab": {
          "base_uri": "https://localhost:8080/",
          "height": 317
        },
        "id": "pF9rAaSqSfxI",
        "outputId": "ed517060-486e-4e8a-b7e3-cc8f3c627d0f"
      },
      "source": [
        "import matplotlib\n",
        "import matplotlib.pyplot as plt\n",
        "\n",
        "print (iteration_loss)\n",
        "plt.plot(iteration_loss)\n",
        "plt.ylabel('Cross Entropy Loss')\n",
        "plt.xlabel('Iteration (in every 500)')\n",
        "plt.show()"
      ],
      "execution_count": null,
      "outputs": [
        {
          "output_type": "stream",
          "text": [
            "[2.1461260318756104, 2.005657434463501, 2.045494318008423, 2.0088741779327393, 2.0357444286346436, 1.9676835536956787, 2.0330820083618164, 1.8157070875167847, 1.8639787435531616, 1.9355225563049316]\n"
          ],
          "name": "stdout"
        },
        {
          "output_type": "display_data",
          "data": {
            "image/png": "[encoded data removed]",
            "text/plain": [
              "<Figure size 432x288 with 1 Axes>"
            ]
          },
          "metadata": {
            "tags": [],
            "needs_background": "light"
          }
        }
      ]
    },
    {
      "cell_type": "markdown",
      "metadata": {
        "id": "URnvdn99K-o_"
      },
      "source": [
        "\r\n",
        "### Settings 5\r\n",
        "- **totaldata:** 72, 045\r\n",
        "- **minibatch:** 128\r\n",
        "- **iterations:** 6,000\r\n",
        "- **learning rate**: 0.01\r\n",
        "-  **epochs** = $iterations \\div \\frac{totaldata}{minibatch} = 6000 \\div \\frac{72045}{128} =10.41\\approx 10$\r\n",
        "- **Input dimension:** $28 \\times 28 = 784$\r\n",
        "- **Output dimension: 10**\r\n",
        "  - 0, 1, 2, 3, 4, 5, 6, 7, 8, 9"
      ]
    },
    {
      "cell_type": "code",
      "metadata": {
        "id": "OsIhhqmjK-pH"
      },
      "source": [
        "# Hyperparameters\r\n",
        "\r\n",
        "batch_size = 128\r\n",
        "num_iters = 6000\r\n",
        "input_dim = 28*28 # num_features = 784\r\n",
        "output_dim = 10\r\n",
        "\r\n",
        "learning_rate = 0.01\r\n",
        "# Device\r\n",
        "device = torch.device(\"cuda:0\" if torch.cuda.is_available() else \"cpu\")"
      ],
      "execution_count": 53,
      "outputs": []
    },
    {
      "cell_type": "code",
      "metadata": {
        "colab": {
          "base_uri": "https://localhost:8080/"
        },
        "id": "jjuGvKnXK-pJ",
        "outputId": "86852d35-19ca-4d1d-d265-954c902866e5"
      },
      "source": [
        "\r\n",
        "#batch size\r\n",
        "batch_size = 128\r\n",
        "\r\n",
        "# split data 10% for testing\r\n",
        "test_size = 0.1\r\n",
        "\r\n",
        "# obtain training indices that will be used for validation\r\n",
        "num_train = len(train_dataset)\r\n",
        "\r\n",
        "# mix data\r\n",
        "# index of num of train\r\n",
        "indices = list(range(num_train))\r\n",
        "# random the index\r\n",
        "np.random.shuffle(indices)\r\n",
        "split = int(np.floor(test_size * num_train))\r\n",
        "# divied into two part\r\n",
        "train_idx, test_idx = indices[split:], indices[:split]\r\n",
        "\r\n",
        "# define the sampler\r\n",
        "train_sampler = SubsetRandomSampler(train_idx)\r\n",
        "test_sampler = SubsetRandomSampler(test_idx)\r\n",
        "\r\n",
        "# prepare loaders\r\n",
        "train_loader = torch.utils.data.DataLoader(\r\n",
        "    train_dataset, batch_size=batch_size,\r\n",
        "    sampler=train_sampler)\r\n",
        "\r\n",
        "test_loader = torch.utils.data.DataLoader(\r\n",
        "    test_dataset, batch_size=batch_size,\r\n",
        "    sampler=test_sampler)\r\n",
        "\r\n",
        "print(\"Train dataloader:{}\".format(len(train_loader)))\r\n",
        "print(\"Test dataloader:{}\".format(len(test_loader)))"
      ],
      "execution_count": 54,
      "outputs": [
        {
          "output_type": "stream",
          "text": [
            "Train dataloader:507\n",
            "Test dataloader:57\n"
          ],
          "name": "stdout"
        }
      ]
    },
    {
      "cell_type": "code",
      "metadata": {
        "id": "z64I0DU5K-pL"
      },
      "source": [
        "class LogisticRegressionModel(nn.Module):\r\n",
        "    def __init__(self, input_size, num_classes):\r\n",
        "        super().__init__()\r\n",
        "        self.linear = nn.Linear(input_size, num_classes)\r\n",
        "\r\n",
        "    def forward(self, x):\r\n",
        "        logits  = self.linear(x)\r\n",
        "        probas = F.softmax(logits, dim=1)\r\n",
        "        return logits, probas"
      ],
      "execution_count": 55,
      "outputs": []
    },
    {
      "cell_type": "code",
      "metadata": {
        "colab": {
          "base_uri": "https://localhost:8080/"
        },
        "id": "rYo6473EK-pO",
        "outputId": "145cfd95-845c-4768-e67d-7cb529247d48"
      },
      "source": [
        "'''\r\n",
        "INSTANTIATE MODEL CLASS\r\n",
        "'''\r\n",
        "model = LogisticRegressionModel(input_size=input_dim,\r\n",
        "                                num_classes=output_dim)\r\n",
        "# To enable GPU\r\n",
        "model.to(device)"
      ],
      "execution_count": 56,
      "outputs": [
        {
          "output_type": "execute_result",
          "data": {
            "text/plain": [
              "LogisticRegressionModel(\n",
              "  (linear): Linear(in_features=784, out_features=10, bias=True)\n",
              ")"
            ]
          },
          "metadata": {
            "tags": []
          },
          "execution_count": 56
        }
      ]
    },
    {
      "cell_type": "code",
      "metadata": {
        "id": "e7xG6o1WK-pP"
      },
      "source": [
        "# INSTANTIATE OPTIMIZER CLASS\r\n",
        "optimizer = torch.optim.SGD(model.parameters(), lr=learning_rate)"
      ],
      "execution_count": 57,
      "outputs": []
    },
    {
      "cell_type": "code",
      "metadata": {
        "colab": {
          "base_uri": "https://localhost:8080/"
        },
        "id": "Vl-i_e4qK-pT",
        "outputId": "76d68fb4-cb0a-4ad9-af21-c95cab04ba84"
      },
      "source": [
        "'''\r\n",
        "TRAIN THE MODEL\r\n",
        "'''\r\n",
        "num_epochs = num_iters / (len(train_dataset) / batch_size)\r\n",
        "num_epochs = int(num_epochs)\r\n",
        "print(num_epochs)\r\n",
        "iteration_loss = []\r\n",
        "iter = 0\r\n",
        "for epoch in range(num_epochs):\r\n",
        "    for i, (images, labels) in enumerate(train_loader):\r\n",
        "\r\n",
        "        images = images.view(-1, 28*28).to(device)\r\n",
        "        labels = labels.to(device)\r\n",
        "\r\n",
        "        # Clear gradients w.r.t. parameters\r\n",
        "        optimizer.zero_grad()\r\n",
        "\r\n",
        "        # Forward pass to get output/logits\r\n",
        "        logits, probas = model(images) \r\n",
        "\r\n",
        "        # Calculate Loss: PyTorch implementation of CrossEntropyLoss works with logits, not probabilities\r\n",
        "        loss = F.cross_entropy(logits, labels)\r\n",
        "\r\n",
        "        # Getting gradients w.r.t. parameters\r\n",
        "        loss.backward()\r\n",
        "\r\n",
        "        # Updating parameters\r\n",
        "        optimizer.step()\r\n",
        "\r\n",
        "        iter += 1\r\n",
        "\r\n",
        "        if iter % 500 == 0:\r\n",
        "            # Calculate Accuracy         \r\n",
        "            correct = 0\r\n",
        "            total = 0\r\n",
        "            # Iterate through test dataset\r\n",
        "            for images, labels in test_loader:\r\n",
        "               \r\n",
        "                images = images.view(-1, 28*28).to(device)\r\n",
        "\r\n",
        "                # Forward pass only to get logits/output\r\n",
        "                logits, probas = model(images)\r\n",
        "\r\n",
        "                # Get predictions from the maximum value\r\n",
        "                _, predicted = torch.max(probas, 1)\r\n",
        "\r\n",
        "                # Total number of labels\r\n",
        "                total += labels.size(0)\r\n",
        "\r\n",
        "\r\n",
        "                # Total correct predictions\r\n",
        "                if torch.cuda.is_available():\r\n",
        "                    correct += (predicted.cpu() == labels.cpu()).sum() \r\n",
        "                else:\r\n",
        "                    correct += (predicted == labels).sum()\r\n",
        "\r\n",
        "            accuracy = 100 * correct.item() / total\r\n",
        "\r\n",
        "            # Print Loss\r\n",
        "            iteration_loss.append(loss.item())\r\n",
        "            print('Iteration: {}. Loss: {}. Accuracy: {}'.format(iter, loss.item(), accuracy))"
      ],
      "execution_count": 58,
      "outputs": [
        {
          "output_type": "stream",
          "text": [
            "10\n",
            "Iteration: 500. Loss: 1.984052062034607. Accuracy: 26.124375347029428\n",
            "Iteration: 1000. Loss: 1.9413270950317383. Accuracy: 30.60799555802332\n",
            "Iteration: 1500. Loss: 1.8513402938842773. Accuracy: 30.88561910049972\n",
            "Iteration: 2000. Loss: 1.7977619171142578. Accuracy: 36.937812326485286\n",
            "Iteration: 2500. Loss: 1.7069408893585205. Accuracy: 33.717379233759026\n",
            "Iteration: 3000. Loss: 1.8631842136383057. Accuracy: 36.86840644086619\n",
            "Iteration: 3500. Loss: 1.8307148218154907. Accuracy: 37.15991116046641\n",
            "Iteration: 4000. Loss: 1.8425114154815674. Accuracy: 36.74347584675181\n",
            "Iteration: 4500. Loss: 1.8674074411392212. Accuracy: 37.04886174347585\n",
            "Iteration: 5000. Loss: 1.6867579221725464. Accuracy: 39.97779011660189\n"
          ],
          "name": "stdout"
        }
      ]
    },
    {
      "cell_type": "code",
      "metadata": {
        "colab": {
          "base_uri": "https://localhost:8080/",
          "height": 317
        },
        "id": "lJzDFzcRK-pW",
        "outputId": "d0bcd403-e846-4199-d8eb-b3e3a99c7cb8"
      },
      "source": [
        "import matplotlib\n",
        "import matplotlib.pyplot as plt\n",
        "\n",
        "print (iteration_loss)\n",
        "plt.plot(iteration_loss)\n",
        "plt.ylabel('Cross Entropy Loss')\n",
        "plt.xlabel('Iteration (in every 500)')\n",
        "plt.show()"
      ],
      "execution_count": 59,
      "outputs": [
        {
          "output_type": "stream",
          "text": [
            "[1.984052062034607, 1.9413270950317383, 1.8513402938842773, 1.7977619171142578, 1.7069408893585205, 1.8631842136383057, 1.8307148218154907, 1.8425114154815674, 1.8674074411392212, 1.6867579221725464]\n"
          ],
          "name": "stdout"
        },
        {
          "output_type": "display_data",
          "data": {
            "image/png": "[encoded data removed]",
            "text/plain": [
              "<Figure size 432x288 with 1 Axes>"
            ]
          },
          "metadata": {
            "tags": [],
            "needs_background": "light"
          }
        }
      ]
    },
    {
      "cell_type": "code",
      "metadata": {
        "id": "xhQ5jbtgO5Sd"
      },
      "source": [
        "import pickle\r\n",
        "save_model = True\r\n",
        "\r\n",
        "\r\n",
        "if save_model is True:\r\n",
        "    # Saves only parameters\r\n",
        "    # wights & biases\r\n",
        "    torch.save(model.state_dict(), root_path + 'numta_logistic128_39.pkl') "
      ],
      "execution_count": 60,
      "outputs": []
    },
    {
      "cell_type": "code",
      "metadata": {
        "colab": {
          "base_uri": "https://localhost:8080/"
        },
        "id": "qg6Ka9pXO5Sg",
        "outputId": "4a4771ff-caa9-41b7-d339-c39a15cf5b6d"
      },
      "source": [
        "load_model = True\n",
        "\n",
        "if load_model is True:\n",
        "    model.load_state_dict(torch.load(root_path + 'numta_logistic128_39.pkl'))\n",
        "    print('Trained Model Loaded')"
      ],
      "execution_count": 61,
      "outputs": [
        {
          "output_type": "stream",
          "text": [
            "Trained Model Loaded\n"
          ],
          "name": "stdout"
        }
      ]
    },
    {
      "cell_type": "markdown",
      "metadata": {
        "id": "VOIucxY994pL"
      },
      "source": [
        "### **Result Analysis**"
      ]
    },
    {
      "cell_type": "markdown",
      "metadata": {
        "id": "mrpAYMcgQuZp"
      },
      "source": [
        "The hyperparameters are varied and tried out for different possibilities to get the best result. The following comparisions are seen while testing the dataset.\r\n",
        "\r\n",
        "1. **Batch size**: A hyperparameter of gradient descent that controls the number of training samples to work through before the model’s internal parameters are updated.\r\n",
        "2. **Epoch**: A hyperparameter that controls the number of complete passes through the training dataset. \r\n",
        "1. **Learning rate**: The amount with which the weights are updated to help the gradient descent converge.\r\n",
        "1. **Iteration:** The number of batches needed to complete one epoch.\r\n",
        "2. **Accuracy:** An evaluation metric used to predict the correctness of a machine learning model.\r\n",
        "\r\n",
        "\r\n",
        "\r\n"
      ]
    },
    {
      "cell_type": "markdown",
      "metadata": {
        "id": "MNn5BqcN8ET3"
      },
      "source": [
        "|   Mini-Batch Size   | Iterations   | Learning Rate| Accuracy     |Num of Epochs    |\r\n",
        "| :-------------:| :----------: | :-----------:|:-----------:|:-----------:|\r\n",
        "|      32        | 11500         | 0.005       |**40.63%**      |5            |\r\n",
        "| 64             | 8000         | 0.005        |37.40%       |7            |\r\n",
        "|100              |7500          | 0.001        |31.13%       |10            |\r\n",
        "|128             |6000        | 0.002        |33.24%       |10           |\r\n",
        "|128             |6000         |0.01          |39.97%       |10           |"
      ]
    },
    {
      "cell_type": "markdown",
      "metadata": {
        "id": "asUmqjNUQQd_"
      },
      "source": [
        "Here, we can see that in the first case for a smaller minibatch and higher iteration with lr=0.005 we get the best accuracy 40.63%.\r\n",
        "\r\n",
        "For batch size 128 for 2 different **learning rates** and comparitively lower iteration the results vary about (33.24-39.97)$\\approx 6$. So, changes in lr can bring a good impact on the performance of a model. \r\n",
        "\r\n",
        "It can be said that there is no fixed rule to configure the parameters. Different values should be tried out to get the best result for the problem."
      ]
    }
  ]
}